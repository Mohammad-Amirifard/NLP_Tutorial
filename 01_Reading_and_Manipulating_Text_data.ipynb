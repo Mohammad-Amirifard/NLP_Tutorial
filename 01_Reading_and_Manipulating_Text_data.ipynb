{
  "cells": [
    {
      "cell_type": "markdown",
      "metadata": {
        "id": "view-in-github",
        "colab_type": "text"
      },
      "source": [
        "<a href=\"https://colab.research.google.com/github/Mohammad-Amirifard/NLP_Tutorial/blob/main/01_Reading_and_Manipulating_Text_data.ipynb\" target=\"_parent\"><img src=\"https://colab.research.google.com/assets/colab-badge.svg\" alt=\"Open In Colab\"/></a>"
      ]
    },
    {
      "cell_type": "markdown",
      "source": [
        "# **Learn Natural Language Processing better in a practical Mode**\n",
        "\n",
        "Created By [Mohammad Amirifard](https://www.linkedin.com/in/mohammad-amirifard/)\n",
        "\n",
        "\n",
        "<img src=\"https://th.bing.com/th/id/R.481b9fae699f7619971167cade786c60?rik=PWShnQ5jIirVIA&riu=http%3a%2f%2fwww.marktechpost.com%2fwp-content%2fuploads%2f2022%2f11%2f233-scaled.jpg&ehk=hvDRc3N3UsK9xB5jAui%2b9p1VW98U8f6uUCoUncfmRbY%3d&risl=&pid=ImgRaw&r=0\" alt=\"Image\" width=\"800\" height=\"400\" />\n",
        "\n",
        "# **Structure of notebooks**\n",
        "`This NLP Tutorial includes several notebooks regarding different parts.`\n",
        "\n",
        "This is **notebook number 1**, called **Reading and Manipulating Text data**\n",
        "\n",
        "For other notebooks you can use the following links:\n",
        "\n",
        "\n",
        "1.   Notebook number 1, [Part1_EDA](https://github.com/Mohammad-Amirifard/Intrusion_Detection/blob/main/Notebooks/Part1_EDA.ipynb)\n",
        "2.   Notebook number 2, [Part2_KNN_Models](https://github.com/Mohammad-Amirifard/Intrusion_Detection/blob/main/Notebooks/Part2_KNN_Models.ipynb)\n",
        "3.   Notebook number 3, [Part3_SVM_Models](https://github.com/Mohammad-Amirifard/Intrusion_Detection/blob/main/Notebooks/Part3_SVM_Models.ipynb)\n",
        "4.   Notebook number 4, [Part4_Gboost_Model](https://github.com/Mohammad-Amirifard/Intrusion_Detection/blob/main/Notebooks/Part4_GBoost_Model.ipynb)\n",
        "5.   Notebook number 5, [Part5_MLP_Model](https://github.com/Mohammad-Amirifard/Intrusion_Detection/blob/main/Notebooks/Part5_MLP_Model.ipynb)\n",
        "6.   Notebook number 6, [Part6_Conclusion](https://github.com/Mohammad-Amirifard/Intrusion_Detection/blob/main/Notebooks/Part6_Conclusion.ipynb)"
      ],
      "metadata": {
        "id": "odVEn2zybWZh"
      }
    },
    {
      "cell_type": "markdown",
      "metadata": {
        "id": "H9fk15RybKqy"
      },
      "source": [
        "#1_Load text from String\n",
        "\n",
        "In Python, a string is a sequence of characters used to represent textual data—such as a sentence, paragraph, or even an entire document. Strings are a fundamental data type that allow you to store and manipulate text efficiently.\n",
        "\n",
        "To illustrate this, let’s begin by creating a Python variable named `string_example` that holds a brief document in the form of a string. Once the variable is defined, we can simply type its name to display its contents\n"
      ]
    },
    {
      "cell_type": "code",
      "execution_count": 2,
      "metadata": {
        "id": "XzuBscVnbKqz",
        "colab": {
          "base_uri": "https://localhost:8080/"
        },
        "outputId": "eb2988d5-5cad-434b-9c86-6c28146dc039"
      },
      "outputs": [
        {
          "output_type": "stream",
          "name": "stdout",
          "text": [
            "Created string is:\n",
            "Hello, I am Mohammad Amirifard. I am a student and want to create this tutorial to help myself and others in learning NLP\n"
          ]
        }
      ],
      "source": [
        "string_example = 'Hello, I am Mohammad Amirifard. I am a student and want to create this tutorial to help myself and others in learning NLP'\n",
        "print(\"Created string is:\")\n",
        "print(string_example)"
      ]
    },
    {
      "cell_type": "markdown",
      "source": [
        "## String length"
      ],
      "metadata": {
        "id": "hOyZfFYFeYvf"
      }
    },
    {
      "cell_type": "code",
      "execution_count": 7,
      "metadata": {
        "id": "B0KzLRCjbKq0",
        "colab": {
          "base_uri": "https://localhost:8080/"
        },
        "outputId": "288003a7-01b3-4bf0-f7b9-37f900b4c9a1"
      },
      "outputs": [
        {
          "output_type": "stream",
          "name": "stdout",
          "text": [
            "Length of the created string is:\n",
            "121\n"
          ]
        }
      ],
      "source": [
        "print(\"Length of the created string is:\")\n",
        "print(len(string_example))\n"
      ]
    },
    {
      "cell_type": "code",
      "source": [
        "print(len('I am'))  # This will return 4, as it counts 'I', ' ', 'a', and 'm'."
      ],
      "metadata": {
        "colab": {
          "base_uri": "https://localhost:8080/"
        },
        "id": "5p-irZ0pfQoz",
        "outputId": "8fb0d589-aad7-464a-c94f-df930ef7e1fa"
      },
      "execution_count": 9,
      "outputs": [
        {
          "output_type": "stream",
          "name": "stdout",
          "text": [
            "4\n"
          ]
        }
      ]
    },
    {
      "cell_type": "markdown",
      "metadata": {
        "id": "NlH3zCkHbKq0"
      },
      "source": [
        "## String split\n",
        "We can segment a sentence into individual words by splitting it based on whitespace (including spaces, tabs, etc.).\n",
        "\n",
        "In natural language processing (NLP), this process is referred to as **tokenization**."
      ]
    },
    {
      "cell_type": "code",
      "execution_count": 10,
      "metadata": {
        "id": "826CWmTnbKq0",
        "colab": {
          "base_uri": "https://localhost:8080/"
        },
        "outputId": "e9bdfae0-54cc-40b9-90a0-40aab8e2aa33"
      },
      "outputs": [
        {
          "output_type": "stream",
          "name": "stdout",
          "text": [
            "Splitting the created string into words:\n",
            "['Hello,', 'I', 'am', 'Mohammad', 'Amirifard.', 'I', 'am', 'a', 'student', 'and', 'want', 'to', 'create', 'this', 'tutorial', 'to', 'help', 'myself', 'and', 'others', 'in', 'learning', 'NLP']\n"
          ]
        }
      ],
      "source": [
        "print(\"Splitting the created string based on the white space into words:\")\n",
        "print(string_example.split())\n"
      ]
    },
    {
      "cell_type": "markdown",
      "metadata": {
        "id": "X7VvLRsobKq1"
      },
      "source": [
        "The sentence need not be split solely by whitespace; it can also be divided using any arbitrary substring.\n",
        "\n",
        "For instance, one could split the text using a comma (',') as the delimiter."
      ]
    },
    {
      "cell_type": "code",
      "execution_count": 11,
      "metadata": {
        "id": "ahRXQem1bKq1",
        "colab": {
          "base_uri": "https://localhost:8080/"
        },
        "outputId": "c6b10905-1bea-4e13-e8ca-d017914037c8"
      },
      "outputs": [
        {
          "output_type": "stream",
          "name": "stdout",
          "text": [
            "Splitting the created string based on the comma into words:\n",
            "['Hello', ' I am Mohammad Amirifard. I am a student and want to create this tutorial to help myself and others in learning NLP']\n"
          ]
        }
      ],
      "source": [
        "print(\"Splitting the created string based on the comma into words:\")\n",
        "print(string_example.split(','))"
      ]
    },
    {
      "cell_type": "code",
      "source": [
        "print(\"Splitting the created string based on the dot into words:\")\n",
        "print(string_example.split('.'))"
      ],
      "metadata": {
        "colab": {
          "base_uri": "https://localhost:8080/"
        },
        "id": "_Wzg7kSCg0iF",
        "outputId": "2acc5471-59a7-45a2-e50b-e0f4c710d338"
      },
      "execution_count": 12,
      "outputs": [
        {
          "output_type": "stream",
          "name": "stdout",
          "text": [
            "Splitting the created string based on the dot into words:\n",
            "['Hello, I am Mohammad Amirifard', ' I am a student and want to create this tutorial to help myself and others in learning NLP']\n"
          ]
        }
      ]
    },
    {
      "cell_type": "markdown",
      "source": [
        "## Sentence Length"
      ],
      "metadata": {
        "id": "z4fWcIzthAya"
      }
    },
    {
      "cell_type": "markdown",
      "metadata": {
        "id": "04A8J71QbKq1"
      },
      "source": [
        "How many words are there in the document?"
      ]
    },
    {
      "cell_type": "code",
      "execution_count": 14,
      "metadata": {
        "id": "03XDB4C1bKq2",
        "colab": {
          "base_uri": "https://localhost:8080/"
        },
        "outputId": "9c2aa48a-b565-431b-aafa-12b9385a0761"
      },
      "outputs": [
        {
          "output_type": "stream",
          "name": "stdout",
          "text": [
            "Number of words in the created string(document) is:\n",
            "23\n"
          ]
        }
      ],
      "source": [
        "words = string_example.split()\n",
        "print(\"Number of words in the created string(document) is:\")\n",
        "print(len(words))\n"
      ]
    },
    {
      "cell_type": "markdown",
      "metadata": {
        "id": "3Bwb2-TTbKq2"
      },
      "source": [
        "## Lowercase"
      ]
    },
    {
      "cell_type": "code",
      "execution_count": 16,
      "metadata": {
        "id": "-utEyCjZbKq2",
        "colab": {
          "base_uri": "https://localhost:8080/"
        },
        "outputId": "0540c374-fc7e-449f-a577-f3539b90cf13"
      },
      "outputs": [
        {
          "output_type": "stream",
          "name": "stdout",
          "text": [
            "Noraml view of the created string is:\n",
            "Hello, I am Mohammad Amirifard. I am a student and want to create this tutorial to help myself and others in learning NLP\n",
            "****************************************************************************************************\n",
            "Lowercase of the created string is:\n",
            "hello, i am mohammad amirifard. i am a student and want to create this tutorial to help myself and others in learning nlp\n"
          ]
        }
      ],
      "source": [
        "print(\"Noraml view of the created string is:\")\n",
        "print(string_example)\n",
        "print(\"*\"*100)\n",
        "print(\"Lowercase of the created string is:\")\n",
        "print(string_example.lower())\n"
      ]
    },
    {
      "cell_type": "markdown",
      "metadata": {
        "id": "qgR1MpJWbKq2"
      },
      "source": [
        "#2_Loading Text from a File\n",
        "The following section demonstrates how to load a longer document from the text file 'One_Story.txt'.\n",
        "\n",
        "Prerequisites:\n",
        "1. Ensure the file \"One_Story.txt\" has been downloaded from the \"docs\" directory"
      ]
    },
    {
      "cell_type": "code",
      "execution_count": 97,
      "metadata": {
        "id": "Zw9JB10EbKq2"
      },
      "outputs": [],
      "source": [
        "with open(\"/content/docs/One_Story.txt\") as f:\n",
        "    document = f.read()"
      ]
    },
    {
      "cell_type": "markdown",
      "metadata": {
        "id": "4gPJhHrEbKq3"
      },
      "source": [
        "Print out the text as Python sees it:"
      ]
    },
    {
      "cell_type": "code",
      "execution_count": 98,
      "metadata": {
        "id": "27CsU1gbbKq3",
        "colab": {
          "base_uri": "https://localhost:8080/",
          "height": 157
        },
        "outputId": "f68b7e3a-ca01-41bd-f9d6-50e47453e4a6"
      },
      "outputs": [
        {
          "output_type": "stream",
          "name": "stdout",
          "text": [
            "Show the text without print command:\n",
            "****************************************************************************************************\n"
          ]
        },
        {
          "output_type": "execute_result",
          "data": {
            "text/plain": [
              "'The Last Letter\\n\\nThe train was late again.\\n\\n\"()\"Eli sat on the cold bench of platform 9, clutching a worn envelope in his coat pocket. His fingers trembled—not from the chill of the late autumn air, but from the weight of the words inside that envelope. He’d written the letter three weeks ago but hadn’t found the courage to send it. Today, he would hand it over in person.\\n\\nThe letter was for Lila.\\n\\nThey hadn’t spoken in over a year. Not since the argument, the slammed door, and the silence that followed like fog over a quiet lake. But Lila was coming home for her father’s memorial, and Eli had promised himself he’d try to make things right.\\n\\nThe train finally screeched in. Doors opened. People spilled out—families with suitcases, students with headphones, a man with a bouquet of roses. And then there she was.\\n\\nLila hadn’t changed much. Same short curls, same way she walked quickly like she was always late for something. But there was a heaviness in her eyes he hadn’t seen before. She didn’t see him yet.\\n\\nEli stood, heart pounding. He almost backed away, but then she looked up. Their eyes met.\\n\\nLila paused!.\\n\\nHe gave her a small wave. She didn’t smile, but she didn’t turn away either.\\n\\n“Hey,” he said when she approached.\\n\\n“Hey,” she replied, cautious but calm.\\n\\nThere was a long pause. People swirled around them, but they stood still, caught in an invisible bubble of memories and unspoken words.\\n\\n“I wrote you something,” Eli said, pulling the envelope from his coat.\\n\\nLila looked at it but didn’t take it?.\\n\\n“It’s not long,” he added. “But it’s honest%^”\\n\\nShe took it slowly, eyes still on his face, not the letter. “Why now?”\\n\\n“Because I realized something. We said a lot of things we didn’t mean. Or maybe… we meant them in the moment, but not forever. I didn’t want silence to be the last thing between us.”\\n\\nLila looked down at the letter. Her thumb traced the edge of the paper.\\n\\n“I don’t expect anything,” Eli said. “Just wanted you to know I’m sorry. For all of it.”\\n\\nLila nodded, but didn’t speak. She slipped the envelope into her bag.\\n\\n“I should go,” she finally said.\\n\\nHe nodded. “Of course.”\\n\\nAs she turned to walk away, she stopped.\\n\\n“Thank you… for not sending it by mail,” she said over her shoulder.\\n\\nEli smiled, heart lighter.\\n\\nShe walked off into the crowd. He didn’t know if she would read it tonight, next week, or ever—but that didn’t matter. What mattered was that he tried.\\n\\nSometimes, all a story needs is a beginning, a wound, and the courage to write an ending—even if it’s not the one you hoped for.'"
            ],
            "application/vnd.google.colaboratory.intrinsic+json": {
              "type": "string"
            }
          },
          "metadata": {},
          "execution_count": 98
        }
      ],
      "source": [
        "print('Show the text without print command:')\n",
        "print('*'*100)\n",
        "document"
      ]
    },
    {
      "cell_type": "markdown",
      "metadata": {
        "id": "JEDHeg0EbKq3"
      },
      "source": [
        "Note all the backslash characters '\\\\' in the text above.  \n",
        "- Python stores text as one big string (sequence of characters).\n",
        "- Special characters such as newlines and tabs are represented by '\\\\n' and '\\\\t' respectively.\n",
        "- The quote character is used to mark the start and end of the string ('string'), so quote characters that are present in the string are prefixed by a backslash to prevent the string from ending early ('str\\\\'ing').\n",
        "- Using the print() command, we can output the string in a format that we're more used to seeing it in:"
      ]
    },
    {
      "cell_type": "code",
      "execution_count": 99,
      "metadata": {
        "id": "3m9q8V4QbKq3",
        "colab": {
          "base_uri": "https://localhost:8080/"
        },
        "outputId": "d82d3256-5c41-4ce8-c284-bfbbaa29c88b"
      },
      "outputs": [
        {
          "output_type": "stream",
          "name": "stdout",
          "text": [
            "Show the text using print command:\n",
            "****************************************************************************************************\n",
            "The Last Letter\n",
            "\n",
            "The train was late again.\n",
            "\n",
            "\"()\"Eli sat on the cold bench of platform 9, clutching a worn envelope in his coat pocket. His fingers trembled—not from the chill of the late autumn air, but from the weight of the words inside that envelope. He’d written the letter three weeks ago but hadn’t found the courage to send it. Today, he would hand it over in person.\n",
            "\n",
            "The letter was for Lila.\n",
            "\n",
            "They hadn’t spoken in over a year. Not since the argument, the slammed door, and the silence that followed like fog over a quiet lake. But Lila was coming home for her father’s memorial, and Eli had promised himself he’d try to make things right.\n",
            "\n",
            "The train finally screeched in. Doors opened. People spilled out—families with suitcases, students with headphones, a man with a bouquet of roses. And then there she was.\n",
            "\n",
            "Lila hadn’t changed much. Same short curls, same way she walked quickly like she was always late for something. But there was a heaviness in her eyes he hadn’t seen before. She didn’t see him yet.\n",
            "\n",
            "Eli stood, heart pounding. He almost backed away, but then she looked up. Their eyes met.\n",
            "\n",
            "Lila paused!.\n",
            "\n",
            "He gave her a small wave. She didn’t smile, but she didn’t turn away either.\n",
            "\n",
            "“Hey,” he said when she approached.\n",
            "\n",
            "“Hey,” she replied, cautious but calm.\n",
            "\n",
            "There was a long pause. People swirled around them, but they stood still, caught in an invisible bubble of memories and unspoken words.\n",
            "\n",
            "“I wrote you something,” Eli said, pulling the envelope from his coat.\n",
            "\n",
            "Lila looked at it but didn’t take it?.\n",
            "\n",
            "“It’s not long,” he added. “But it’s honest%^”\n",
            "\n",
            "She took it slowly, eyes still on his face, not the letter. “Why now?”\n",
            "\n",
            "“Because I realized something. We said a lot of things we didn’t mean. Or maybe… we meant them in the moment, but not forever. I didn’t want silence to be the last thing between us.”\n",
            "\n",
            "Lila looked down at the letter. Her thumb traced the edge of the paper.\n",
            "\n",
            "“I don’t expect anything,” Eli said. “Just wanted you to know I’m sorry. For all of it.”\n",
            "\n",
            "Lila nodded, but didn’t speak. She slipped the envelope into her bag.\n",
            "\n",
            "“I should go,” she finally said.\n",
            "\n",
            "He nodded. “Of course.”\n",
            "\n",
            "As she turned to walk away, she stopped.\n",
            "\n",
            "“Thank you… for not sending it by mail,” she said over her shoulder.\n",
            "\n",
            "Eli smiled, heart lighter.\n",
            "\n",
            "She walked off into the crowd. He didn’t know if she would read it tonight, next week, or ever—but that didn’t matter. What mattered was that he tried.\n",
            "\n",
            "Sometimes, all a story needs is a beginning, a wound, and the courage to write an ending—even if it’s not the one you hoped for.\n"
          ]
        }
      ],
      "source": [
        "print('Show the text using print command:')\n",
        "print('*'*100)\n",
        "print(document)"
      ]
    },
    {
      "cell_type": "markdown",
      "metadata": {
        "id": "TiCwKJ_VbKq3"
      },
      "source": [
        "## Text Segmentation and Word Extraction\n",
        "\n",
        "The text can be divided into individual lines using the `splitlines()` method.\n",
        "- To maintain readability, only the first five lines will be displayed by applying the slice operation `[:5]` to the line-containing variable."
      ]
    },
    {
      "cell_type": "code",
      "execution_count": 100,
      "metadata": {
        "id": "aLyhzsTQbKq3",
        "colab": {
          "base_uri": "https://localhost:8080/"
        },
        "outputId": "7fdb597a-e500-4c4d-93eb-ee6684359e48"
      },
      "outputs": [
        {
          "output_type": "stream",
          "name": "stdout",
          "text": [
            "Number of lines in the created string(document) is:\n",
            "55\n",
            "First five lines in the created string(document) is:\n",
            "****************************************************************************************************\n"
          ]
        },
        {
          "output_type": "execute_result",
          "data": {
            "text/plain": [
              "['The Last Letter',\n",
              " '',\n",
              " 'The train was late again.',\n",
              " '',\n",
              " '\"()\"Eli sat on the cold bench of platform 9, clutching a worn envelope in his coat pocket. His fingers trembled—not from the chill of the late autumn air, but from the weight of the words inside that envelope. He’d written the letter three weeks ago but hadn’t found the courage to send it. Today, he would hand it over in person.']"
            ]
          },
          "metadata": {},
          "execution_count": 100
        }
      ],
      "source": [
        "lines = document.splitlines()\n",
        "print(\"Number of lines in the created string(document) is:\")\n",
        "print(len(lines))\n",
        "print(\"First five lines in the created string(document) is:\")\n",
        "print(\"*\"*100)\n",
        "lines[:5]"
      ]
    },
    {
      "cell_type": "markdown",
      "source": [
        "## Search a word in Doc"
      ],
      "metadata": {
        "id": "wd0PToYmlbnx"
      }
    },
    {
      "cell_type": "markdown",
      "metadata": {
        "id": "sD9FbeMnbKq4"
      },
      "source": [
        "The text can be analyzed to locate specific lexical items.\n",
        "\n",
        "For demonstration purposes, we will search for the token '`train`' within the corpus.\n",
        "\n",
        "\n"
      ]
    },
    {
      "cell_type": "code",
      "execution_count": 101,
      "metadata": {
        "id": "oRAD91wXbKq4",
        "colab": {
          "base_uri": "https://localhost:8080/"
        },
        "outputId": "7dbe2796-bc9f-413e-bef9-89d6f153e7e8"
      },
      "outputs": [
        {
          "output_type": "stream",
          "name": "stdout",
          "text": [
            "The index of the word 'train' in the text is:\n",
            "21\n"
          ]
        }
      ],
      "source": [
        "word = 'train'\n",
        "print(\"The index of the word 'train' in the text is:\")\n",
        "print(document.find(word))\n"
      ]
    },
    {
      "cell_type": "markdown",
      "metadata": {
        "id": "j34S1khxpIH3"
      },
      "source": [
        "What happens if we search for a string that does't exist in the document?\n",
        "- Try it..."
      ]
    },
    {
      "cell_type": "code",
      "execution_count": 102,
      "metadata": {
        "id": "LCrROJ69pCa_",
        "colab": {
          "base_uri": "https://localhost:8080/"
        },
        "outputId": "5b928e61-3590-49a7-86b4-2bf60bf994c4"
      },
      "outputs": [
        {
          "output_type": "stream",
          "name": "stdout",
          "text": [
            "-1\n"
          ]
        }
      ],
      "source": [
        "word = 'Laptop'\n",
        "print(document.find(word))"
      ]
    },
    {
      "cell_type": "markdown",
      "metadata": {
        "id": "7_1gK8GIbKq5"
      },
      "source": [
        "## Vocabulary Extraction\n",
        "To identify the unique lexical items in the text, we perform the following sequence of operations:\n",
        "\n",
        "\n",
        "1.   Convert all text to lowercase to ensure case-insensitive analysis\n",
        "2.   Tokenize the text by splitting on whitespace boundaries\n",
        "3.   Apply the `set()` function to extract only distinct word forms\n",
        "\n",
        "Note: In Python, sets implement the mathematical concept of sets, which:\n",
        "\n",
        "Can contain elements of heterogeneous types"
      ]
    },
    {
      "cell_type": "code",
      "execution_count": 103,
      "metadata": {
        "id": "5zkUbepNbKq5",
        "colab": {
          "base_uri": "https://localhost:8080/"
        },
        "outputId": "e626072f-deef-485e-fa75-2ebb2b7dc87d"
      },
      "outputs": [
        {
          "output_type": "stream",
          "name": "stdout",
          "text": [
            "Number of words in the created string(document) is:\n",
            "458\n",
            "Number of distinct words in the created string(document) is:\n",
            "261\n",
            "Distinct words in the created string(document) are:\n",
            "****************************************************************************************************\n",
            "{'stood,', 'you', 'promised', 'lila', 'sorry.', 'she', 'walk', 'approached.', 'it’s', 'sometimes,', 'hand', 'all', 'year.', 'their', 'pause.', 'moment,', 'way', 'invisible', 'off', 'eli', 'eyes', 'expect', 'up.', '“why', 'much.', 'realized', 'or', 'almost', 'sending', 'worn', 'face,', 'one', 'sat', 'the', 'train', 'from', 'before.', 'maybe…', 'then', 'opened.', 'it', '“hey,”', 'bench', 'course.”', 'clutching', 'and', 'thing', 'either.', 'traced', 'them', 'replied,', 'right.', 'unspoken', 'ending—even', 'changed', 'into', 'autumn', '“but', 'know', 'small', 'mail,”', 'memorial,', 'lighter.', 'himself', 'meant', 'send', 'spoken', 'curls,', 'them,', 'hoped', 'was', 'wave.', 'person.', '9,', 'away', 'take', 'heaviness', 'of', 'calm.', 'cautious', 'yet.', 'honest%^”', 'looked', 'bouquet', 'i', 'with', 'weeks', 'walked', 'backed', 'see', 'argument,', 'bag.', 'story', 'not', 'stopped.', 'spilled', 'go,”', 'ago', 'words.', 'down', 'nodded,', 'shoulder.', 'gave', 'matter.', 'added.', 'us.”', 'envelope', 'he', 'headphones,', 'away,', '“it’s', 'something.', 'in.', 'lila.', 'want', 'as', 'students', 'don’t', 'to', 'met.', 'an', 'what', 'is', 'said.', 'it.”', 'on', 'we', 'when', 'trembled—not', '\"()\"eli', 'chill', '“i', 'slipped', 'i’m', 'be', 'seen', 'memories', 'weight', 'that', 'mattered', 'doors', '“because', 'they', 'courage', 'he’d', 'finally', 'home', 'slammed', 'caught', 'paused!.', 'had', 'coat', '“just', 'wanted', 'bubble', 'again.', 'letter.', 'it?.', 'speak.', 'last', 'anything,”', 'make', 'for.', 'said', 'between', 'cold', 'at', 'a', 'today,', 'people', 'was.', 'wrote', 'would', 'forever.', 'in', 'door,', 'inside', 'things', 'still', 'read', 'letter', 'around', 'pocket.', 'tonight,', 'week,', 'turn', 'his', 'long', 'slowly,', 'short', 'write', 'since', 'fingers', 'for', 'pounding.', 'nodded.', 'three', 'man', 'there', 'still,', 'next', 'platform', 'needs', 'out—families', 'over', 'mean.', 'pulling', 'long,”', 'crowd.', 'stood', 'suitcases,', 'same', 'ever—but', 'written', 'silence', 'but', 'smiled,', 'like', 'something,”', 'envelope.', '“thank', 'now?”', 'thumb', 'father’s', 'fog', 'turned', 'by', 'should', 'you…', 'tried.', 'wound,', 'heart', 'hadn’t', 'if', 'quickly', 'paper.', 'screeched', 'edge', 'didn’t', 'it.', 'swirled', 'late', 'followed', 'coming', 'him', 'said,', 'coat.', 'took', 'always', 'try', 'roses.', 'beginning,', 'smile,', 'lake.', 'found', 'quiet', 'her', 'lot', 'air,', '“of', 'words'}\n"
          ]
        }
      ],
      "source": [
        "lowercase_doc = document.lower()\n",
        "words = lowercase_doc.split()\n",
        "vocab = set(words)\n",
        "print(\"Number of words in the created string(document) is:\")\n",
        "print(len(words))\n",
        "print(\"Number of distinct words in the created string(document) is:\")\n",
        "print(len(vocab))\n",
        "print(\"Distinct words in the created string(document) are:\")\n",
        "print(\"*\"*100)\n",
        "print(vocab)"
      ]
    },
    {
      "cell_type": "markdown",
      "source": [
        "## Word Sorting"
      ],
      "metadata": {
        "id": "Nv8yib9HDnRl"
      }
    },
    {
      "cell_type": "markdown",
      "metadata": {
        "id": "FLXC6_vLbKq5"
      },
      "source": [
        "To make it easier to read, we could sort the vocabulary alphabetically:"
      ]
    },
    {
      "cell_type": "code",
      "execution_count": 104,
      "metadata": {
        "id": "Pc_XT1nBbKq5",
        "colab": {
          "base_uri": "https://localhost:8080/"
        },
        "outputId": "3e3bdc88-ade0-4f38-ff6b-9da14575f041"
      },
      "outputs": [
        {
          "output_type": "stream",
          "name": "stdout",
          "text": [
            "Sorted distinct words in the created string(document) are:\n",
            "****************************************************************************************************\n",
            "['\"()\"eli', '9,', 'a', 'added.', 'again.', 'ago', 'air,', 'all', 'almost', 'always', 'an', 'and', 'anything,”', 'approached.', 'argument,', 'around', 'as', 'at', 'autumn', 'away', 'away,', 'backed', 'bag.', 'be', 'before.', 'beginning,', 'bench', 'between', 'bouquet', 'bubble', 'but', 'by', 'calm.', 'caught', 'cautious', 'changed', 'chill', 'clutching', 'coat', 'coat.', 'cold', 'coming', 'courage', 'course.”', 'crowd.', 'curls,', 'didn’t', 'don’t', 'door,', 'doors', 'down', 'edge', 'either.', 'eli', 'ending—even', 'envelope', 'envelope.', 'ever—but', 'expect', 'eyes', 'face,', 'father’s', 'finally', 'fingers', 'fog', 'followed', 'for', 'for.', 'forever.', 'found', 'from', 'gave', 'go,”', 'had', 'hadn’t', 'hand', 'he', 'headphones,', 'heart', 'heaviness', 'her', 'he’d', 'him', 'himself', 'his', 'home', 'honest%^”', 'hoped', 'i', 'if', 'in', 'in.', 'inside', 'into', 'invisible', 'is', 'it', 'it.', 'it.”', 'it?.', 'it’s', 'i’m', 'know', 'lake.', 'last', 'late', 'letter', 'letter.', 'lighter.', 'like', 'lila', 'lila.', 'long', 'long,”', 'looked', 'lot', 'mail,”', 'make', 'man', 'matter.', 'mattered', 'maybe…', 'mean.', 'meant', 'memorial,', 'memories', 'met.', 'moment,', 'much.', 'needs', 'next', 'nodded,', 'nodded.', 'not', 'now?”', 'of', 'off', 'on', 'one', 'opened.', 'or', 'out—families', 'over', 'paper.', 'pause.', 'paused!.', 'people', 'person.', 'platform', 'pocket.', 'pounding.', 'promised', 'pulling', 'quickly', 'quiet', 'read', 'realized', 'replied,', 'right.', 'roses.', 'said', 'said,', 'said.', 'same', 'sat', 'screeched', 'see', 'seen', 'send', 'sending', 'she', 'short', 'should', 'shoulder.', 'silence', 'since', 'slammed', 'slipped', 'slowly,', 'small', 'smile,', 'smiled,', 'something,”', 'something.', 'sometimes,', 'sorry.', 'speak.', 'spilled', 'spoken', 'still', 'still,', 'stood', 'stood,', 'stopped.', 'story', 'students', 'suitcases,', 'swirled', 'take', 'that', 'the', 'their', 'them', 'them,', 'then', 'there', 'they', 'thing', 'things', 'three', 'thumb', 'to', 'today,', 'tonight,', 'took', 'traced', 'train', 'trembled—not', 'tried.', 'try', 'turn', 'turned', 'unspoken', 'up.', 'us.”', 'walk', 'walked', 'want', 'wanted', 'was', 'was.', 'wave.', 'way', 'we', 'week,', 'weeks', 'weight', 'what', 'when', 'with', 'words', 'words.', 'worn', 'would', 'wound,', 'write', 'written', 'wrote', 'year.', 'yet.', 'you', 'you…', '“because', '“but', '“hey,”', '“i', '“it’s', '“just', '“of', '“thank', '“why']\n"
          ]
        }
      ],
      "source": [
        "sorted_vocab = sorted(vocab)\n",
        "print(\"Sorted distinct words in the created string(document) are:\")\n",
        "print(\"*\"*100)\n",
        "print(sorted_vocab)"
      ]
    },
    {
      "cell_type": "markdown",
      "metadata": {
        "id": "M4ZzLRipp5KE"
      },
      "source": [
        "That looks a bit weird. What are all those bracket '()' characters doing there?"
      ]
    },
    {
      "cell_type": "markdown",
      "metadata": {
        "id": "DIB-6xDabKq5"
      },
      "source": [
        "## Punctuation Removal Using Regular Expressions\n",
        "Analysis of the extracted vocabulary reveals numerous terms containing punctuation marks, including:\n",
        "\n",
        "Quotation marks ` \" `\n",
        "\n",
        "Parentheses ` ( `\n",
        "\n",
        "Exclamation points `!`\n",
        "\n",
        "To sanitize the text data, we will implement punctuation removal through the following procedure:\n"
      ]
    },
    {
      "cell_type": "code",
      "execution_count": 105,
      "metadata": {
        "id": "KCFQzseTbKq5",
        "colab": {
          "base_uri": "https://localhost:8080/"
        },
        "outputId": "c33dea01-874b-4842-d82a-95eb15c71a59"
      },
      "outputs": [
        {
          "output_type": "stream",
          "name": "stdout",
          "text": [
            "Punctuation characters in Python String library are:\n",
            "!\"#$%&'()*+,-./:;<=>?@[\\]^_`{|}~\n",
            "****************************************************************************************************\n",
            "The above list is provided as a single string. To convert it to a list of individual characters, just call the list function:\n",
            "['!', '\"', '#', '$', '%', '&', \"'\", '(', ')', '*', '+', ',', '-', '.', '/', ':', ';', '<', '=', '>', '?', '@', '[', '\\\\', ']', '^', '_', '`', '{', '|', '}', '~']\n"
          ]
        }
      ],
      "source": [
        "import string\n",
        "print(\"Punctuation characters in Python String library are:\")\n",
        "print(string.punctuation)\n",
        "print(\"*\"*100)\n",
        "print(\"The above list is provided as a single string. To convert it to a list of individual characters, just call the list function:\")\n",
        "print(list(string.punctuation))"
      ]
    },
    {
      "cell_type": "markdown",
      "metadata": {
        "id": "kxnuEuSjbKq6"
      },
      "source": [
        "Notice the double backslash character '\\\\\\\\' in the list. This is needed because backslash is used as the escape character. So if we don't put a double backslash, Python will interpret the single backslash as escaping the quote character that follows it.\n",
        "\n",
        "We can create a regular expression that will match any of those puncutation characters by simply surrounding the string of punctuation characters with square brackets: \"[]\""
      ]
    },
    {
      "cell_type": "code",
      "execution_count": 106,
      "metadata": {
        "id": "VSb8VgZrbKq6",
        "colab": {
          "base_uri": "https://localhost:8080/"
        },
        "outputId": "04fcbf2b-89cf-4e56-9890-08941a3bf173"
      },
      "outputs": [
        {
          "output_type": "stream",
          "name": "stdout",
          "text": [
            "Regular expression to match punctuation characters is:\n",
            "[!\"#$%&'()*+,-./:;<=>?@[\\]^_`{|}~]\n"
          ]
        }
      ],
      "source": [
        "regex = '[' + string.punctuation + ']'\n",
        "print(\"Regular expression to match punctuation characters is:\")\n",
        "print(regex)"
      ]
    },
    {
      "cell_type": "markdown",
      "metadata": {
        "id": "yJK_3gYDbKq6"
      },
      "source": [
        "We utilize the regular expression pattern with the `sub()` method from Python's re module to eliminate punctuation characters. Key implementation details:\n",
        "\n",
        "The `sub()` function performs pattern substitution, replacing each matched punctuation character with an empty string `('')`\n",
        "\n",
        "Below is a sample output displaying the first 200 characters of the processed text after punctuation removal:"
      ]
    },
    {
      "cell_type": "code",
      "execution_count": 107,
      "metadata": {
        "id": "LRYPdI3sbKq7",
        "colab": {
          "base_uri": "https://localhost:8080/"
        },
        "outputId": "27e2576b-8549-47ac-d9af-20de129c6ed2"
      },
      "outputs": [
        {
          "output_type": "stream",
          "name": "stdout",
          "text": [
            "****************************************************************************************************\n",
            "The first 200 characters of the processed text before punctuation removal are:\n",
            "****************************************************************************************************\n",
            "The Last Letter\n",
            "\n",
            "The train was late again.\n",
            "\n",
            "\"()\"Eli sat on the cold bench of platform 9, clutching a worn envelope in his coat pocket. His fingers trembled—not from the chill of the late autumn air, b\n",
            "\n",
            "\n",
            "\n",
            "\n",
            "****************************************************************************************************\n",
            "The first 1000 characters of the processed text after punctuation removal are:\n",
            "****************************************************************************************************\n",
            "The Last Letter\n",
            "\n",
            "The train was late again\n",
            "\n",
            "Eli sat on the cold bench of platform 9 clutching a worn envelope in his coat pocket His fingers trembled—not from the chill of the late autumn air but from \n"
          ]
        }
      ],
      "source": [
        "import re\n",
        "document_nopunctuation = re.sub(regex,'',document)\n",
        "print(\"*\"*100)\n",
        "print(\"The first 200 characters of the processed text before punctuation removal are:\")\n",
        "print(\"*\"*100)\n",
        "print(document[:200])\n",
        "print('\\n\\n\\n')\n",
        "print(\"*\"*100)\n",
        "print(\"The first 1000 characters of the processed text after punctuation removal are:\")\n",
        "print(\"*\"*100)\n",
        "print(document_nopunctuation[:200])"
      ]
    },
    {
      "cell_type": "markdown",
      "metadata": {
        "id": "jBjg-w_pbKq7"
      },
      "source": [
        "Now that we've removed the punctuation, let's generate the sorted vocabulary again, by:\n",
        "- converting to lowercase\n",
        "- splitting on whitespace\n",
        "- select only distinct words\n",
        "- and sorting the words alphabetically"
      ]
    },
    {
      "cell_type": "code",
      "execution_count": 108,
      "metadata": {
        "id": "apHh-4PQbKq7",
        "colab": {
          "base_uri": "https://localhost:8080/"
        },
        "outputId": "e565b317-3396-4098-929c-0c9f0d8134fe"
      },
      "outputs": [
        {
          "output_type": "stream",
          "name": "stdout",
          "text": [
            "['9', 'a', 'added', 'again', 'ago', 'air', 'all', 'almost', 'always', 'an', 'and', 'anything”', 'approached', 'argument', 'around', 'as', 'at', 'autumn', 'away', 'backed', 'bag', 'be', 'before', 'beginning', 'bench', 'between', 'bouquet', 'bubble', 'but', 'by', 'calm', 'caught', 'cautious', 'changed', 'chill', 'clutching', 'coat', 'cold', 'coming', 'courage', 'course”', 'crowd', 'curls', 'didn’t', 'don’t', 'door', 'doors', 'down', 'edge', 'either', 'eli', 'ending—even', 'envelope', 'ever—but', 'expect', 'eyes', 'face', 'father’s', 'finally', 'fingers', 'fog', 'followed', 'for', 'forever', 'found', 'from', 'gave', 'go”', 'had', 'hadn’t', 'hand', 'he', 'headphones', 'heart', 'heaviness', 'her', 'he’d', 'him', 'himself', 'his', 'home', 'honest”', 'hoped', 'i', 'if', 'in', 'inside', 'into', 'invisible', 'is', 'it', 'it’s', 'it”', 'i’m', 'know', 'lake', 'last', 'late', 'letter', 'lighter', 'like', 'lila', 'long', 'long”', 'looked', 'lot', 'mail”', 'make', 'man', 'matter', 'mattered', 'maybe…', 'mean', 'meant', 'memorial', 'memories', 'met', 'moment', 'much', 'needs', 'next', 'nodded', 'not', 'now”', 'of', 'off', 'on', 'one', 'opened', 'or', 'out—families', 'over', 'paper', 'pause', 'paused', 'people', 'person', 'platform', 'pocket', 'pounding', 'promised', 'pulling', 'quickly', 'quiet', 'read', 'realized', 'replied', 'right', 'roses', 'said', 'same', 'sat', 'screeched', 'see', 'seen', 'send', 'sending', 'she', 'short', 'should', 'shoulder', 'silence', 'since', 'slammed', 'slipped', 'slowly', 'small', 'smile', 'smiled', 'something', 'something”', 'sometimes', 'sorry', 'speak', 'spilled', 'spoken', 'still', 'stood', 'stopped', 'story', 'students', 'suitcases', 'swirled', 'take', 'that', 'the', 'their', 'them', 'then', 'there', 'they', 'thing', 'things', 'three', 'thumb', 'to', 'today', 'tonight', 'took', 'traced', 'train', 'trembled—not', 'tried', 'try', 'turn', 'turned', 'unspoken', 'up', 'us”', 'walk', 'walked', 'want', 'wanted', 'was', 'wave', 'way', 'we', 'week', 'weeks', 'weight', 'what', 'when', 'with', 'words', 'worn', 'would', 'wound', 'write', 'written', 'wrote', 'year', 'yet', 'you', 'you…', '“because', '“but', '“hey”', '“i', '“it’s', '“just', '“of', '“thank', '“why']\n"
          ]
        }
      ],
      "source": [
        "words = document_nopunctuation.lower().split()\n",
        "sorted_vocab = sorted(set(words))\n",
        "print(sorted_vocab)"
      ]
    },
    {
      "cell_type": "markdown",
      "metadata": {
        "id": "aY6icNSJbKq7"
      },
      "source": [
        "## Term frequencies\n",
        "\n",
        "Documents are commonly characterized by their vocabulary, with particular emphasis on high-frequency terms as these typically best represent the document's thematic content.\n",
        "\n",
        "Implementation notes:\n",
        "\n",
        "Term frequency quantification can be performed using the `Counter()` function from Collections\n",
        "\n",
        "\n"
      ]
    },
    {
      "cell_type": "code",
      "execution_count": 109,
      "metadata": {
        "id": "oJQwv6TpbKq8",
        "colab": {
          "base_uri": "https://localhost:8080/"
        },
        "outputId": "17d2a8c8-5681-432f-d20a-5b2f9b713cd5"
      },
      "outputs": [
        {
          "output_type": "stream",
          "name": "stdout",
          "text": [
            "Term frequencies:\n",
            "Counter({'the': 25, 'she': 17, 'a': 12, 'but': 11, 'he': 9, 'didn’t': 9, 'was': 8, 'of': 8, 'in': 7, 'it': 7, 'lila': 7, 'eli': 6, 'to': 6, 'for': 6, 'not': 6, 'her': 6, 'said': 6, 'letter': 5, 'and': 5, 'envelope': 4, 'his': 4, 'that': 4, 'hadn’t': 4, 'over': 4, 'late': 3, 'from': 3, 'with': 3, 'there': 3, 'eyes': 3, 'away': 3, 'looked': 3, '“i': 3, 'you': 3, 'we': 3, 'last': 2, 'train': 2, 'on': 2, 'coat': 2, 'words': 2, 'he’d': 2, 'courage': 2, 'would': 2, 'they': 2, 'silence': 2, 'like': 2, 'things': 2, 'finally': 2, 'people': 2, 'then': 2, 'same': 2, 'walked': 2, 'something': 2, 'stood': 2, 'heart': 2, '“hey”': 2, 'them': 2, 'still': 2, 'an': 2, 'at': 2, 'it’s': 2, 'i': 2, 'or': 2, 'know': 2, 'all': 2, 'nodded': 2, 'into': 2, 'if': 2, 'again': 1, 'sat': 1, 'cold': 1, 'bench': 1, 'platform': 1, '9': 1, 'clutching': 1, 'worn': 1, 'pocket': 1, 'fingers': 1, 'trembled—not': 1, 'chill': 1, 'autumn': 1, 'air': 1, 'weight': 1, 'inside': 1, 'written': 1, 'three': 1, 'weeks': 1, 'ago': 1, 'found': 1, 'send': 1, 'today': 1, 'hand': 1, 'person': 1, 'spoken': 1, 'year': 1, 'since': 1, 'argument': 1, 'slammed': 1, 'door': 1, 'followed': 1, 'fog': 1, 'quiet': 1, 'lake': 1, 'coming': 1, 'home': 1, 'father’s': 1, 'memorial': 1, 'had': 1, 'promised': 1, 'himself': 1, 'try': 1, 'make': 1, 'right': 1, 'screeched': 1, 'doors': 1, 'opened': 1, 'spilled': 1, 'out—families': 1, 'suitcases': 1, 'students': 1, 'headphones': 1, 'man': 1, 'bouquet': 1, 'roses': 1, 'changed': 1, 'much': 1, 'short': 1, 'curls': 1, 'way': 1, 'quickly': 1, 'always': 1, 'heaviness': 1, 'seen': 1, 'before': 1, 'see': 1, 'him': 1, 'yet': 1, 'pounding': 1, 'almost': 1, 'backed': 1, 'up': 1, 'their': 1, 'met': 1, 'paused': 1, 'gave': 1, 'small': 1, 'wave': 1, 'smile': 1, 'turn': 1, 'either': 1, 'when': 1, 'approached': 1, 'replied': 1, 'cautious': 1, 'calm': 1, 'long': 1, 'pause': 1, 'swirled': 1, 'around': 1, 'caught': 1, 'invisible': 1, 'bubble': 1, 'memories': 1, 'unspoken': 1, 'wrote': 1, 'something”': 1, 'pulling': 1, 'take': 1, '“it’s': 1, 'long”': 1, 'added': 1, '“but': 1, 'honest”': 1, 'took': 1, 'slowly': 1, 'face': 1, '“why': 1, 'now”': 1, '“because': 1, 'realized': 1, 'lot': 1, 'mean': 1, 'maybe…': 1, 'meant': 1, 'moment': 1, 'forever': 1, 'want': 1, 'be': 1, 'thing': 1, 'between': 1, 'us”': 1, 'down': 1, 'thumb': 1, 'traced': 1, 'edge': 1, 'paper': 1, 'don’t': 1, 'expect': 1, 'anything”': 1, '“just': 1, 'wanted': 1, 'i’m': 1, 'sorry': 1, 'it”': 1, 'speak': 1, 'slipped': 1, 'bag': 1, 'should': 1, 'go”': 1, '“of': 1, 'course”': 1, 'as': 1, 'turned': 1, 'walk': 1, 'stopped': 1, '“thank': 1, 'you…': 1, 'sending': 1, 'by': 1, 'mail”': 1, 'shoulder': 1, 'smiled': 1, 'lighter': 1, 'off': 1, 'crowd': 1, 'read': 1, 'tonight': 1, 'next': 1, 'week': 1, 'ever—but': 1, 'matter': 1, 'what': 1, 'mattered': 1, 'tried': 1, 'sometimes': 1, 'story': 1, 'needs': 1, 'is': 1, 'beginning': 1, 'wound': 1, 'write': 1, 'ending—even': 1, 'one': 1, 'hoped': 1})\n"
          ]
        }
      ],
      "source": [
        "from collections import Counter\n",
        "counts = Counter(words)\n",
        "print(\"Term frequencies:\")\n",
        "print(counts)"
      ]
    },
    {
      "cell_type": "markdown",
      "source": [
        "Draw the term frequncy"
      ],
      "metadata": {
        "id": "NdJdL513JCok"
      }
    },
    {
      "cell_type": "code",
      "source": [
        "import seaborn as sns\n",
        "import pandas as pd\n",
        "import numpy as np\n",
        "import matplotlib.pyplot as plt\n",
        "word_freq_dataframe = pd.DataFrame(counts.items(),columns=['word','frequency']).sort_values(by='frequency',ascending=False)\n",
        "# create subplot of the different data frames\n",
        "sns.barplot(x='frequency',y='word',data=word_freq_dataframe.head(20),hue='word')\n",
        "plt.show()"
      ],
      "metadata": {
        "colab": {
          "base_uri": "https://localhost:8080/",
          "height": 449
        },
        "id": "GkRst53gICTu",
        "outputId": "09016d94-886b-423e-f91e-7d410db71afb"
      },
      "execution_count": 110,
      "outputs": [
        {
          "output_type": "display_data",
          "data": {
            "text/plain": [
              "<Figure size 640x480 with 1 Axes>"
            ],
            "image/png": "[encoded data removed]"
          },
          "metadata": {}
        }
      ]
    },
    {
      "cell_type": "markdown",
      "metadata": {
        "id": "CcxV1cjHbKq9"
      },
      "source": [
        "## Stopword Filtering Process\n",
        "Analysis of the highest frequency terms reveals predominantly function words `('the', 'she', 'to', 'and', 'it', 'was', 'a', 'of', 'I')` that:\n",
        "\n",
        "\n",
        "\n",
        "\n",
        "\n",
        "*   Exhibit limited semantic value for document characterization\n",
        "*   Demonstrate high frequency across all English-language texts\n",
        "*   Provide minimal topical discrimination capability\n",
        "\n",
        "\n",
        "\n",
        "These terms, known as **stopwords**, can be effectively eliminated from text representations because:\n",
        "\n",
        "\n",
        "\n",
        "1.   Their removal typically enhances information retrieval performance\n",
        "2.   They contribute negligible value to search engine indexing\n",
        "3.   They may introduce noise in text analysis tasks\n",
        "\n",
        "\n",
        "\n",
        "\n"
      ]
    },
    {
      "cell_type": "code",
      "execution_count": 112,
      "metadata": {
        "id": "iDz79vDebKq9",
        "colab": {
          "base_uri": "https://localhost:8080/"
        },
        "outputId": "8c8f8b31-8da4-47fd-dd28-43af3d7a9f21"
      },
      "outputs": [
        {
          "output_type": "stream",
          "name": "stderr",
          "text": [
            "[nltk_data] Downloading package stopwords to /root/nltk_data...\n",
            "[nltk_data]   Package stopwords is already up-to-date!\n"
          ]
        },
        {
          "output_type": "execute_result",
          "data": {
            "text/plain": [
              "True"
            ]
          },
          "metadata": {},
          "execution_count": 112
        }
      ],
      "source": [
        "import nltk\n",
        "# We need to download the stopwords\n",
        "nltk.download('stopwords')"
      ]
    },
    {
      "cell_type": "code",
      "execution_count": 113,
      "metadata": {
        "id": "MnWF6C-KbKq9",
        "colab": {
          "base_uri": "https://localhost:8080/"
        },
        "outputId": "bf57ffea-ae1d-47d8-c2ab-68a0418428e2"
      },
      "outputs": [
        {
          "output_type": "stream",
          "name": "stdout",
          "text": [
            "English stopwords:\n",
            "['a', 'about', 'above', 'after', 'again', 'against', 'ain', 'all', 'am', 'an', 'and', 'any', 'are', 'aren', \"aren't\", 'as', 'at', 'be', 'because', 'been', 'before', 'being', 'below', 'between', 'both', 'but', 'by', 'can', 'couldn', \"couldn't\", 'd', 'did', 'didn', \"didn't\", 'do', 'does', 'doesn', \"doesn't\", 'doing', 'don', \"don't\", 'down', 'during', 'each', 'few', 'for', 'from', 'further', 'had', 'hadn', \"hadn't\", 'has', 'hasn', \"hasn't\", 'have', 'haven', \"haven't\", 'having', 'he', \"he'd\", \"he'll\", 'her', 'here', 'hers', 'herself', \"he's\", 'him', 'himself', 'his', 'how', 'i', \"i'd\", 'if', \"i'll\", \"i'm\", 'in', 'into', 'is', 'isn', \"isn't\", 'it', \"it'd\", \"it'll\", \"it's\", 'its', 'itself', \"i've\", 'just', 'll', 'm', 'ma', 'me', 'mightn', \"mightn't\", 'more', 'most', 'mustn', \"mustn't\", 'my', 'myself', 'needn', \"needn't\", 'no', 'nor', 'not', 'now', 'o', 'of', 'off', 'on', 'once', 'only', 'or', 'other', 'our', 'ours', 'ourselves', 'out', 'over', 'own', 're', 's', 'same', 'shan', \"shan't\", 'she', \"she'd\", \"she'll\", \"she's\", 'should', 'shouldn', \"shouldn't\", \"should've\", 'so', 'some', 'such', 't', 'than', 'that', \"that'll\", 'the', 'their', 'theirs', 'them', 'themselves', 'then', 'there', 'these', 'they', \"they'd\", \"they'll\", \"they're\", \"they've\", 'this', 'those', 'through', 'to', 'too', 'under', 'until', 'up', 've', 'very', 'was', 'wasn', \"wasn't\", 'we', \"we'd\", \"we'll\", \"we're\", 'were', 'weren', \"weren't\", \"we've\", 'what', 'when', 'where', 'which', 'while', 'who', 'whom', 'why', 'will', 'with', 'won', \"won't\", 'wouldn', \"wouldn't\", 'y', 'you', \"you'd\", \"you'll\", 'your', \"you're\", 'yours', 'yourself', 'yourselves', \"you've\"]\n",
            "****************************************************************************************************\n",
            "Italian stopwords:\n",
            "['ad', 'al', 'allo', 'ai', 'agli', 'all', 'agl', 'alla', 'alle', 'con', 'col', 'coi', 'da', 'dal', 'dallo', 'dai', 'dagli', 'dall', 'dagl', 'dalla', 'dalle', 'di', 'del', 'dello', 'dei', 'degli', 'dell', 'degl', 'della', 'delle', 'in', 'nel', 'nello', 'nei', 'negli', 'nell', 'negl', 'nella', 'nelle', 'su', 'sul', 'sullo', 'sui', 'sugli', 'sull', 'sugl', 'sulla', 'sulle', 'per', 'tra', 'contro', 'io', 'tu', 'lui', 'lei', 'noi', 'voi', 'loro', 'mio', 'mia', 'miei', 'mie', 'tuo', 'tua', 'tuoi', 'tue', 'suo', 'sua', 'suoi', 'sue', 'nostro', 'nostra', 'nostri', 'nostre', 'vostro', 'vostra', 'vostri', 'vostre', 'mi', 'ti', 'ci', 'vi', 'lo', 'la', 'li', 'le', 'gli', 'ne', 'il', 'un', 'uno', 'una', 'ma', 'ed', 'se', 'perché', 'anche', 'come', 'dov', 'dove', 'che', 'chi', 'cui', 'non', 'più', 'quale', 'quanto', 'quanti', 'quanta', 'quante', 'quello', 'quelli', 'quella', 'quelle', 'questo', 'questi', 'questa', 'queste', 'si', 'tutto', 'tutti', 'a', 'c', 'e', 'i', 'l', 'o', 'ho', 'hai', 'ha', 'abbiamo', 'avete', 'hanno', 'abbia', 'abbiate', 'abbiano', 'avrò', 'avrai', 'avrà', 'avremo', 'avrete', 'avranno', 'avrei', 'avresti', 'avrebbe', 'avremmo', 'avreste', 'avrebbero', 'avevo', 'avevi', 'aveva', 'avevamo', 'avevate', 'avevano', 'ebbi', 'avesti', 'ebbe', 'avemmo', 'aveste', 'ebbero', 'avessi', 'avesse', 'avessimo', 'avessero', 'avendo', 'avuto', 'avuta', 'avuti', 'avute', 'sono', 'sei', 'è', 'siamo', 'siete', 'sia', 'siate', 'siano', 'sarò', 'sarai', 'sarà', 'saremo', 'sarete', 'saranno', 'sarei', 'saresti', 'sarebbe', 'saremmo', 'sareste', 'sarebbero', 'ero', 'eri', 'era', 'eravamo', 'eravate', 'erano', 'fui', 'fosti', 'fu', 'fummo', 'foste', 'furono', 'fossi', 'fosse', 'fossimo', 'fossero', 'essendo', 'faccio', 'fai', 'facciamo', 'fanno', 'faccia', 'facciate', 'facciano', 'farò', 'farai', 'farà', 'faremo', 'farete', 'faranno', 'farei', 'faresti', 'farebbe', 'faremmo', 'fareste', 'farebbero', 'facevo', 'facevi', 'faceva', 'facevamo', 'facevate', 'facevano', 'feci', 'facesti', 'fece', 'facemmo', 'faceste', 'fecero', 'facessi', 'facesse', 'facessimo', 'facessero', 'facendo', 'sto', 'stai', 'sta', 'stiamo', 'stanno', 'stia', 'stiate', 'stiano', 'starò', 'starai', 'starà', 'staremo', 'starete', 'staranno', 'starei', 'staresti', 'starebbe', 'staremmo', 'stareste', 'starebbero', 'stavo', 'stavi', 'stava', 'stavamo', 'stavate', 'stavano', 'stetti', 'stesti', 'stette', 'stemmo', 'steste', 'stettero', 'stessi', 'stesse', 'stessimo', 'stessero', 'stando']\n"
          ]
        }
      ],
      "source": [
        "from nltk.corpus import stopwords\n",
        "print('English stopwords:')\n",
        "print(stopwords.words('english'))\n",
        "print('*'*100)\n",
        "print('Italian stopwords:')\n",
        "print(stopwords.words('italian'))"
      ]
    },
    {
      "cell_type": "markdown",
      "metadata": {
        "id": "IQ0U8qCnbKq9"
      },
      "source": [
        "Now let's remove the stop-words from the tokenised text before counting the frequency of the words in the document.\n",
        "- We can easily remove items from a list using some special syntax in Python: **[x for x in list1 if x not in list2]**"
      ]
    },
    {
      "cell_type": "code",
      "source": [
        "words_nostopwords = words.copy()\n",
        "for word in words:\n",
        "  if word in stopwords.words('english'):\n",
        "    words_nostopwords.remove(word)"
      ],
      "metadata": {
        "id": "qbfSgFIhK7Fh"
      },
      "execution_count": 114,
      "outputs": []
    },
    {
      "cell_type": "code",
      "source": [
        "counts = Counter(words_nostopwords)\n",
        "print(\"Term frequencies:\")\n",
        "print(counts)"
      ],
      "metadata": {
        "colab": {
          "base_uri": "https://localhost:8080/"
        },
        "id": "aHZ8CzWvLhz5",
        "outputId": "3be29080-c513-4ff2-bc27-61b75e4294b0"
      },
      "execution_count": 115,
      "outputs": [
        {
          "output_type": "stream",
          "name": "stdout",
          "text": [
            "Term frequencies:\n",
            "Counter({'didn’t': 9, 'lila': 7, 'eli': 6, 'said': 6, 'letter': 5, 'envelope': 4, 'hadn’t': 4, 'late': 3, 'eyes': 3, 'away': 3, 'looked': 3, '“i': 3, 'last': 2, 'train': 2, 'coat': 2, 'words': 2, 'he’d': 2, 'courage': 2, 'would': 2, 'silence': 2, 'like': 2, 'things': 2, 'finally': 2, 'people': 2, 'walked': 2, 'something': 2, 'stood': 2, 'heart': 2, '“hey”': 2, 'still': 2, 'it’s': 2, 'know': 2, 'nodded': 2, 'sat': 1, 'cold': 1, 'bench': 1, 'platform': 1, '9': 1, 'clutching': 1, 'worn': 1, 'pocket': 1, 'fingers': 1, 'trembled—not': 1, 'chill': 1, 'autumn': 1, 'air': 1, 'weight': 1, 'inside': 1, 'written': 1, 'three': 1, 'weeks': 1, 'ago': 1, 'found': 1, 'send': 1, 'today': 1, 'hand': 1, 'person': 1, 'spoken': 1, 'year': 1, 'since': 1, 'argument': 1, 'slammed': 1, 'door': 1, 'followed': 1, 'fog': 1, 'quiet': 1, 'lake': 1, 'coming': 1, 'home': 1, 'father’s': 1, 'memorial': 1, 'promised': 1, 'try': 1, 'make': 1, 'right': 1, 'screeched': 1, 'doors': 1, 'opened': 1, 'spilled': 1, 'out—families': 1, 'suitcases': 1, 'students': 1, 'headphones': 1, 'man': 1, 'bouquet': 1, 'roses': 1, 'changed': 1, 'much': 1, 'short': 1, 'curls': 1, 'way': 1, 'quickly': 1, 'always': 1, 'heaviness': 1, 'seen': 1, 'see': 1, 'yet': 1, 'pounding': 1, 'almost': 1, 'backed': 1, 'met': 1, 'paused': 1, 'gave': 1, 'small': 1, 'wave': 1, 'smile': 1, 'turn': 1, 'either': 1, 'approached': 1, 'replied': 1, 'cautious': 1, 'calm': 1, 'long': 1, 'pause': 1, 'swirled': 1, 'around': 1, 'caught': 1, 'invisible': 1, 'bubble': 1, 'memories': 1, 'unspoken': 1, 'wrote': 1, 'something”': 1, 'pulling': 1, 'take': 1, '“it’s': 1, 'long”': 1, 'added': 1, '“but': 1, 'honest”': 1, 'took': 1, 'slowly': 1, 'face': 1, '“why': 1, 'now”': 1, '“because': 1, 'realized': 1, 'lot': 1, 'mean': 1, 'maybe…': 1, 'meant': 1, 'moment': 1, 'forever': 1, 'want': 1, 'thing': 1, 'us”': 1, 'thumb': 1, 'traced': 1, 'edge': 1, 'paper': 1, 'don’t': 1, 'expect': 1, 'anything”': 1, '“just': 1, 'wanted': 1, 'i’m': 1, 'sorry': 1, 'it”': 1, 'speak': 1, 'slipped': 1, 'bag': 1, 'go”': 1, '“of': 1, 'course”': 1, 'turned': 1, 'walk': 1, 'stopped': 1, '“thank': 1, 'you…': 1, 'sending': 1, 'mail”': 1, 'shoulder': 1, 'smiled': 1, 'lighter': 1, 'crowd': 1, 'read': 1, 'tonight': 1, 'next': 1, 'week': 1, 'ever—but': 1, 'matter': 1, 'mattered': 1, 'tried': 1, 'sometimes': 1, 'story': 1, 'needs': 1, 'beginning': 1, 'wound': 1, 'write': 1, 'ending—even': 1, 'one': 1, 'hoped': 1})\n"
          ]
        }
      ]
    },
    {
      "cell_type": "code",
      "execution_count": 116,
      "metadata": {
        "id": "qIHOmIwebKq9",
        "colab": {
          "base_uri": "https://localhost:8080/",
          "height": 449
        },
        "outputId": "7aa30dae-03e4-4404-aaf1-30bafd79f893"
      },
      "outputs": [
        {
          "output_type": "display_data",
          "data": {
            "text/plain": [
              "<Figure size 640x480 with 1 Axes>"
            ],
            "image/png": "[encoded data removed]"
          },
          "metadata": {}
        }
      ],
      "source": [
        "# Agian check the term frequency to see what happend\n",
        "words_nostopwords_freq_dataframe = pd.DataFrame(counts.items(),columns=['word','frequency']).sort_values(by='frequency',ascending=False)\n",
        "# create subplot of the different data frames\n",
        "sns.barplot(x='frequency',y='word',data=words_nostopwords_freq_dataframe.head(20),hue='word')\n",
        "plt.show()"
      ]
    },
    {
      "cell_type": "markdown",
      "metadata": {
        "id": "Vu-ex9CDbKq-"
      },
      "source": [
        "#3_Load Content from Web\n",
        "A primary source for textual data is web-based content. This section demonstrates the retrieval and processing of a Wikipedia article through the following steps:\n",
        "\n",
        "\n",
        "\n",
        "1.  Content Download: Utilize Python's urllib library to fetch the HTML documentm\n",
        "2.   Display initial 2000 bytes for content verification\n",
        "3.   Text Extraction (subsequent steps):\n",
        "4.   Parse HTML structure to isolate article text\n",
        "5.   Clean and prepare extracted content for analysis\n",
        "\n",
        "\n",
        "\n",
        "\n",
        "\n"
      ]
    },
    {
      "cell_type": "code",
      "execution_count": 119,
      "metadata": {
        "id": "u0BJs4iUbKq-",
        "colab": {
          "base_uri": "https://localhost:8080/"
        },
        "outputId": "25423171-4087-4163-c934-8db6bf108362"
      },
      "outputs": [
        {
          "output_type": "execute_result",
          "data": {
            "text/plain": [
              "b'<!DOCTYPE html>\\n<html class=\"client-nojs vector-feature-language-in-header-enabled vector-feature-language-in-main-page-header-disabled vector-feature-page-tools-pinned-disabled vector-feature-toc-pinned-clientpref-1 vector-feature-main-menu-pinned-disabled vector-feature-limited-width-clientpref-1 vector-feature-limited-width-content-enabled vector-feature-custom-font-size-clientpref-1 vector-feature-appearance-pinned-clientpref-1 vector-feature-night-mode-enabled skin-theme-clientpref-day vector-sticky-header-enabled vector-toc-available\" lang=\"en\" dir=\"ltr\">\\n<head>\\n<meta charset=\"UTF-8\">\\n<title>Dune (novel) - Wikipedia</title>\\n<script>(function(){var className=\"client-js vector-feature-language-in-header-enabled vector-feature-language-in-main-page-header-disabled vector-feature-page-tools-pinned-disabled vector-feature-toc-pinned-clientpref-1 vector-feature-main-menu-pinned-disabled vector-feature-limited-width-clientpref-1 vector-feature-limited-width-content-enabled vector-feature-custom-font-size-clientpref-1 vector-feature-appearance-pinned-clientpref-1 vector-feature-night-mode-enabled skin-theme-clientpref-day vector-sticky-header-enabled vector-toc-available\";var cookie=document.cookie.match(/(?:^|; )enwikimwclientpreferences=([^;]+)/);if(cookie){cookie[1].split(\\'%2C\\').forEach(function(pref){className=className.replace(new RegExp(\\'(^| )\\'+pref.replace(/-clientpref-\\\\w+$|[^\\\\w-]+/g,\\'\\')+\\'-clientpref-\\\\\\\\w+( |$)\\'),\\'$1\\'+pref+\\'$2\\');});}document.documentElement.className=className;}());RLCONF={\"wgBreakFrames\":false,\"wgSeparatorTransformTable\":[\"\",\"\"],\"wgDigitTransformTable\":[\"\",\"\"],\"wgDefaultDateFormat\":\"dmy\",\"wgMonthNames\":[\"\",\"January\",\"February\",\"March\",\"April\",\"May\",\"June\",\"July\",\"August\",\"September\",\"October\",\"November\",\"December\"],\"wgRequestId\":\"69709f22-2b7d-4655-a6aa-c02fc6f662f3\",\"wgCanonicalNamespace\":\"\",\"wgCanonicalSpecialPageName\":false,\"wgNamespaceNumber\":0,\"wgPageName\":\"Dune_(novel)\",\"wgTitle\":\"Dune (novel)\",\"wgCurRevisionId\":1285556357,\"wgRevisionId\":'"
            ]
          },
          "metadata": {},
          "execution_count": 119
        }
      ],
      "source": [
        "import urllib.request\n",
        "html_doc = urllib.request.urlopen('https://en.wikipedia.org/wiki/Dune_(novel)').read()\n",
        "html_doc[:2000]"
      ]
    },
    {
      "cell_type": "markdown",
      "metadata": {
        "id": "DEroaWgRbKq-"
      },
      "source": [
        "Wow, that looks pretty ugly!\n",
        "\n",
        "Let's use another library (called Beautiful Soup) to parse the content of the page."
      ]
    },
    {
      "cell_type": "code",
      "execution_count": null,
      "metadata": {
        "collapsed": true,
        "id": "0oHjPDNxbKq-",
        "jupyter": {
          "outputs_hidden": true
        },
        "tags": []
      },
      "outputs": [],
      "source": [
        "import bs4 as bs\n",
        "parsed_doc = bs.BeautifulSoup(html_doc,'lxml')\n",
        "print(parsed_doc.prettify())"
      ]
    },
    {
      "cell_type": "markdown",
      "metadata": {
        "id": "DniaRHMebKq_"
      },
      "source": [
        "## Extracting text from the HTML\n",
        "\n",
        "Now let's extract the text from the HTML page.\n",
        "- First find all paragraph \\<p\\> ... \\</p\\> elements within the HTML page.\n",
        "- The find_all() method returns a list of the elements:"
      ]
    },
    {
      "cell_type": "code",
      "execution_count": 121,
      "metadata": {
        "id": "Qetw2l_8bKq_"
      },
      "outputs": [],
      "source": [
        "paragraph_elements = parsed_doc.find_all('p')"
      ]
    },
    {
      "cell_type": "markdown",
      "metadata": {
        "id": "GStEGbJrbKq_"
      },
      "source": [
        "Let's see first 5 paragraphs of this text"
      ]
    },
    {
      "cell_type": "code",
      "execution_count": 128,
      "metadata": {
        "id": "chpj_uCTbKq_",
        "colab": {
          "base_uri": "https://localhost:8080/"
        },
        "outputId": "740782f2-1788-4469-ff79-f6d896da5c32"
      },
      "outputs": [
        {
          "output_type": "stream",
          "name": "stdout",
          "text": [
            "Paragraph 1 :\n",
            "<p class=\"mw-empty-elt\">\n",
            "</p>\n",
            "Paragraph 2 :\n",
            "<p><i><b>Dune</b></i> is a 1965 <a href=\"/wiki/Epic_(genre)\" title=\"Epic (genre)\">epic</a> <a href=\"/wiki/Science_fiction\" title=\"Science fiction\">science fiction</a> novel by American author <a href=\"/wiki/Frank_Herbert\" title=\"Frank Herbert\">Frank Herbert</a>, originally published as two separate serials (1963–64 novel <i><b>Dune World</b></i> and 1965 novel <i><b>Prophet of Dune</b></i>) in <i><a href=\"/wiki/Analog_Science_Fiction_and_Fact\" title=\"Analog Science Fiction and Fact\">Analog</a></i> magazine. It tied with <a href=\"/wiki/Roger_Zelazny\" title=\"Roger Zelazny\">Roger Zelazny</a>'s <i><a href=\"/wiki/This_Immortal\" title=\"This Immortal\">This Immortal</a></i> for the <a href=\"/wiki/Hugo_Award_for_Best_Novel\" title=\"Hugo Award for Best Novel\">Hugo Award for Best Novel</a> and won the inaugural <a href=\"/wiki/Nebula_Award_for_Best_Novel\" title=\"Nebula Award for Best Novel\">Nebula Award for Best Novel</a> in 1966. It is the first installment of the <a href=\"/wiki/Dune_(franchise)\" title=\"Dune (franchise)\"><i>Dune Chronicles</i></a>. It is one of the world's best-selling science fiction novels.<sup class=\"reference\" id=\"cite_ref-RIF_3-0\"><a href=\"#cite_note-RIF-3\"><span class=\"cite-bracket\">[</span>3<span class=\"cite-bracket\">]</span></a></sup>\n",
            "</p>\n",
            "Paragraph 3 :\n",
            "<p><i>Dune</i> is set in the distant future in a <a href=\"/wiki/Feudalism\" title=\"Feudalism\">feudal</a> interstellar society, descended from terrestrial humans, in which various noble houses control planetary <a href=\"/wiki/Fief\" title=\"Fief\">fiefs</a>.  It tells the story of young <a href=\"/wiki/Paul_Atreides\" title=\"Paul Atreides\">Paul Atreides</a>, whose family reluctantly accepts the stewardship of the planet <a href=\"/wiki/Arrakis\" title=\"Arrakis\">Arrakis</a>. While the planet is an inhospitable and sparsely populated desert wasteland, it is the only source of <a class=\"mw-redirect\" href=\"/wiki/Melange_(fictional_drug)\" title=\"Melange (fictional drug)\">melange</a> or \"spice\", an enormously valuable drug that extends life and enhances mental abilities. Melange is also necessary for space navigation, which requires a kind of multidimensional awareness and foresight that only the drug provides. As melange can only be produced on Arrakis, control of the planet is a coveted and dangerous undertaking. The story explores the multilayered interactions of politics, religion, ecology, technology, and human emotion as the factions of the empire confront each other in a struggle for the control of Arrakis and its spice.\n",
            "</p>\n",
            "Paragraph 4 :\n",
            "<p>Herbert wrote five <a href=\"/wiki/Sequel\" title=\"Sequel\">sequels</a>: <i><a href=\"/wiki/Dune_Messiah\" title=\"Dune Messiah\">Dune Messiah</a></i>, <i><a href=\"/wiki/Children_of_Dune\" title=\"Children of Dune\">Children of Dune</a></i>, <i><a href=\"/wiki/God_Emperor_of_Dune\" title=\"God Emperor of Dune\">God Emperor of Dune</a></i>, <i><a href=\"/wiki/Heretics_of_Dune\" title=\"Heretics of Dune\">Heretics of Dune</a></i>, and <i><a href=\"/wiki/Chapterhouse:_Dune\" title=\"Chapterhouse: Dune\">Chapterhouse: Dune</a></i>. Following Herbert's death in 1986, his son <a href=\"/wiki/Brian_Herbert\" title=\"Brian Herbert\">Brian Herbert</a> and author <a href=\"/wiki/Kevin_J._Anderson\" title=\"Kevin J. Anderson\">Kevin J. Anderson</a> continued the series in over a dozen additional novels since 1999.\n",
            "</p>\n",
            "Paragraph 5 :\n",
            "<p>Adaptations of the novel to cinema have been notoriously difficult and complicated. In the 1970s, cult filmmaker <a href=\"/wiki/Alejandro_Jodorowsky\" title=\"Alejandro Jodorowsky\">Alejandro Jodorowsky</a> attempted to make <a href=\"#Early_stalled_attempts\">a film</a> based on the novel. After three years of development, the project was canceled due to a constantly growing budget. In 1984, a <a href=\"/wiki/Dune_(1984_film)\" title=\"Dune (1984 film)\">film adaptation</a> directed by <a href=\"/wiki/David_Lynch\" title=\"David Lynch\">David Lynch</a> was released to mostly negative responses from critics and failure at the box office, although it later developed a <a href=\"/wiki/Cult_following\" title=\"Cult following\">cult following</a>. The book was also adapted into the 2000 <a href=\"/wiki/Syfy\" title=\"Syfy\">Sci-Fi Channel</a> miniseries <i><a href=\"/wiki/Frank_Herbert%27s_Dune\" title=\"Frank Herbert's Dune\">Frank Herbert's Dune</a></i> and its 2003 sequel, <i><a href=\"/wiki/Frank_Herbert%27s_Children_of_Dune\" title=\"Frank Herbert's Children of Dune\">Frank Herbert's Children of Dune</a></i> (the latter of which combines the events of <i>Dune Messiah</i> and <i>Children of Dune</i>). A second <a href=\"/wiki/Dune_(2021_film)\" title=\"Dune (2021 film)\">film adaptation</a>, directed by <a href=\"/wiki/Denis_Villeneuve\" title=\"Denis Villeneuve\">Denis Villeneuve</a>, was released on October 21, 2021, to positive reviews. It grossed $434 million worldwide and went on to be nominated for ten <a href=\"/wiki/Academy_Awards\" title=\"Academy Awards\">Academy Awards</a>, including <a href=\"/wiki/Academy_Award_for_Best_Picture\" title=\"Academy Award for Best Picture\">Best Picture</a>, ultimately winning six. Villeneuve's film covers roughly the first half of the original novel; a <a href=\"/wiki/Dune:_Part_Two\" title=\"Dune: Part Two\">sequel</a>, which covers the second half of the story, was released on March 1, 2024, to critical acclaim and has grossed $714.4 million worldwide.\n",
            "</p>\n"
          ]
        }
      ],
      "source": [
        "index = 1\n",
        "for paragraph in paragraph_elements[:5]:\n",
        "  print(\"Paragraph\",index,\":\")\n",
        "  print(paragraph)\n",
        "  index += 1\n",
        "\n"
      ]
    },
    {
      "cell_type": "markdown",
      "metadata": {
        "id": "j88DzCBDbKq_",
        "tags": []
      },
      "source": [
        "Well that was pretty uninteresting. The first paragraph was empty!\n",
        "\n",
        "OK, now let's get the text of each paragraph, without all of the HTML markup:\n"
      ]
    },
    {
      "cell_type": "code",
      "execution_count": 132,
      "metadata": {
        "id": "FZ4e7kyVbKrA",
        "colab": {
          "base_uri": "https://localhost:8080/"
        },
        "outputId": "d36bc257-62a6-49ac-f040-9310b584aace"
      },
      "outputs": [
        {
          "output_type": "stream",
          "name": "stdout",
          "text": [
            "Paragraph 1 :\n",
            "\n",
            "\n",
            "Paragraph 2 :\n",
            "Dune is a 1965 epic science fiction novel by American author Frank Herbert, originally published as two separate serials (1963–64 novel Dune World and 1965 novel Prophet of Dune) in Analog magazine. It tied with Roger Zelazny's This Immortal for the Hugo Award for Best Novel and won the inaugural Nebula Award for Best Novel in 1966. It is the first installment of the Dune Chronicles. It is one of the world's best-selling science fiction novels.[3]\n",
            "\n",
            "Paragraph 3 :\n",
            "Dune is set in the distant future in a feudal interstellar society, descended from terrestrial humans, in which various noble houses control planetary fiefs.  It tells the story of young Paul Atreides, whose family reluctantly accepts the stewardship of the planet Arrakis. While the planet is an inhospitable and sparsely populated desert wasteland, it is the only source of melange or \"spice\", an enormously valuable drug that extends life and enhances mental abilities. Melange is also necessary for space navigation, which requires a kind of multidimensional awareness and foresight that only the drug provides. As melange can only be produced on Arrakis, control of the planet is a coveted and dangerous undertaking. The story explores the multilayered interactions of politics, religion, ecology, technology, and human emotion as the factions of the empire confront each other in a struggle for the control of Arrakis and its spice.\n",
            "\n",
            "Paragraph 4 :\n",
            "Herbert wrote five sequels: Dune Messiah, Children of Dune, God Emperor of Dune, Heretics of Dune, and Chapterhouse: Dune. Following Herbert's death in 1986, his son Brian Herbert and author Kevin J. Anderson continued the series in over a dozen additional novels since 1999.\n",
            "\n",
            "Paragraph 5 :\n",
            "Adaptations of the novel to cinema have been notoriously difficult and complicated. In the 1970s, cult filmmaker Alejandro Jodorowsky attempted to make a film based on the novel. After three years of development, the project was canceled due to a constantly growing budget. In 1984, a film adaptation directed by David Lynch was released to mostly negative responses from critics and failure at the box office, although it later developed a cult following. The book was also adapted into the 2000 Sci-Fi Channel miniseries Frank Herbert's Dune and its 2003 sequel, Frank Herbert's Children of Dune (the latter of which combines the events of Dune Messiah and Children of Dune). A second film adaptation, directed by Denis Villeneuve, was released on October 21, 2021, to positive reviews. It grossed $434 million worldwide and went on to be nominated for ten Academy Awards, including Best Picture, ultimately winning six. Villeneuve's film covers roughly the first half of the original novel; a sequel, which covers the second half of the story, was released on March 1, 2024, to critical acclaim and has grossed $714.4 million worldwide.\n",
            "\n"
          ]
        }
      ],
      "source": [
        "paragraph_texts = [paragraph.text for paragraph in paragraph_elements]\n",
        "index = 1\n",
        "for paragraph in paragraph_texts[:5]:\n",
        "  print(\"Paragraph\",index,\":\")\n",
        "  print(paragraph)\n",
        "  index += 1"
      ]
    },
    {
      "cell_type": "markdown",
      "metadata": {
        "id": "vSkaGgtxbKrA"
      },
      "source": [
        "Print out the whole list to see text from the entire document:"
      ]
    },
    {
      "cell_type": "code",
      "execution_count": 133,
      "metadata": {
        "collapsed": true,
        "id": "O38oIsntbKrA",
        "jupyter": {
          "outputs_hidden": true
        },
        "tags": [],
        "colab": {
          "base_uri": "https://localhost:8080/"
        },
        "outputId": "1644fa2b-f36f-465c-c4d1-4aba2be191b3"
      },
      "outputs": [
        {
          "output_type": "stream",
          "name": "stdout",
          "text": [
            "['\\n', \"Dune is a 1965 epic science fiction novel by American author Frank Herbert, originally published as two separate serials (1963–64 novel Dune World and 1965 novel Prophet of Dune) in Analog magazine. It tied with Roger Zelazny's This Immortal for the Hugo Award for Best Novel and won the inaugural Nebula Award for Best Novel in 1966. It is the first installment of the Dune Chronicles. It is one of the world's best-selling science fiction novels.[3]\\n\", 'Dune is set in the distant future in a feudal interstellar society, descended from terrestrial humans, in which various noble houses control planetary fiefs.  It tells the story of young Paul Atreides, whose family reluctantly accepts the stewardship of the planet Arrakis. While the planet is an inhospitable and sparsely populated desert wasteland, it is the only source of melange or \"spice\", an enormously valuable drug that extends life and enhances mental abilities. Melange is also necessary for space navigation, which requires a kind of multidimensional awareness and foresight that only the drug provides. As melange can only be produced on Arrakis, control of the planet is a coveted and dangerous undertaking. The story explores the multilayered interactions of politics, religion, ecology, technology, and human emotion as the factions of the empire confront each other in a struggle for the control of Arrakis and its spice.\\n', \"Herbert wrote five sequels: Dune Messiah, Children of Dune, God Emperor of Dune, Heretics of Dune, and Chapterhouse: Dune. Following Herbert's death in 1986, his son Brian Herbert and author Kevin J. Anderson continued the series in over a dozen additional novels since 1999.\\n\", \"Adaptations of the novel to cinema have been notoriously difficult and complicated. In the 1970s, cult filmmaker Alejandro Jodorowsky attempted to make a film based on the novel. After three years of development, the project was canceled due to a constantly growing budget. In 1984, a film adaptation directed by David Lynch was released to mostly negative responses from critics and failure at the box office, although it later developed a cult following. The book was also adapted into the 2000 Sci-Fi Channel miniseries Frank Herbert's Dune and its 2003 sequel, Frank Herbert's Children of Dune (the latter of which combines the events of Dune Messiah and Children of Dune). A second film adaptation, directed by Denis Villeneuve, was released on October 21, 2021, to positive reviews. It grossed $434 million worldwide and went on to be nominated for ten Academy Awards, including Best Picture, ultimately winning six. Villeneuve's film covers roughly the first half of the original novel; a sequel, which covers the second half of the story, was released on March 1, 2024, to critical acclaim and has grossed $714.4 million worldwide.\\n\", 'The series has also been used as the basis for several board, role-playing, and video games.\\n', \"Since 2009, the names of planets from the Dune novels have been adopted for the real-life nomenclature of plains and other features on Saturn's moon Titan.\\n\", 'After his novel The Dragon in the Sea was published in 1957, Herbert traveled to Florence, Oregon, at the north end of the Oregon Dunes. Here, the United States Department of Agriculture was attempting to use poverty grasses to stabilize the sand dunes. Herbert claimed in a letter to his literary agent, Lurton Blassingame, that the moving dunes could \"swallow whole cities, lakes, rivers, highways.\"[4] Herbert\\'s article on the dunes, \"They Stopped the Moving Sands\", was never completed (and only published decades later in The Road to Dune), but its research sparked Herbert\\'s interest in ecology and deserts.[5]\\n', 'Herbert further drew inspiration from Native American mentors like \"Indian Henry\" (as Herbert referred to the man to his son; likely a Henry Martin of the Hoh tribe) and Howard Hansen. Both Martin and Hansen grew up on the Quileute reservation near Herbert\\'s hometown. According to historian Daniel Immerwahr, Hansen regularly shared his writing with Herbert. \"White men are eating the earth,\" Hansen told Herbert in 1958, after sharing a piece on the effect of logging on the Quileute reservation. \"They\\'re gonna turn this whole planet into a wasteland, just like North Africa.\" The world could become a \"big dune,\" Herbert responded in agreement.[6]\\n', 'Herbert was also interested in the idea of the superhero mystique and messiahs. He believed that feudalism was a natural condition humans fell into, where some led and others gave up the responsibility of making decisions and just followed orders. He found that desert environments have historically given birth to several major religions with messianic impulses. He decided to join his interests together so he could play religious and ecological ideas against each other. In addition, he was influenced by the story of T. E. Lawrence and the \"messianic overtones\" in Lawrence\\'s involvement in the Arab Revolt during World War I. In an early version of Dune, the hero was actually very similar to Lawrence of Arabia, but Herbert decided the plot was too straightforward and added more layers to his story.[7]\\n', \"Herbert drew heavy inspiration also from Lesley Blanch's The Sabres of Paradise (1960), a narrative history recounting a mid-19th century conflict in the Caucasus between rugged caucasian Muslim tribes and the expanding Russian Empire.[8] Language used on both sides of that conflict become terms in Herbert's world—chakobsa, a Caucasian hunting language, becomes a battle language of humans spread across the galaxy; kanly, a word for blood feud in the 19th century Caucasus, represents a feud between Dune's noble Houses; sietch and tabir are both words for camp borrowed from Ukrainian Cossacks (of the Pontic–Caspian steppe).[8]\\n\", 'Herbert also borrowed some lines which Blanch stated were Caucasian proverbs. \"To kill with the point lacked artistry\", used by Blanch to describe the Caucasus peoples\\' love of swordsmanship, becomes in Dune \"Killing with the tip lacks artistry\", a piece of advice given to a young Paul during his training. \"Polish comes from the city, wisdom from the hills\", a Caucasian aphorism, turns into a desert expression: \"Polish comes from the cities, wisdom from the desert\".[8]\\n', \"\\nAnother significant source of inspiration for Dune was Herbert's experiences with psilocybin and his hobby of cultivating mushrooms, according to mycologist Paul Stamets's account of meeting Herbert in the 1980s:[9]\", 'Frank went on to tell me that much of the premise of Dune—the magic spice (spores) that allowed the bending of space (tripping), the giant sand worms (maggots digesting mushrooms), the eyes of the Freman (the cerulean blue of Psilocybe mushrooms), the mysticism of the female spiritual warriors, the Bene Gesserits (influenced by the tales of Maria Sabina and the sacred mushroom cults of Mexico)—came from his perception of the fungal life cycle, and his imagination was stimulated through his experiences with the use of magic mushrooms.', 'Herbert spent the next five years researching, writing, and revising. He published a three-part serial Dune World in the monthly Analog, from December 1963 to February 1964. The serial was accompanied by several illustrations that were not published again. After an interval of a year, he published the much slower-paced five-part The Prophet of Dune in the January–May 1965 issues.[10][11] The first serial became \"Book One: Dune\" in the final published Dune novel, and the second serial was divided into \"Book Two: Muad\\'dib\" and \"Book Three: The Prophet\". The serialized version was expanded, reworked, and submitted to more than twenty publishers, each of whom rejected it. The novel, Dune, was finally accepted and published in August 1965 by Chilton Books, a printing house better known for publishing auto repair manuals.[12] Sterling Lanier, an editor at Chilton, had seen Herbert\\'s manuscript and had urged his company to take a risk in publishing the book. However, the first printing, priced at $5.95 (equivalent to $59.37 in 2024), did not sell well and was poorly received by critics as being atypical of science fiction at the time. Chilton considered the publication of Dune a write-off and Lanier was fired.[13] Over the course of time, the book gained critical acclaim, and its popularity spread by word-of-mouth to allow Herbert to start working full time on developing the sequels to Dune, elements of which were already written alongside Dune.[14]\\n', 'At first Herbert considered using Mars as setting for his novel, but eventually decided to use a fictional planet instead. His son Brian said that \"Readers would have too many preconceived ideas about that planet, due to the number of stories that had been written about it.\"[15]\\n', 'Herbert dedicated his work \"to the people whose labors go beyond ideas into the realm of \\'real materials\\'—to the dry-land ecologists, wherever they may be, in whatever time they work, this effort at prediction is dedicated in humility and admiration.\"[16]\\n', 'Duke Leto Atreides of House Atreides, ruler of the ocean world Caladan, is assigned by the Padishah Emperor Shaddam IV to serve as fief ruler of the planet Arrakis. Although Arrakis is a harsh and inhospitable desert planet, it is of enormous importance because it is the only planetary source of melange, or the \"spice\", a unique and incredibly valuable substance that extends human youth, vitality and lifespan. It is also through the consumption of spice that Spacing Guild Navigators are able to effect safe interstellar travel through a limited ability to see into the future. The Emperor is jealous of the Duke\\'s rising popularity in the Landsraad, the council of Great Houses, and sees House Atreides as a potential rival and threat. He conspires with House Harkonnen, the former stewards of Arrakis and the longstanding enemies of the Atreides, to destroy Leto and his family after their arrival. Leto is aware his assignment is a trap of some kind, but is compelled to obey the Emperor\\'s orders anyway.\\n', \"Leto's concubine Lady Jessica is an acolyte of the Bene Gesserit, an exclusively female group that pursues mysterious political aims and wields seemingly superhuman physical and mental abilities, such as the ability to control their bodies down to the cellular level, and also decide the sex of their children. Though Jessica was instructed by the Bene Gesserit to bear a daughter as part of their breeding program, out of love for Leto she bore him a son, Paul. From a young age, Paul is trained in warfare by Leto's aides, the elite soldiers Duncan Idaho and Gurney Halleck. Thufir Hawat, the Duke's Mentat (human computers, able to store vast amounts of data and perform advanced calculations on demand), has instructed Paul in the ways of political intrigue. Jessica has also trained her son in Bene Gesserit disciplines.\\n\", \"Paul's prophetic dreams interest Jessica's superior, the Reverend Mother Gaius Helen Mohiam. She subjects Paul to a deadly test. She holds a poisoned needle, the gom jabbar, to his neck, ready to strike should he withdraw his hand from a box which creates extreme pain by nerve induction but causes no physical damage. This is to test Paul's ability to endure the pain and override his animal instincts, proving that he is, in Bene Gesserit eyes, human. Paul passes, enduring greater pain than any woman has ever been subjected to in the test.\\n\", \"Paul and his parents travel with their household to occupy Arrakeen, the capital on Arrakis. Leto learns of the dangers involved in harvesting the spice, which is protected by giant sandworms, and seeks to negotiate with the planet's indigenous Fremen people, seeing them as a valuable ally rather than foes. Soon after the Atreides' arrival, Harkonnen forces attack, joined by the Emperor's ferocious Sardaukar troops in disguise. Leto is betrayed by his personal physician, the Suk doctor Wellington Yueh, who delivers a drugged Leto to the Baron Vladimir Harkonnen and his twisted Mentat, Piter De Vries.\\n\", \"Yueh, who delivered Leto under duress, arranges for Jessica and Paul to escape into the desert. Duncan is killed helping them flee, and they are subsequently presumed dead in a sandstorm by the Harkonnens. Yueh replaces one of Leto's teeth with a poison gas capsule, hoping Leto can kill Baron Harkonnen during their encounter. Piter kills Yueh, and the Baron narrowly avoids the gas (due to his defensive shield), which kills Leto, Piter, and the others in the room. The Baron forces Thufir to take over Piter's position by dosing him with a long-lasting, fatal poison and threatening to withhold the regular antidote doses. While he follows the Baron's orders, Thufir works secretly to undermine the Harkonnens.\\n\", \"Having fled into the desert, Paul is exposed to high concentrations of spice and has visions through which he realizes he has significant powers (as a result of the Bene Gesserit breeding scheme). He foresees potential futures in which he lives among the Fremen before leading them on a holy war across the known universe. Paul reveals that Jessica's father is Baron Harkonnen, a secret kept from her by the Bene Gesserit.\\n\", 'Paul and Jessica traverse the desert in search of Fremen people. After being captured by a Fremen band, Paul and Jessica agree to teach the Fremen the Bene Gesserit fighting technique known to the Fremen as the \"weirding way\" and are accepted into the community of Sietch Tabr. Paul proves his manhood by killing a Fremen man named Jamis in a ritualistic crysknife fight and chooses the Fremen name Muad\\'Dib, while Jessica opts to undergo a ritual to become a Reverend Mother by drinking and neutralizing the poisonous Water of Life. Pregnant with Leto\\'s daughter, she inadvertently causes her unborn daughter Alia to become infused with the same powers in the womb. Paul takes a Fremen lover, Chani, who bears him a son he names Leto.\\n', 'Two years pass, and Paul\\'s powerful prescience manifests, which confirms to the Fremen that he is their prophesied \"Lisan al-Gaib\" messiah, a legend planted by the Bene Gesserit\\'s Missionaria Protectiva. Paul embraces his father\\'s belief that the Fremen could be a powerful fighting force to take back Arrakis, but also sees that if he does not control them, their jihad could consume the entire universe. Word of the new Fremen leader reaches both the Baron and the Emperor as spice production falls due to their increasingly destructive raids. The Baron encourages his brutish nephew Glossu \"Beast\" Rabban to rule with an iron fist, hoping the contrast with his shrewder nephew Feyd-Rautha will make the latter popular among the people of Arrakis when he eventually replaces Rabban. The Emperor, suspecting the Baron of trying to create troops more powerful than the Sardaukar to seize power, sends spies to Arrakis. Thufir uses the opportunity to sow seeds of doubt in the Baron about the Emperor\\'s true plans, putting further strain on their alliance.\\n', \"Gurney, who survived the Harkonnen coup and became a smuggler, reunites with Paul and Jessica after a Fremen raid on his harvester. Believing Jessica to be a traitor, Gurney threatens to kill her but is stopped by Paul. Paul did not foresee Gurney's attack and concludes he must increase his prescience by drinking the Water of Life, which is fatal to males. Paul falls into unconsciousness for three weeks after drinking the poison, but when he wakes, he has clairvoyance across time and space: he is the Kwisatz Haderach, the ultimate goal of the Bene Gesserit breeding program.\\n\", \"Paul senses the Emperor and the Baron are amassing fleets around Arrakis to quell the Fremen rebellion, and prepares the Fremen for a major offensive. The Emperor arrives with the Baron on Arrakis. The Sardaukar seize a Fremen outpost, killing many, including young Leto, while Alia is captured and taken to the Emperor. Under cover of an electric storm, which shorts out the Sardaukar's defensive shields, Paul and the Fremen, riding giant sandworms, destroy the capital's natural rock fortifications with atomics and attack, while Alia assassinates the Baron and escapes. The Fremen quickly defeat both the Harkonnen and Sardaukar troops, killing Rabban in the process. Thufir is ordered to assassinate Paul, who gives him the opportunity to take anything that Thufir wishes of him. Thufir stabs himself with the poisoned needle intended for Paul.\\n\", \"Paul faces the Emperor, threatening to destroy spice production forever unless Shaddam abdicates the throne. Feyd-Rautha challenges Paul to a knife fight, during which he cheats and tries to kill Paul with a poison spur in his belt. Paul gains the upper hand and kills him. The Emperor reluctantly cedes the throne to Paul and promises his daughter Princess Irulan's hand in marriage. Paul takes control of the Empire, but realizes that he cannot stop the Fremen jihad, as their belief in him is too powerful to restrain.\\n\", 'The Dune series is a landmark of science fiction. Herbert deliberately suppressed technology in his Dune universe so he could address the politics of humanity, rather than the future of humanity\\'s technology. For example, a key pre-history event to the novel\\'s present is the \"Butlerian Jihad\", in which all robots and computers were destroyed, eliminating these common elements to science fiction from the novel as to allow focus on humanity.[14] Dune considers the way humans and their institutions might change over time.[1] Director John Harrison, who adapted Dune for Syfy\\'s 2000 miniseries, called the novel a universal and timeless reflection of \"the human condition and its moral dilemmas\", and said:\\n', \"A lot of people refer to Dune as science fiction. I never do. I consider it an epic adventure in the classic storytelling tradition, a story of myth and legend not unlike the Morte d'Arthur or any messiah story. It just happens to be set in the future ... The story is actually more relevant today than when Herbert wrote it. In the 1960s, there were just these two colossal superpowers duking it out. Today we're living in a more feudal, corporatized world more akin to Herbert's universe of separate families, power centers and business interests, all interrelated and kept together by the one commodity necessary to all.[17]\", 'But Dune has also been called a mix of soft and hard science fiction since \"the attention to ecology is hard, the anthropology and the psychic abilities are soft.\"[18] Hard elements include the ecology of Arrakis, suspensor technology, weapon systems, and ornithopters, while soft elements include issues relating to religion, physical and mental training, cultures, politics, and psychology.[19]\\n', \"Herbert said Paul's messiah figure was inspired by the Arthurian legend,[20] and that the scarcity of water on Arrakis was a metaphor for oil, as well as air and water itself, and for the shortages of resources caused by overpopulation.[21] Novelist Brian Herbert, his son and biographer, wrote:\\n\", 'Dune is a modern-day conglomeration of familiar myths, a tale in which great sandworms guard a precious treasure of melange, the geriatric spice that represents, among other things, the finite resource of oil. The planet Arrakis features immense, ferocious worms that are like dragons of lore, with \"great teeth\" and a \"bellows breath of cinnamon.\" This resembles the myth described by an unknown English poet in Beowulf, the compelling tale of a fearsome fire dragon who guarded a great treasure hoard in a lair under cliffs, at the edge of the sea. The desert of Frank Herbert\\'s classic novel is a vast ocean of sand, with giant worms diving into the depths, the mysterious and unrevealed domain of Shai-hulud. Dune tops are like the crests of waves, and there are powerful sandstorms out there, creating extreme danger. On Arrakis, life is said to emanate from the Maker (Shai-hulud) in the desert-sea; similarly all life on Earth is believed to have evolved from our oceans. Frank Herbert drew parallels, used spectacular metaphors, and extrapolated present conditions into world systems that seem entirely alien at first blush. But close examination reveals they aren\\'t so different from systems we know … and the book characters of his imagination are not so different from people familiar to us.[22]', 'Each chapter of Dune begins with an epigraph excerpted from the fictional writings of the character Princess Irulan. In forms such as diary entries, historical commentary, biography, quotations and philosophy, these writings set tone and provide exposition, context and other details intended to enhance understanding of Herbert\\'s complex fictional universe and themes.[23][24][25] They act as foreshadowing and invite the reader to keep reading to close the gap between what the epigraph says and what is happening in the main narrative.[26] The epigraphs also give the reader the feeling that the world they are reading about is epically distanced, since Irulan writes about an idealized image of Paul as if he had already passed into memory.[27] Brian Herbert wrote: \"Dad told me that you could follow any of the novel\\'s layers as you read it, and then start the book all over again, focusing on an entirely different layer. At the end of the book, he intentionally left loose ends and said he did this to send the readers spinning out of the story with bits and pieces of it still clinging to them, so that they would want to go back and read it again.\"[28]\\n', 'Due to the similarities between some of Herbert\\'s terms and ideas and actual words and concepts in the Arabic language, as well as the series\\' \"Islamic undertones\" and themes, a Middle-Eastern influence on Herbert\\'s works has been noted repeatedly.[29][30] In his descriptions of the Fremen culture and language, Herbert uses both authentic Arabic words and Arabic-sounding words.[31][32] For example, one of the names for the sandworm, Shai-hulud, is derived from Arabic: شيء خلود, romanized:\\xa0šayʾ ḫulūd, lit.\\u2009\\'immortal thing\\' or Arabic: شيخ خلود, romanized:\\xa0šayḫ ḫulūd, lit.\\u2009\\'old man of eternity\\'.[33][32] The title of the Fremen housekeeper, the Shadout Mapes, is borrowed from the Arabic: شادوف, romanized:\\xa0šādūf, the Egyptian term for a device used to raise water.[32] In particular, words related to the messianic religion of the Fremen, first implanted by the Bene Gesserit, are taken from Arabic, including Muad\\'Dib (from Arabic: مؤدب, romanized:\\xa0muʾaddib, lit.\\u2009\\'educator\\'), Lisan al-Gaib (from Arabic: لسان الغيب, romanized:\\xa0lisān al-ġayb, lit.\\u2009\\'voice of the unseen\\') Usul (from Arabic: أصول, romanized:\\xa0ʾuṣūl, lit.\\u2009\\'fundamental principles\\'), Shari-a (from Arabic: شريعة, romanized:\\xa0šarīʿa, lit.\\u2009\\'sharia; path\\'), Shaitan (from Arabic: شيطان, romanized:\\xa0šayṭān, lit.\\u2009\\'Shaitan; devil; fiend\\'), and jinn (from Arabic: جن, romanized:\\xa0ǧinn, lit.\\u2009\\'jinn; spirit; demon; mythical being\\').[29] It is likely Herbert relied on second-hand resources such as phrasebooks and desert adventure stories to find these Arabic words and phrases for the Fremen.[32] They are meaningful and carefully chosen, and help create an \"imagined desert culture that resonates with exotic sounds, enigmas, and pseudo-Islamic references\" and has a distinctly Bedouin aesthetic.[32]\\n', 'As a foreigner who adopts the ways of a desert-dwelling people and then leads them in a military capacity, Paul Atreides bears many similarities to the historical T. E. Lawrence.[34] His 1962 biopic Lawrence of Arabia has also been identified as a potential influence.[35] The Sabres of Paradise (1960) has also been identified as a potential influence upon Dune, with its depiction of Imam Shamil and the Islamic culture of the Caucasus inspiring some of the themes, characters, events and terminology of Dune.[8]\\n', 'The environment of the desert planet Arrakis was primarily inspired by the environments of the Middle East. Similarly Arrakis as a bioregion is presented as a particular kind of political site. Herbert has made it resemble a desertified petrostate area.[36] The Fremen people of Arrakis were influenced by the Bedouin tribes of Arabia, and the Mahdi prophecy originates from Islamic eschatology.[37] Inspiration is also adopted from medieval historian Ibn Khaldun\\'s cyclical history and his dynastic concept in North Africa, hinted at by Herbert\\'s reference to Khaldun\\'s book Kitāb al-ʿibar (\"The Book of Lessons\"). The fictionalized version of the \"Kitab al-ibar\" in Dune is a combination of a Fremen religious manual and a desert survival book.[38][39]\\n', 'In addition to Arabic, Dune derives words and names from a variety of other languages, including Navajo, Latin, Old Scandinavian (\"Landsraad\"),[40] Romani, Hebrew (\"Kefitzat haderech\", in Hebrew \"קפיצת הדרך\", meaning contracting of the path), Serbo-Croatian, Nahuatl, Greek, Persian, Sanskrit (\"prana bindu\", \"prajna\"), Russian, Turkish, Finnish, and Old English.[41][42] Bene Gesserit is part of the Latin legal phrase quamdiu se bene gesserit \"as long as he shall behave himself well\" seen in grants of certain offices (such as judgeships) meaning that the appointee shall remain in office so long as he shall not be guilty of abusing it. Some critics miss the connotation of the phrase, misled by the Latin future perfect gesserit, taking it over-literally (and adding an unwarranted passive) to mean \"it will have been well borne\", an interpretation which is not well supported by the Bene Gesserit doctrine in the story.[43][original research?]\\n', 'Through the inspiration from The Sabres of Paradise, there are also allusions to the tsarist-era Russian nobility and Cossacks.[44] Frank Herbert stated that bureaucracy that lasted long enough would become a hereditary nobility, and a significant theme behind the aristocratic families in Dune was \"aristocratic bureaucracy\" which he saw as analogous to the Soviet Union.[45][46]\\n', 'Dune has been called the \"first planetary ecology novel on a grand scale\".[47] Herbert hoped it would be seen as an \"environmental awareness handbook\" and said the title was meant to \"echo the sound of \\'doom\\'\".[48] It was reviewed in the best selling countercultural Whole Earth Catalog in 1968 as a \"rich re-readable fantasy with clear portrayal of the fierce environment it takes to cohere a community\".[49]\\n', \"After the publication of Silent Spring by Rachel Carson in 1962, science fiction writers began treating the subject of ecological change and its consequences. Dune responded in 1965 with its complex descriptions of Arrakis life, from giant sandworms (for whom water is deadly) to smaller, mouse-like life-forms adapted to live with limited water. Dune was followed in its creation of complex and unique ecologies by other science fiction books such as A Door into Ocean (1986) and Red Mars (1992).[47] Environmentalists have pointed out that Dune's popularity as a novel depicting a planet as a complex—almost living—thing, in combination with the first images of Earth from space being published in the same time period, strongly influenced environmental movements such as the establishment of the international Earth Day.[50]\\n\", 'While the genre of climate fiction was popularized in the 2010s in response to real global climate change, Dune as well as other early science fiction works from authors like J. G. Ballard (The Drowned World) and Kim Stanley Robinson (the Mars trilogy) have retroactively been considered pioneering examples of the genre.[51][52]\\n', 'The Imperium in Dune contains features of various empires in Europe and the Near East, including the Roman Empire, Holy Roman Empire, and Ottoman Empire.[53][33][54] Lorenzo DiTommaso compared Dune\\'s portrayal of the downfall of a galactic empire to Edward Gibbon\\'s Decline and Fall of the Roman Empire, which argues that Christianity allied with the profligacy of the Roman elite led to the fall of Ancient Rome. In \"The Articulation of Imperial Decadence and Decline in Epic Science Fiction\" (2007), DiTommaso outlines similarities between the two works by highlighting the excesses of the Emperor on his home planet of Kaitain and of the Baron Harkonnen in his palace. The Emperor loses his effectiveness as a ruler through an excess of ceremony and pomp. The hairdressers and attendants he brings with him to Arrakis are even referred to as \"parasites\". The Baron Harkonnen is similarly corrupt and materially indulgent. Gibbon\\'s Decline and Fall partly blames the fall of Rome on the rise of Christianity. Gibbon claimed that this exotic import from a conquered province weakened the soldiers of Rome and left it open to attack. The Emperor\\'s Sardaukar fighters are little match for the Fremen of Dune not only because of the Sardaukar\\'s overconfidence and the fact that Jessica and Paul have trained the Fremen in their battle tactics, but because of the Fremen\\'s capacity for self-sacrifice. The Fremen put the community before themselves in every instance, while the world outside wallows in luxury at the expense of others.[55]\\n', 'The decline and long peace of the Empire sets the stage for revolution and renewal by genetic mixing of successful and unsuccessful groups through war, a process culminating in the Jihad led by Paul Atreides, described by Frank Herbert as depicting \"war as a collective orgasm\" (drawing on Norman Walter\\'s 1950 The Sexual Cycle of Human Warfare),[56][57] themes that would reappear in God Emperor of Dune\\'s Scattering and Leto II\\'s all-female Fish Speaker army.\\n', \"Gender dynamics are complex in Dune. Herbert offers a multi-layered portrayal of gender roles within the context of a feudal, hierarchical society, particularly through the Bene Gesserit Sisterhood. Although the Bene Gesserit tend to hold roles that are traditionally associated with women, such as wives, concubines, and mothers, their characters transcend stereotypes as they play politics and pursue long-term strategic goals. Full gender equality is not depicted in Dune, but the Bene Gesserit use specialized training and access to high-ranking men to gain agency and power within the constraints of their environment. Their training in prana-bindu allows them to exert control over their minds and bodies, including over pregnancy, and they are skilled in hand-to-hand combat and use of the Voice to command others. Jessica's disobedience in bearing a son instead of daughter and training him in the Bene Gesserit Way is a major plot point that sets in motion the events of the novel.[58][59] By setting up certain women with leaders of certain Houses in the Imperium, the Bene Gesserit can control bloodlines across generations through their secret breeding program.[60] Even within the male-dominated Imperium, then, the Bene Gesserit wield reproductive power and choose which genetic markers to continue into the future.[61]\\n\", \"Reverend Mother Mohiam uses skills in Truthsaying to act as the Emperor's official Truthsayer and advisor. Her role can be considered similar to that of abbesses in the medieval Church. Before Princess Irulan appears as a character who agrees to a political marriage with Paul, she acts as a historian who shapes the reader's interpretation of the story and Paul's legacy due to the excerpts from her writing that frame each chapter.[58][59]\\n\", \"Among the Fremen, women have roles as mothers and wives and also exercise agency through combat and religious authority. Fremen women and children have a reputation for being just as violent and dangerous as Fremen men. Chani travels with Stilgar in his military party, armed like the others. After becoming Paul's concubine, she kills one of the men who comes to challenge him. Alia leads an attack against the Emperor's Sardaukar and kills Baron Harkonnen with a gom jabbar. Women also take on the role of religious leaders. Chani is a Sayyadina who presides over tribal rituals such as Paul's worm-riding test, and Reverend Mother Ramallo carries the tribe's memories and passes them along to Jessica through the Water of Life ceremony. Within the male-led sietches, Fremen women find different avenues of authority.[62]\\n\", 'The gom jabbar test of humanity is administered by the female Bene Gesserit order but rarely to males.[63] The Bene Gesserit have seemingly mastered the unconscious and can play on the unconscious weaknesses of others using the Voice, yet their breeding program seeks after a male Kwisatz Haderach.[34] Their plan is to produce a male who can \"possess complete racial memory, both male and female,\" and look into the black hole in the collective unconscious that they fear.[64] A central theme of the book is the connection, in Jessica\\'s son, of this female aspect with his male aspect. This aligns with concepts in Jungian psychology, which features conscious/unconscious and taking/giving roles associated with males and females, as well as the idea of the collective unconscious.[65] Paul\\'s approach to power consistently requires his upbringing under the matriarchal Bene Gesserit, who operate as a long-dominating shadow government behind all of the great houses and their marriages or divisions.[64] He is trained by Jessica in the Bene Gesserit Way, which includes prana-bindu training in nerve and muscle control and precise perception.[59] Paul also receives Mentat training, thus helping prepare him to be a type of androgynous Kwisatz Haderach, a male Reverend Mother.[64]\\n', 'In a Bene Gesserit test early in the book, it is implied that people are generally \"inhuman\" in that they irrationally place desire over self-interest and reason.[citation needed] This applies Herbert\\'s philosophy that humans are not created equal, while equal justice and equal opportunity are higher ideals than mental, physical, or moral equality.[66]\\n', 'I am showing you the superhero syndrome and your own participation in it.', 'Throughout Paul\\'s rise to superhuman status, he follows a plotline common to many stories describing the birth of a hero.[68] He has unfortunate circumstances forced onto him. After a long period of hardship and exile, he confronts and defeats the source of evil in his tale.[69][70] As such, Dune is representative of a general trend beginning in 1960s American science fiction in that it features a character who attains godlike status through scientific means.[71] Eventually, Paul Atreides gains a level of omniscience which allows him to take over the planet and the galaxy, and causes the Fremen of Arrakis to worship him like a god. Author Frank Herbert said in 1979, \"The bottom line of the Dune trilogy is: beware of heroes. Much better to rely on your own judgment, and your own mistakes.\"[72] He wrote in 1985, \"Dune was aimed at this whole idea of the infallible leader because my view of history says that mistakes made by a leader (or made in a leader\\'s name) are amplified by the numbers who follow without question.\"[73]\\n', 'Juan A. Prieto-Pablos says Herbert achieves a new typology with Paul\\'s superpowers, differentiating the heroes of Dune from earlier heroes such as Superman, van Vogt\\'s Gilbert Gosseyn and Henry Kuttner\\'s telepaths. Unlike previous superheroes who acquire their powers suddenly and accidentally, Paul\\'s are the result of \"painful and slow personal progress.\" And unlike other superheroes of the 1960s—who are the exception among ordinary people in their respective worlds—Herbert\\'s characters grow their powers through \"the application of mystical philosophies and techniques.\" For Herbert, the ordinary person can develop incredible fighting skills (Fremen, Ginaz swordsmen and Sardaukar) or mental abilities (Bene Gesserit, Mentats, Spacing Guild Navigators).[74]\\n', 'Early in his newspaper career, Herbert was introduced to Zen by two Jungian psychologists, Ralph and Irene Slattery, who \"gave a crucial boost to his thinking\".[75] Zen teachings ultimately had \"a profound and continuing influence on [Herbert\\'s] work\".[75] Throughout the Dune series and particularly in Dune, Herbert employs concepts and forms borrowed from Zen Buddhism.[75][76] The Fremen are referred to as Zensunni adherents, and many of Herbert\\'s epigraphs are Zen-spirited.[77] In \"Dune Genesis\", Frank Herbert wrote:\\n', 'What especially pleases me is to see the interwoven themes, the fugue like relationships of images that exactly replay the way Dune took shape. As in an Escher lithograph, I involved myself with recurrent themes that turn into paradox. The central paradox concerns the human vision of time. What about Paul\\'s gift of prescience - the Presbyterian fixation? For the Delphic Oracle to perform, it must tangle itself in a web of predestination. Yet predestination negates surprises and, in fact, sets up a mathematically enclosed universe whose limits are always inconsistent, always encountering the unprovable. It\\'s like a koan, a Zen mind breaker. It\\'s like the Cretan Epimenides saying, \"All Cretans are liars.\"[66]', 'Brian Herbert called the Dune universe \"a spiritual melting pot\", noting that his father incorporated elements of a variety of religions, including Buddhism, Sufi mysticism and other Islamic belief systems, Catholicism, Protestantism, Judaism, and Hinduism.[78] He added that Frank Herbert\\'s fictional future in which \"religious beliefs have combined into interesting forms\" represents the author\\'s solution to eliminating arguments between religions, each of which claimed to have \"the one and only revelation.\"[78][79]\\n', 'Tim O\\'Reilly suggests that Herbert also wrote Dune as a counterpoint to Isaac Asimov\\'s Foundation series. In his monograph on Frank Herbert, O\\'Reilly wrote that \"Dune is clearly a commentary on the Foundation trilogy. Herbert has taken a look at the same imaginative situation that provoked Asimov\\'s classic—the decay of a galactic empire—and restated it in a way that draws on different assumptions and suggests radically different conclusions. The twist he has introduced into Dune is that the Mule, not the Foundation, is his hero.\"[80] According to O\\'Reilly, Herbert bases the Bene Gesserit on the scientific shamans of the Foundation, though they use biological rather than statistical science.[80] In contrast to the Foundation series and its praise of science and rationality, Dune proposes that the unconscious and unexpected are actually what are needed for humanity.[80]\\n', \"Both Herbert and Asimov explore the implications of prescience (i.e., visions of the future) both psychologically and socially. The Foundation series deploys a broadly determinist approach to prescient vision rooted in mathematical reasoning on a macroscopic social level. Dune, by contrast, invents a biologically rooted power of prescience that becomes determinist when the user actively relies on it to navigate past an undefined threshold of detail. Herbert's eugenically produced and spice-enhanced prescience is also personalized to individual actors whose roles in later books constrain each other's visions, rendering the future more or less mutable as time progresses. In what might be a comment on Foundation, Herbert's most powerfully prescient being in God Emperor of Dune laments the boredom engendered by prescience, and values surprises, especially regarding one's death, as a psychological necessity.[citation needed]\\n\", 'However, both works contain a similar theme of the restoration of civilization[81] and seem to make the fundamental assumption that \"political maneuvering, the need to control material resources, and friendship or mating bonds will be fundamentally the same in the future as they are now.\"[82]\\n', \"Dune tied with Roger Zelazny's This Immortal for the Hugo Award in 1966[83] and won the inaugural Nebula Award for Best Novel.[84] Reviews of the novel have been largely positive, and Dune is considered by some critics to be the best science fiction book ever written.[85] The novel has been translated into dozens of languages, and has sold almost 20 million copies.[86] Dune has been regularly cited as one of the world's best-selling science fiction novels.[87][3]\\n\", 'Arthur C. Clarke described Dune as \"unique\" and wrote, \"I know nothing comparable to it except The Lord of the Rings.\"[88] Robert A. Heinlein described the novel as \"powerful, convincing, and most ingenious.\"[88][89] It was described as \"one of the monuments of modern science fiction\" by the Chicago Tribune,[88] and P. Schuyler Miller called Dune \"one of the landmarks of modern science fiction ... an amazing feat of creation.\"[89] The Washington Post described it as \"a portrayal of an alien society more complete and deeply detailed than any other author in the field has managed ... a story absorbing equally for its action and philosophical vistas ... An astonishing science fiction phenomenon.\"[88][89] Algis Budrys praised Dune for the vividness of its imagined setting, saying \"The time lives. It breathes, it speaks, and Herbert has smelt it in his nostrils\". He found that the novel, however, \"turns flat and tails off at the end. ... [T]ruly effective villains simply simper and melt; fierce men and cunning statesmen and seeresses all bend before this new Messiah\". Budrys faulted in particular Herbert\\'s decision to kill Paul\\'s infant son offstage, with no apparent emotional impact, saying \"you cannot be so busy saving a world that you cannot hear an infant shriek\".[90] After criticizing unrealistic science fiction, Carl Sagan in 1978 listed Dune as among stories \"that are so tautly constructed, so rich in the accommodating details of an unfamiliar society that they sweep me along before I have even a chance to be critical\".[91]\\n', 'The Louisville Times wrote, \"Herbert\\'s creation of this universe, with its intricate development and analysis of ecology, religion, politics, and philosophy, remains one of the supreme and seminal achievements in science fiction.\"[89] Writing for The New Yorker, Jon Michaud praised Herbert\\'s \"clever authorial decision\" to exclude robots and computers (\"two staples of the genre\") from his fictional universe, but suggested that this may be one explanation why Dune lacks \"true fandom among science-fiction fans\" to the extent that it \"has not penetrated popular culture in the way that The Lord of the Rings and Star Wars have\".[14] Tamara I. Hladik wrote that the story \"crafts a universe where lesser novels promulgate excuses for sequels. All its rich elements are in balance and plausible—not the patchwork confederacy of made-up languages, contrived customs, and meaningless histories that are the hallmark of so many other, lesser novels.\"[92]\\n', 'On November 5, 2019, the BBC News listed Dune on its list of the 100 most influential novels.[93]\\n', 'J. R. R. Tolkien refused to review Dune, on the grounds that he disliked it \"with some intensity\" and thus felt it would be unfair to Herbert, another working author, if he gave an honest review of the book.[94]\\n', 'The first edition of Dune is one of the most valuable in science fiction book collecting. Copies have been sold for more than $20,000 at auction.[95]\\n', \"California State University, Fullerton's Pollak Library has several of Herbert's draft manuscripts of Dune and other works, with the author's notes, in their Frank Herbert Archives.[96]\\n\", 'After Dune proved to be a critical and financial success for Herbert, he was able to devote himself full time to writing additional novels in the series. He had already drafted parts of the second and third while writing Dune.[14] The series included Dune Messiah (1969), Children of Dune (1976), God Emperor of Dune (1981), Heretics of Dune (1984), and Chapterhouse: Dune (1985), each sequentially continuing on the narrative from Dune. Herbert died on February 11, 1986.[97]\\n', \"Herbert's son, Brian Herbert, had found several thousand pages of notes left by his father that outlined ideas for other narratives related to Dune. Brian Herbert enlisted author Kevin J. Anderson to help build out prequel novels to the events of Dune. Brian Herbert's and Anderson's Dune prequels first started publication in 1999, and have led to additional stories that take place between those of Frank Herbert's books.[98] The notes for what would have been Dune 7 also enabled them to publish Hunters of Dune (2006) and Sandworms of Dune (2007), sequels to Frank Herbert's final novel Chapterhouse: Dune, which complete the chronological progression of his original series, and wrap up storylines that began in Heretics of Dune.\\n\", 'Dune has been considered an \"unfilmable\" and \"uncontainable\" work to adapt from novel to film or other visual medium.[99] Described by Wired, \"It has four appendices and a glossary of its own gibberish, and its action takes place on two planets, one of which is a desert overrun by worms the size of airport runways. Lots of important people die or try to kill each other, and they\\'re all tethered to about eight entangled subplots.\"[100] There have been several attempts to achieve this difficult conversion with various degrees of success.[101]\\n', \"In 1971, the production company Apjac International (APJ) (headed by Arthur P. Jacobs) optioned the rights to film Dune. As Jacobs was busy with other projects, such as the sequel to Planet of the Apes, Dune was delayed for another year. Jacobs' first choice for director was David Lean, but he turned down the offer. Charles Jarrott was also considered to direct. Work was also under way on a script while the hunt for a director continued. Initially, the first treatment had been handled by Robert Greenhut, the producer who had lobbied Jacobs to make the movie in the first place, but subsequently Rospo Pallenberg was approached to write the script, with shooting scheduled to begin in 1974. However, Jacobs died in 1973.[102]\\n\", \"In December 1974, a French consortium led by Jean-Paul Gibon purchased the film rights from APJ, with Alejandro Jodorowsky set to direct.[103] In 1975, Jodorowsky planned to film the story as a 3-hour feature, set to star his own son Brontis Jodorowsky in the lead role of Paul Atreides, Salvador Dalí as Shaddam IV, Padishah Emperor, Amanda Lear as Princess Irulan, Orson Welles as Baron Vladimir Harkonnen, Gloria Swanson as Reverend Mother Gaius Helen Mohiam, David Carradine as Duke Leto Atreides, Geraldine Chaplin as Lady Jessica, Alain Delon as Duncan Idaho, Hervé Villechaize as Gurney Halleck, Udo Kier as Piter De Vries, and Mick Jagger as Feyd-Rautha. It was at first proposed to score the film with original music by Karlheinz Stockhausen, Henry Cow, and Magma; later on, the soundtrack was to be provided by Pink Floyd.[104] Jodorowsky set up a pre-production unit in Paris consisting of Chris Foss, a British artist who designed covers for science fiction periodicals, Jean Giraud (Moebius), a French illustrator who created and also wrote and drew for Metal Hurlant magazine, and H. R. Giger.[103] Moebius began designing creatures and characters for the film, while Foss was brought in to design the film's space ships and hardware.[103] Giger began designing the Harkonnen Castle based on Moebius's storyboards. Dan O'Bannon was to head the special effects department.[103]\\n\", 'Dalí was cast as the Emperor.[103] Dalí later demanded to be paid $100,000 per hour; Jodorowsky agreed, but tailored Dalí\\'s part to be filmed in one hour, drafting plans for other scenes of the emperor to use a mechanical mannequin as substitute for Dalí.[103] According to Giger, Dalí was \"later invited to leave the film because of his pro-Franco statements\".[105] Just as the storyboards, designs, and script were finished, the financial backing dried up. Frank Herbert traveled to Europe in 1976 to find that $2 million of the $9.5 million budget had already been spent in pre-production, and that Jodorowsky\\'s script would result in a 14-hour movie (\"It was the size of a phone book\", Herbert later recalled). Jodorowsky took creative liberties with the source material, but Herbert said that he and Jodorowsky had an amicable relationship. Jodorowsky said in 1985 that he found the Dune story mythical and had intended to re-create it rather than adapt the novel; though he had an \"enthusiastic admiration\" for Herbert, Jodorowsky said he had done everything possible to distance the author and his input from the project.[103] Although Jodorowsky was embittered by the experience, he said the Dune project changed his life, and some of the ideas were used in his and Moebius\\'s The Incal.[106] O\\'Bannon entered a psychiatric hospital after the production failed, then worked on 13 scripts, the last of which became Alien.[103] A 2013 documentary, Jodorowsky\\'s Dune, was made about Jodorowsky\\'s failed attempt at an adaptation.\\n', \"In 1976, Dino De Laurentiis acquired the rights from Gibon's consortium. De Laurentiis commissioned Herbert to write a new screenplay in 1978; the script Herbert turned in was 175 pages long, the equivalent of nearly three hours of screen time. De Laurentiis then hired director Ridley Scott in 1979, with Rudy Wurlitzer writing the screenplay and H. R. Giger retained from the Jodorowsky production; Scott and Giger had also just worked together on the film Alien, after O'Bannon recommended the artist.[107][108] Scott intended to split the novel into two movies. He worked on three drafts of the script, using The Battle of Algiers as a point of reference, before moving on to direct another science fiction film, Blade Runner (1982). As he recalls, the pre-production process was slow, and finishing the project would have been even more time-intensive:\\n\", \"But after seven months I dropped out of Dune, by then Rudy Wurlitzer had come up with a first-draft script which I felt was a decent distillation of Frank Herbert's. But I also realised Dune was going to take a lot more work—at least two and a half years' worth. And I didn't have the heart to attack that because my older brother Frank unexpectedly died of cancer while I was prepping the De Laurentiis picture. Frankly, that freaked me out. So I went to Dino and told him the Dune script was his.\\n\", 'A draft of the screenplay for the Scott version was discovered in 2024 in the Wheaton College archives.[109]\\n', \"In 1981, the nine-year film rights were set to expire. De Laurentiis re-negotiated the rights from the author, adding to them the rights to the Dune sequels (written and unwritten). After seeing The Elephant Man, De Laurentiis' daughter Raffaella decided that David Lynch should direct the movie. Around that time Lynch received several other directing offers, including Return of the Jedi. He agreed to direct Dune and write the screenplay even though he had not read the book, was not familiar with the story, or even been interested in science fiction.[110] Lynch worked on the script for six months with Eric Bergren and Christopher De Vore. The team yielded two drafts of the script before it split over creative differences. Lynch would subsequently work on five more drafts. Production of the work was troubled by problems at the Mexican studio and hampering the film's timeline.[111] Lynch ended up producing a nearly three-hour long film, but at demands from Universal Pictures, the film's distributor, he cut it back to about two hours, hastily filming additional scenes to make up for some of the cut footage.[112]\\n\", 'This first film of Dune, directed by Lynch, was released in 1984, nearly 20 years after the book\\'s publication. Though Herbert said the book\\'s depth and symbolism seemed to intimidate many filmmakers, he was pleased with the film, saying that \"They\\'ve got it. It begins as Dune does. And I hear my dialogue all the way through. There are some interpretations and liberties, but you\\'re gonna come out knowing you\\'ve seen Dune.\"[113] Reviews of the film were negative, saying that it was incomprehensible to those unfamiliar with the book, and that fans would be disappointed by the way it strayed from the book\\'s plot.[114][115][116][99][117] Upon release for television and other forms of home media, Universal opted to reintroduce much of the footage that Lynch had cut, creating an over-three-hour long version with extensive monologue exposition. Lynch was extremely displeased with this move, and demanded that Universal replace his name on these cuts with the pseudonym \"Alan Smithee\", and has generally distanced himself from the film since.[112]\\n', \"In 2000, John Harrison adapted the novel into Frank Herbert's Dune, a miniseries that premiered on the Sci-Fi Channel.[17] As of 2004, the miniseries was one of the three highest-rated programs broadcast on the Sci-Fi Channel.[118]\\n\", 'In 2008, Paramount Pictures announced that they would produce a new film based on the book, with Peter Berg attached to direct.[119] Producer Kevin Misher, who spent a year securing the rights from the Herbert estate, was to be joined by Richard Rubinstein and John Harrison (of both Sci-Fi Channel miniseries) as well as Sarah Aubrey and Mike Messina.[119] The producers stated that they were going for a \"faithful adaptation\" of the novel and considered \"its theme of finite ecological resources particularly timely\".[119] Science fiction author Kevin J. Anderson and Frank Herbert\\'s son Brian Herbert, who had together written multiple Dune sequels and prequels since 1999, were attached to the project as technical advisors.[120] In October 2009, Berg dropped out of the project, later saying that it \"for a variety of reasons wasn\\'t the right thing\" for him.[121] Subsequently, with a script draft by Joshua Zetumer, Paramount reportedly sought a new director who could do the film for under $175 million.[122] In 2010, Pierre Morel was signed on to direct, with screenwriter Chase Palmer incorporating Morel\\'s vision of the project into Zetumer\\'s original draft.[123][124] By November 2010, Morel left the project.[125] Paramount finally dropped plans for a remake in March 2011.[126]\\n', 'In November 2016, Legendary Entertainment acquired the film and TV rights for Dune.[127][128] Variety reported in December 2016 that Denis Villeneuve was in negotiations to direct the project,[129] which was confirmed in February 2017.[130] In April 2017, Legendary announced that Eric Roth would write the screenplay.[131] Villeneuve explained in March 2018 that his adaptation will be split into two films, with the first installment scheduled to begin production in 2019.[132] Casting includes Timothée Chalamet as Paul Atreides,[133] Dave Bautista as Rabban, Stellan Skarsgård as Baron Harkonnen,[134] Rebecca Ferguson as Lady Jessica,[135] Charlotte Rampling as Reverend Mother Mohiam,[136] Oscar Isaac as Duke Leto Atreides,[137] Zendaya as Chani,[138] Javier Bardem as Stilgar,[139] Josh Brolin as Gurney Halleck,[140] Jason Momoa as Duncan Idaho,[141] David Dastmalchian as Piter De Vries,[142] Chang Chen as Dr. Yueh,[143] and Stephen Henderson as Thufir Hawat.[144] Warner Bros. Pictures distributed the film, which had its initial premiere on September 3, 2021, at the Venice Film Festival,[145] and wide release in both theaters and streaming on HBO Max on October 21, 2021, as part of Warner Bros.\\'s approach to handling the impact of the COVID-19 pandemic on the film industry.[146][147] The film received \"generally favorable reviews\" on Metacritic.[148] It has gone on to win multiple awards and was named by the National Board of Review as one of the 10 best films of 2021, as well as the American Film Institute in their annual top 10 list.[149] The film went on to be nominated for ten Academy Awards, winning six, the most wins of the night for any film in contention.[150]\\n', 'A sequel, Dune: Part Two, was scheduled for release on November 3, 2023,[151] but was released on March 1, 2024, due to the 2023 SAG-AFTRA strike.[152] It had its world premiere at the Odeon Luxe Leicester Square, London, on February 15, 2024, and opened in the United States on March 1. It received critical acclaim especially for its visual effects and has grossed over $711 million worldwide, making it the fourth-highest-grossing film of 2024.\\n', 'In 1993, Recorded Books Inc. released a 20-disc audiobook narrated by George Guidall. In 2007, Audio Renaissance released an audio book narrated by Simon Vance with some parts performed by Scott Brick, Orlagh Cassidy, Euan Morton, and other performers.\\n', \"Dune has been widely influential, inspiring numerous novels, music, films, television, games, and comic books.[153] It is considered one of the greatest and most influential science fiction novels of all time, with numerous modern science fiction works owing their existence to  Dune.[citation needed] Dune has been referenced in numerous works of popular culture, including Star Wars, Star Trek, Chronicles of Riddick, The Kingkiller Chronicle and Futurama.[154] Dune was cited as a source of inspiration for Hayao Miyazaki's anime film Nausicaä of the Valley of the Wind (1984) for its post-apocalyptic world.[155][156][157][158][159]\\n\", 'Dune was parodied in 1984\\'s National Lampoon\\'s Doon by Ellis Weiner, which William F. Touponce called \"something of a tribute to Herbert\\'s success on college campuses\", noting that \"the only other book to have been so honored is Tolkien\\'s The Lord of the Rings,\" which was parodied by The Harvard Lampoon in 1969.[160]\\n', 'There have been a number of games based on the book, starting with the strategy–adventure game Dune (1992). The most important game adaptation is Dune II (1992), which established the conventions of modern real-time strategy games and is considered to be among the most influential video games of all time.[184]\\n', 'The online game Lost Souls includes Dune-derived elements, including sandworms and melange—addiction to which can produce psychic talents.[185] The 2016 game Enter the Gungeon features the spice melange as a random item which gives the player progressively stronger abilities and penalties with repeated uses, mirroring the long-term effects melange has on users.[186]\\n', 'Rick Priestley cites Dune as a major influence on his 1987 wargame, Warhammer 40,000.[187]\\n', 'In 2023, Funcom announced Dune: Awakening, an upcoming massively multiplayer online game set in the universe of Dune.[188][189][190]\\n', \"The Apollo 15 astronauts named a small crater on Earth's Moon after the novel during the 1971 mission,[191] and the name was formally adopted by the International Astronomical Union in 1973.[192] Since 2009, the names of planets from the Dune novels have been adopted for the real-world nomenclature of plains and other features on Saturn's moon Titan, like Arrakis Planitia.[193][194][195]\\n\"]\n"
          ]
        }
      ],
      "source": [
        "print(paragraph_texts)"
      ]
    },
    {
      "cell_type": "markdown",
      "metadata": {
        "id": "fLVjuK81bKrA"
      },
      "source": [
        "So there we have it, a list of paragraphs that have been extracted from a webpage.\n",
        "\n",
        "What shall we do with this text?\n",
        "- First let's join all the paragraphs together in a single string, separating them with a newline `\\n` character:"
      ]
    },
    {
      "cell_type": "code",
      "execution_count": null,
      "metadata": {
        "collapsed": true,
        "id": "6LqUUP36bKrA",
        "jupyter": {
          "outputs_hidden": true
        },
        "tags": []
      },
      "outputs": [],
      "source": [
        "complete_text = '\\n'.join(paragraph_texts)\n",
        "print(complete_text)"
      ]
    },
    {
      "cell_type": "markdown",
      "metadata": {
        "id": "zYoolZfobKrB"
      },
      "source": [
        "## Text Pattern Matching and Analysis\n",
        "\n",
        "With the document content now in a standardized text format, we can perform various analytical operations. For instance, to locate specific named entities within the text:\n",
        "\n",
        "\n",
        "\n",
        "1.   Pattern Matching Implementation:\n",
        "\n",
        "  *   Utilize the re.search() method from Python's regular expressions module\n",
        "  *   Construct appropriate search patterns for target entities\n",
        "\n",
        "\n",
        "\n",
        "\n",
        "\n",
        "\n",
        "\n",
        "\n"
      ]
    },
    {
      "cell_type": "code",
      "source": [
        "import re\n",
        "\n",
        "# Search for author reference\n",
        "author_pattern = r'Frank Herbert'\n",
        "match = re.search(author_pattern, complete_text)\n",
        "\n",
        "if match:\n",
        "    print(\"Entity found at position:\", match.start())\n",
        "else:\n",
        "    print(\"Specified entity not found in text\")"
      ],
      "metadata": {
        "colab": {
          "base_uri": "https://localhost:8080/"
        },
        "id": "oCkCT8kIRNck",
        "outputId": "4c46c5f0-8929-4bd5-a999-a3032abef185"
      },
      "execution_count": 135,
      "outputs": [
        {
          "output_type": "stream",
          "name": "stdout",
          "text": [
            "Entity found at position: 63\n"
          ]
        }
      ]
    },
    {
      "cell_type": "markdown",
      "source": [
        "## Pattern Frequncy"
      ],
      "metadata": {
        "id": "d7gmOLMMRrlg"
      }
    },
    {
      "cell_type": "code",
      "execution_count": 138,
      "metadata": {
        "id": "FlE3ND0bbKrB",
        "colab": {
          "base_uri": "https://localhost:8080/"
        },
        "outputId": "63ad6528-7a83-4a45-b850-09bd6c72f9e9"
      },
      "outputs": [
        {
          "output_type": "stream",
          "name": "stdout",
          "text": [
            "The name 'Frank Herbert' occurs 18 times\n"
          ]
        }
      ],
      "source": [
        "name = 'Frank Herbert'\n",
        "matches = re.findall(name, complete_text)\n",
        "print(f\"The name '{name}' occurs {len(matches)} times\")"
      ]
    },
    {
      "cell_type": "markdown",
      "source": [
        "## Regex"
      ],
      "metadata": {
        "id": "DpionqhTSnKL"
      }
    },
    {
      "cell_type": "markdown",
      "metadata": {
        "id": "eM8y7KHxbKrB"
      },
      "source": [
        "While detecting the presence of an author reference (e.g., 'Frank Herbert') is useful, more valuable insights can be gained by examining the contextual sentences surrounding these mentions. This requires extending our pattern matching approach:\n",
        "\n",
        "Progressive Regular Expression Development:\n",
        "\n",
        "Begin with a basic capture pattern for adjacent text\n",
        "\n",
        "The dot (.) metacharacter matches any single character\n",
        "\n",
        "Appending ten dots after the name captures the subsequent 10 characters"
      ]
    },
    {
      "cell_type": "code",
      "execution_count": 140,
      "metadata": {
        "id": "06Y1SEXQbKrB",
        "colab": {
          "base_uri": "https://localhost:8080/"
        },
        "outputId": "d4ee6927-5d50-4a9f-dc47-b773b80a7faa"
      },
      "outputs": [
        {
          "output_type": "stream",
          "name": "stdout",
          "text": [
            "Regular expression: 'Frank Herbert..........'\n",
            "Returns:\n"
          ]
        },
        {
          "output_type": "execute_result",
          "data": {
            "text/plain": [
              "['Frank Herbert, original',\n",
              " \"Frank Herbert's Dune an\",\n",
              " \"Frank Herbert's Childre\",\n",
              " \"Frank Herbert's classic\",\n",
              " 'Frank Herbert drew para',\n",
              " 'Frank Herbert stated th',\n",
              " 'Frank Herbert as depict',\n",
              " 'Frank Herbert said in 1',\n",
              " \"Frank Herbert's fiction\",\n",
              " \"Frank Herbert, O'Reilly\",\n",
              " 'Frank Herbert Archives.',\n",
              " \"Frank Herbert's books.[\",\n",
              " \"Frank Herbert's final n\",\n",
              " 'Frank Herbert traveled ',\n",
              " \"Frank Herbert's. But I \",\n",
              " \"Frank Herbert's Dune, a\",\n",
              " \"Frank Herbert's son Bri\"]"
            ]
          },
          "metadata": {},
          "execution_count": 140
        }
      ],
      "source": [
        "regex = name + '..........'\n",
        "print(f\"Regular expression: '{regex}'\")\n",
        "print(\"Returns:\")\n",
        "re.findall(regex, complete_text)"
      ]
    },
    {
      "cell_type": "markdown",
      "metadata": {
        "id": "PCZs2Aa0bKrB"
      },
      "source": [
        "The same result"
      ]
    },
    {
      "cell_type": "code",
      "execution_count": 141,
      "metadata": {
        "id": "frUSbdxabKrB",
        "colab": {
          "base_uri": "https://localhost:8080/"
        },
        "outputId": "567b9047-9766-4712-91e7-8fc0a11caaaf"
      },
      "outputs": [
        {
          "output_type": "stream",
          "name": "stdout",
          "text": [
            "Regular expression: 'Frank Herbert.{10}'\n",
            "Returns:\n"
          ]
        },
        {
          "output_type": "execute_result",
          "data": {
            "text/plain": [
              "['Frank Herbert, original',\n",
              " \"Frank Herbert's Dune an\",\n",
              " \"Frank Herbert's Childre\",\n",
              " \"Frank Herbert's classic\",\n",
              " 'Frank Herbert drew para',\n",
              " 'Frank Herbert stated th',\n",
              " 'Frank Herbert as depict',\n",
              " 'Frank Herbert said in 1',\n",
              " \"Frank Herbert's fiction\",\n",
              " \"Frank Herbert, O'Reilly\",\n",
              " 'Frank Herbert Archives.',\n",
              " \"Frank Herbert's books.[\",\n",
              " \"Frank Herbert's final n\",\n",
              " 'Frank Herbert traveled ',\n",
              " \"Frank Herbert's. But I \",\n",
              " \"Frank Herbert's Dune, a\",\n",
              " \"Frank Herbert's son Bri\"]"
            ]
          },
          "metadata": {},
          "execution_count": 141
        }
      ],
      "source": [
        "regex = name + '.{10}'\n",
        "print(f\"Regular expression: '{regex}'\")\n",
        "print(\"Returns:\")\n",
        "re.findall(regex, complete_text)"
      ]
    },
    {
      "cell_type": "markdown",
      "metadata": {
        "id": "2ESWmmtAbKrB"
      },
      "source": [
        "Making the match length flexible:\n",
        "\n",
        "\n",
        "\n",
        "1.   Minimum: 0 characters\n",
        "2.   Maximum: 100 characters\n",
        "Using .{0,100} quantifier syntax\n",
        "\n",
        "\n",
        "\n",
        "\n"
      ]
    },
    {
      "cell_type": "code",
      "execution_count": 144,
      "metadata": {
        "id": "zrgXaV_ZbKrC",
        "colab": {
          "base_uri": "https://localhost:8080/"
        },
        "outputId": "e83b7d41-2732-4591-a475-9edbb1b1d59a"
      },
      "outputs": [
        {
          "output_type": "execute_result",
          "data": {
            "text/plain": [
              "['Frank Herbert, originally published as two separate serials (1963–64 novel Dune World and 1965 novel Prophet of D',\n",
              " \"Frank Herbert's Dune and its 2003 sequel, Frank Herbert's Children of Dune (the latter of which combines the even\",\n",
              " \"Frank Herbert's classic novel is a vast ocean of sand, with giant worms diving into the depths, the mysterious an\",\n",
              " 'Frank Herbert drew parallels, used spectacular metaphors, and extrapolated present conditions into world systems ',\n",
              " 'Frank Herbert stated that bureaucracy that lasted long enough would become a hereditary nobility, and a significa',\n",
              " 'Frank Herbert as depicting \"war as a collective orgasm\" (drawing on Norman Walter\\'s 1950 The Sexual Cycle of Huma',\n",
              " 'Frank Herbert said in 1979, \"The bottom line of the Dune trilogy is: beware of heroes. Much better to rely on you',\n",
              " 'Frank Herbert wrote:',\n",
              " 'Frank Herbert\\'s fictional future in which \"religious beliefs have combined into interesting forms\" represents the',\n",
              " 'Frank Herbert, O\\'Reilly wrote that \"Dune is clearly a commentary on the Foundation trilogy. Herbert has taken a l',\n",
              " 'Frank Herbert Archives.[96]',\n",
              " \"Frank Herbert's books.[98] The notes for what would have been Dune 7 also enabled them to publish Hunters of Dune\",\n",
              " \"Frank Herbert's final novel Chapterhouse: Dune, which complete the chronological progression of his original seri\",\n",
              " 'Frank Herbert traveled to Europe in 1976 to find that $2 million of the $9.5 million budget had already been spen',\n",
              " \"Frank Herbert's. But I also realised Dune was going to take a lot more work—at least two and a half years' worth.\",\n",
              " \"Frank Herbert's Dune, a miniseries that premiered on the Sci-Fi Channel.[17] As of 2004, the miniseries was one o\",\n",
              " \"Frank Herbert's son Brian Herbert, who had together written multiple Dune sequels and prequels since 1999, were a\"]"
            ]
          },
          "metadata": {},
          "execution_count": 144
        }
      ],
      "source": [
        "regex = name + '.{0,100}'\n",
        "re.findall(regex, complete_text)"
      ]
    },
    {
      "cell_type": "markdown",
      "metadata": {
        "id": "0Rs0jgcPbKrC"
      },
      "source": [
        "\n",
        "\n",
        "`[^.]*` matches any character except period (zero or more times)\n",
        "\n",
        "Combine lookbehind and lookahead for full sentence context"
      ]
    },
    {
      "cell_type": "code",
      "execution_count": 147,
      "metadata": {
        "id": "4NOpnAEebKrC",
        "colab": {
          "base_uri": "https://localhost:8080/"
        },
        "outputId": "28d15d05-1f39-41a1-94de-aed3eddabbf9"
      },
      "outputs": [
        {
          "output_type": "execute_result",
          "data": {
            "text/plain": [
              "['Dune is a 1965 epic science fiction novel by American author Frank Herbert, originally published as two separate serials (1963–64 novel Dune World and 1965 novel Prophet of Dune) in Analog magazine.',\n",
              " \"The book was also adapted into the 2000 Sci-Fi Channel miniseries Frank Herbert's Dune and its 2003 sequel, Frank Herbert's Children of Dune (the latter of which combines the events of Dune Messiah and Children of Dune).\",\n",
              " \"The desert of Frank Herbert's classic novel is a vast ocean of sand, with giant worms diving into the depths, the mysterious and unrevealed domain of Shai-hulud.\",\n",
              " 'Frank Herbert drew parallels, used spectacular metaphors, and extrapolated present conditions into world systems that seem entirely alien at first blush.',\n",
              " '[44] Frank Herbert stated that bureaucracy that lasted long enough would become a hereditary nobility, and a significant theme behind the aristocratic families in Dune was \"aristocratic bureaucracy\" which he saw as analogous to the Soviet Union.',\n",
              " '[55]\\n\\nThe decline and long peace of the Empire sets the stage for revolution and renewal by genetic mixing of successful and unsuccessful groups through war, a process culminating in the Jihad led by Paul Atreides, described by Frank Herbert as depicting \"war as a collective orgasm\" (drawing on Norman Walter\\'s 1950 The Sexual Cycle of Human Warfare),[56][57] themes that would reappear in God Emperor of Dune\\'s Scattering and Leto II\\'s all-female Fish Speaker army.',\n",
              " 'Author Frank Herbert said in 1979, \"The bottom line of the Dune trilogy is: beware of heroes.',\n",
              " '[77] In \"Dune Genesis\", Frank Herbert wrote:\\n\\nWhat especially pleases me is to see the interwoven themes, the fugue like relationships of images that exactly replay the way Dune took shape.',\n",
              " '[78] He added that Frank Herbert\\'s fictional future in which \"religious beliefs have combined into interesting forms\" represents the author\\'s solution to eliminating arguments between religions, each of which claimed to have \"the one and only revelation.',\n",
              " 'In his monograph on Frank Herbert, O\\'Reilly wrote that \"Dune is clearly a commentary on the Foundation trilogy.',\n",
              " \"[95]\\n\\nCalifornia State University, Fullerton's Pollak Library has several of Herbert's draft manuscripts of Dune and other works, with the author's notes, in their Frank Herbert Archives.\",\n",
              " \"Brian Herbert's and Anderson's Dune prequels first started publication in 1999, and have led to additional stories that take place between those of Frank Herbert's books.\",\n",
              " \"[98] The notes for what would have been Dune 7 also enabled them to publish Hunters of Dune (2006) and Sandworms of Dune (2007), sequels to Frank Herbert's final novel Chapterhouse: Dune, which complete the chronological progression of his original series, and wrap up storylines that began in Heretics of Dune.\",\n",
              " 'Frank Herbert traveled to Europe in 1976 to find that $2 million of the $9.',\n",
              " \"As he recalls, the pre-production process was slow, and finishing the project would have been even more time-intensive:\\n\\nBut after seven months I dropped out of Dune, by then Rudy Wurlitzer had come up with a first-draft script which I felt was a decent distillation of Frank Herbert's.\",\n",
              " \"[112]\\n\\nIn 2000, John Harrison adapted the novel into Frank Herbert's Dune, a miniseries that premiered on the Sci-Fi Channel.\",\n",
              " \"Anderson and Frank Herbert's son Brian Herbert, who had together written multiple Dune sequels and prequels since 1999, were attached to the project as technical advisors.\"]"
            ]
          },
          "metadata": {},
          "execution_count": 147
        }
      ],
      "source": [
        "name = 'Frank Herbert'\n",
        "regex = '[^.]*' + name + '[^.]*'\n",
        "matches = re.findall(regex, complete_text)\n",
        "[m.strip() + '.' for m in matches]"
      ]
    },
    {
      "cell_type": "markdown",
      "metadata": {
        "id": "kzOu1jlTbKrC",
        "tags": []
      },
      "source": [
        "#4_Loading text from a PDF\n",
        "\n",
        "Much of the text on the internet is present inside PDF documents, and often we'd like to extract text from them.\n",
        "\n",
        "There are many different ways to do that in Python. Today we'll use the pdfplumber API: https://github.com/jsvine/pdfplumber\n",
        "- In order to use pdfplumber module, we first need to install it.\n",
        "- We can do that from inside the jupyter notebook by calling the pip3 command:"
      ]
    },
    {
      "cell_type": "code",
      "execution_count": 148,
      "metadata": {
        "id": "UQ_Q1rEPbKrC",
        "colab": {
          "base_uri": "https://localhost:8080/"
        },
        "outputId": "214f0d5a-9c4d-408f-c17b-b4be66c8e0a4"
      },
      "outputs": [
        {
          "output_type": "stream",
          "name": "stdout",
          "text": [
            "\u001b[2K     \u001b[90m━━━━━━━━━━━━━━━━━━━━━━━━━━━━━━━━━━━━━━━━\u001b[0m \u001b[32m42.8/42.8 kB\u001b[0m \u001b[31m1.9 MB/s\u001b[0m eta \u001b[36m0:00:00\u001b[0m\n",
            "\u001b[2K     \u001b[90m━━━━━━━━━━━━━━━━━━━━━━━━━━━━━━━━━━━━━━━━\u001b[0m \u001b[32m48.2/48.2 kB\u001b[0m \u001b[31m3.5 MB/s\u001b[0m eta \u001b[36m0:00:00\u001b[0m\n",
            "\u001b[2K   \u001b[90m━━━━━━━━━━━━━━━━━━━━━━━━━━━━━━━━━━━━━━━━\u001b[0m \u001b[32m60.2/60.2 kB\u001b[0m \u001b[31m4.6 MB/s\u001b[0m eta \u001b[36m0:00:00\u001b[0m\n",
            "\u001b[2K   \u001b[90m━━━━━━━━━━━━━━━━━━━━━━━━━━━━━━━━━━━━━━━━\u001b[0m \u001b[32m5.6/5.6 MB\u001b[0m \u001b[31m57.4 MB/s\u001b[0m eta \u001b[36m0:00:00\u001b[0m\n",
            "\u001b[2K   \u001b[90m━━━━━━━━━━━━━━━━━━━━━━━━━━━━━━━━━━━━━━━━\u001b[0m \u001b[32m2.9/2.9 MB\u001b[0m \u001b[31m76.1 MB/s\u001b[0m eta \u001b[36m0:00:00\u001b[0m\n",
            "\u001b[?25h"
          ]
        }
      ],
      "source": [
        "!pip3 install pdfplumber -qq"
      ]
    },
    {
      "cell_type": "markdown",
      "metadata": {
        "id": "Sic3jHSObKrC"
      },
      "source": [
        "Now we can import the module and use it to extract content from a PDF.\n",
        "- Let's try extracting content from this NLP reasearch paper: https://www.jmlr.org/papers/volume12/collobert11a/collobert11a.pdf\n",
        "- The HTTPS server won't allow us direct programmatic access, so you'll need to use the file in the `docs/` directory on WeBeep where you found this notebook (as we did with the original Alice text)"
      ]
    },
    {
      "cell_type": "code",
      "execution_count": 149,
      "metadata": {
        "id": "NN-4B_UIbKrD"
      },
      "outputs": [],
      "source": [
        "import pdfplumber\n",
        "filename = '/content/docs/GoodBoy.pdf'\n",
        "pdf = pdfplumber.open(filename)"
      ]
    },
    {
      "cell_type": "markdown",
      "source": [
        "## Number of pages"
      ],
      "metadata": {
        "id": "Ouf8Dfy5WKgu"
      }
    },
    {
      "cell_type": "code",
      "execution_count": 156,
      "metadata": {
        "id": "MzALGQywbKrD",
        "colab": {
          "base_uri": "https://localhost:8080/"
        },
        "outputId": "70f65f25-8f64-4679-eaaf-15eff23eb209"
      },
      "outputs": [
        {
          "output_type": "stream",
          "name": "stdout",
          "text": [
            "Number of pages: 45\n"
          ]
        }
      ],
      "source": [
        "import warnings\n",
        "warnings.filterwarnings('ignore')\n",
        "print(f\"Number of pages: {len(pdf.pages)}\")\n"
      ]
    },
    {
      "cell_type": "markdown",
      "metadata": {
        "id": "NZXe04dobKrD"
      },
      "source": [
        "Wow, that's not a lot of pages!\n",
        "\n",
        "We can have a look at the first couple of pages extracting the text from them:"
      ]
    },
    {
      "cell_type": "code",
      "execution_count": null,
      "metadata": {
        "id": "nM4yYdfjbKrD"
      },
      "outputs": [],
      "source": [
        "text = pdf.pages[0].extract_text(x_tolerance=1)\n",
        "print(text)"
      ]
    },
    {
      "cell_type": "code",
      "execution_count": null,
      "metadata": {
        "id": "lXRuv5mibKrD"
      },
      "outputs": [],
      "source": [
        "text = pdf.pages[1].extract_text(x_tolerance=1)\n",
        "print(text)"
      ]
    },
    {
      "cell_type": "markdown",
      "metadata": {
        "id": "5oNjvSm1bKrD"
      },
      "source": [
        "Extract the text from all the pages of the document into a list\n",
        "- Note: this might take a minute. There are a lot of pages ;-)"
      ]
    },
    {
      "cell_type": "code",
      "execution_count": null,
      "metadata": {
        "id": "xCuTTuvSbKrD"
      },
      "outputs": [],
      "source": [
        "texts = [page.extract_text(x_tolerance=1) for page in pdf.pages]"
      ]
    },
    {
      "cell_type": "markdown",
      "metadata": {
        "id": "fFdEPAa0bKrD"
      },
      "source": [
        "Now concatenate all the text together into a single string.\n",
        "- We'll separate them from one another using a couple of newline characters and some spaces too"
      ]
    },
    {
      "cell_type": "code",
      "execution_count": null,
      "metadata": {
        "collapsed": true,
        "id": "VA2Je3JpbKrE",
        "jupyter": {
          "outputs_hidden": true
        },
        "tags": []
      },
      "outputs": [],
      "source": [
        "text = \"  \\n\\n\".join(texts)\n",
        "print(text)"
      ]
    },
    {
      "cell_type": "markdown",
      "metadata": {
        "id": "R8XeouXkbKrE"
      },
      "source": [
        "#### Using Regular Expressions to search PDF\n",
        "\n",
        "Use some regular expressions to search through the text for some interesting content.\n",
        "- You could look for email addresses, phone numbers, addresses, ...\n",
        "- Let's try first to look for email addresses:"
      ]
    },
    {
      "cell_type": "code",
      "execution_count": null,
      "metadata": {
        "id": "nXMhf0aNbKrE"
      },
      "outputs": [],
      "source": [
        "regex = '[a-zA-Z0-9._%+-]+@[a-zA-Z0-9.-]+\\.[a-zA-Z]{2,}'\n",
        "emails = re.findall(regex,text)\n",
        "print(emails)"
      ]
    },
    {
      "cell_type": "markdown",
      "metadata": {
        "id": "zqzxkQ28bKrE"
      },
      "source": [
        "Did you find any?"
      ]
    },
    {
      "cell_type": "markdown",
      "metadata": {
        "id": "y5XPlU-1WapY"
      },
      "source": [
        "POS, Chunking, NER, and SRL are all NLP tasks.\n",
        "- Are they mentioned anywhere in the paper?\n",
        "- Write a regular expression to find out:"
      ]
    },
    {
      "cell_type": "code",
      "execution_count": null,
      "metadata": {
        "id": "JabBh00YbKrE"
      },
      "outputs": [],
      "source": [
        "# TODO"
      ]
    },
    {
      "cell_type": "markdown",
      "metadata": {
        "id": "F-eWNcQbbKrE"
      },
      "source": [
        "Other ideas to try:\n",
        "- In this period reaserchers started using neural networks to solve NLP. Find out where neural networks are mentioned in the report and in what context.\n",
        "- Theauthors use a data set composed of text coming from the Wall Street Journal (WSJ). Search for references to it in the PDF."
      ]
    },
    {
      "cell_type": "code",
      "execution_count": null,
      "metadata": {
        "id": "UPGXsTFFbKrE"
      },
      "outputs": [],
      "source": [
        "# TODO"
      ]
    },
    {
      "cell_type": "markdown",
      "metadata": {
        "id": "XBR_N4eQbKrE"
      },
      "source": [
        "Load another PDF and write regular expressions to search for content in it.\n",
        "- For example, you can find reports for Ferrari here: https://corporate.ferrari.com/en/investors/results/reports\n",
        "- Let's load an interim report from September 2020 (you can find it in the same `docs` folder as before):"
      ]
    },
    {
      "cell_type": "code",
      "execution_count": null,
      "metadata": {
        "collapsed": true,
        "id": "zzSw45EtbKrF",
        "jupyter": {
          "outputs_hidden": true
        },
        "tags": []
      },
      "outputs": [],
      "source": [
        "filename = 'docs/ferrari_interim_report_at_and_for_the_three_and_nine_months_ended_september_30_2020.pdf'\n",
        "pdf = pdfplumber.open(filename)\n",
        "text = '\\n\\n'.join([page.extract_text() for page in pdf.pages])\n",
        "print(text)"
      ]
    },
    {
      "cell_type": "markdown",
      "metadata": {
        "id": "nd8hAX4aV0JK"
      },
      "source": [
        "### Extracting Tables from a PDF\n",
        "\n",
        "Sometimes it can be useful to extract tabular data from a PDF.\n",
        "- Tools exist that allow you to do this programmatically, making the extraction process semi-automatic.\n",
        "- One tool that can do this is the *tabula* library. Let's install it:"
      ]
    },
    {
      "cell_type": "code",
      "execution_count": null,
      "metadata": {
        "id": "3_rwPuYmGCVc"
      },
      "outputs": [],
      "source": [
        "!pip install tabula-py"
      ]
    },
    {
      "cell_type": "markdown",
      "metadata": {
        "id": "naFDi4yNWyY9"
      },
      "source": [
        "Now we can use *tabula* to extract all the tables from Ferrari's interim report above:"
      ]
    },
    {
      "cell_type": "code",
      "execution_count": null,
      "metadata": {
        "id": "-pQwzInjG8Rt"
      },
      "outputs": [],
      "source": [
        "import tabula\n",
        "tables = tabula.read_pdf(filename, pages=\"all\", multiple_tables=True)"
      ]
    },
    {
      "cell_type": "markdown",
      "metadata": {
        "id": "RNrQUIGrX6Rn"
      },
      "source": [
        "Let's have a look at some of the tables produced\n",
        "- the first table:"
      ]
    },
    {
      "cell_type": "code",
      "execution_count": null,
      "metadata": {
        "id": "86E4O5vDH8Hq"
      },
      "outputs": [],
      "source": [
        "tables[0]"
      ]
    },
    {
      "cell_type": "markdown",
      "metadata": {
        "id": "WXPN-2SDYCao"
      },
      "source": [
        "- the third table:"
      ]
    },
    {
      "cell_type": "code",
      "execution_count": null,
      "metadata": {
        "id": "4fOAuloxYKvp"
      },
      "outputs": [],
      "source": [
        "tables[2]"
      ]
    },
    {
      "cell_type": "markdown",
      "metadata": {
        "id": "tDCG8UeAYbwM"
      },
      "source": [
        "It can be seen that the tables are in need of a bit of cleaning to make them usable.\n",
        "- The tables are Pandas dataframes:"
      ]
    },
    {
      "cell_type": "code",
      "execution_count": null,
      "metadata": {
        "id": "GWqHAlmoJSaS"
      },
      "outputs": [],
      "source": [
        "type(tables[0])"
      ]
    },
    {
      "cell_type": "markdown",
      "metadata": {
        "id": "reWHSqBOYwcU"
      },
      "source": [
        "So we can clean-up the table by:\n",
        "- dropping some columns\n",
        "- dropping some rows\n",
        "- renaming the columns"
      ]
    },
    {
      "cell_type": "code",
      "execution_count": null,
      "metadata": {
        "id": "YlpIdJI0Jt-n"
      },
      "outputs": [],
      "source": [
        "df = tables[0]\n",
        "df = df.drop(df.columns[[1,5]], axis=1)  # drop columns: 1,5\n",
        "df = df.drop([0,5,12])                   # drop rows: 0,5,12\n",
        "df = df.reset_index(drop=True)           # reset index\n",
        "df.columns = ('Field','3months_to_30092020','3months_to_30092019','9months_to_30092020','9months_to_30092019') # rename columns\n",
        "df"
      ]
    },
    {
      "cell_type": "markdown",
      "metadata": {
        "id": "TUsE_YcMbjZ_"
      },
      "source": [
        "During the cleaning phase, some of the values may need to be updated too (e.g. certain values in the Field column above).\n",
        "- Ideally the above cleaning operations would be done automatically.\n",
        "- In practice, tables have lots of nested structure (including the one we just extracted),\n",
        "- and it's still a hard research problem to do the cleaning reliably, (particularly the generation of the column names that we provided manually).  "
      ]
    },
    {
      "cell_type": "markdown",
      "metadata": {
        "id": "Udj4WngyWapb"
      },
      "source": [
        "## Loading text from scanned document\n",
        "\n",
        "But what if my documents have been scanned?\n",
        "- In that case the task of extracting text from them is much more difficult.\n",
        "\n",
        "It is possible to extract text also from images, but you will need to have an Optical Character Recognition (OCR) system installed.\n",
        "We can use a combination of layout parsing and OCR to extract the text.\n",
        "- Layout parser is an opensource library to detect leyoutis in images: https://towardsdatascience.com/analyzing-document-layout-with-layoutparser-ed24d85f1d44\n",
        "- Tesseract is an opensource OCR system provided by Google. Some systems (such as Linux) come with Tesseract pre-installed. Others need to install it from here: https://tesseract-ocr.github.io/tessdoc/Home.html\n",
        "- If you have Tesseract installed, you can follow the instructions here to use it from Python: https://towardsdatascience.com/extracting-text-from-scanned-pdf-using-pytesseract-open-cv-cd670ee38052\n",
        "\n",
        "We can take out a page from this paper on speech synthesis, convert it to PNG and scan it: http://proceedings.mlr.press/v80/skerry-ryan18a/skerry-ryan18a.pdf\n",
        "- Let's take page 4, which contains also figures"
      ]
    },
    {
      "cell_type": "markdown",
      "source": [
        "Before starting, we will install the required packages"
      ],
      "metadata": {
        "id": "yELMoQ_LcOHr"
      }
    },
    {
      "cell_type": "code",
      "source": [
        "!pip3 install layoutparser torchvision && pip3 install \"detectron2@git+https://github.com/facebookresearch/detectron2.git@v0.5#egg=detectron2\"\n",
        "!pip3 install \"layoutparser[ocr]\""
      ],
      "metadata": {
        "id": "GzsfKKdGe2wd"
      },
      "execution_count": null,
      "outputs": []
    },
    {
      "cell_type": "code",
      "source": [
        "!apt-get install libleptonica-dev tesseract-ocr libtesseract-dev python3-pil tesseract-ocr-eng tesseract-ocr-script-latn"
      ],
      "metadata": {
        "id": "a8bLUL_LjHVx"
      },
      "execution_count": null,
      "outputs": []
    },
    {
      "cell_type": "markdown",
      "source": [
        "Let's load the image as a NumPy array"
      ],
      "metadata": {
        "id": "AS0qMxNUddU1"
      }
    },
    {
      "cell_type": "code",
      "source": [
        "import imageio\n",
        "\n",
        "img = imageio.imread('docs/skerry-ryan18a - pag 4.jpg')\n",
        "print(img.shape)"
      ],
      "metadata": {
        "id": "uSP2mS94cMGD"
      },
      "execution_count": null,
      "outputs": []
    },
    {
      "cell_type": "markdown",
      "source": [
        "Now we have a document ready for layout detection.\n",
        "\n",
        "Let's use layout parser to detect the document structure. For of all we need to load the model."
      ],
      "metadata": {
        "id": "hZEQmb09gDMK"
      }
    },
    {
      "cell_type": "code",
      "source": [
        "import layoutparser as lp\n",
        "\n",
        "model = lp.Detectron2LayoutModel('lp://PubLayNet/mask_rcnn_X_101_32x8d_FPN_3x/config',\n",
        "                                 extra_config=[\"MODEL.ROI_HEADS.SCORE_THRESH_TEST\", 0.5],\n",
        "                                 label_map={0: \"Text\", 1: \"Title\", 2: \"List\", 3:\"Table\", 4:\"Figure\"})"
      ],
      "metadata": {
        "id": "yUtBppJocLcK"
      },
      "execution_count": null,
      "outputs": []
    },
    {
      "cell_type": "markdown",
      "source": [
        "Now we can detect the layout. Let's see what output LayoutParser generates."
      ],
      "metadata": {
        "id": "kDUxHWwthNiO"
      }
    },
    {
      "cell_type": "code",
      "source": [
        "layout_result = model.detect(img)\n",
        "layout_result"
      ],
      "metadata": {
        "id": "q5RForqpcLGv"
      },
      "execution_count": null,
      "outputs": []
    },
    {
      "cell_type": "markdown",
      "source": [
        "That's not very helpful, we can try to visualise the results:"
      ],
      "metadata": {
        "id": "MFlsNkgjhehx"
      }
    },
    {
      "cell_type": "code",
      "source": [
        "lp.draw_box(img, layout_result,  box_width=5, box_alpha=0.2, show_element_type=True)\n"
      ],
      "metadata": {
        "id": "hPB-XYPvcLCT"
      },
      "execution_count": null,
      "outputs": []
    },
    {
      "cell_type": "markdown",
      "source": [
        "It's not perfect but it's really nice don't you think?\n",
        "\n",
        "It even recognises figures and titles, especially the second is non-trivial (and it fact there is an error).\n",
        "\n",
        "Now what if we want to retain only the text regions?"
      ],
      "metadata": {
        "id": "UBRQ7VTghsv9"
      }
    },
    {
      "cell_type": "code",
      "source": [
        "text_blocks = lp.Layout([b for b in layout_result if b.type=='Text'])\n",
        "lp.draw_box(img, text_blocks,  box_width=5, box_alpha=0.2, show_element_type=True, show_element_id=True)"
      ],
      "metadata": {
        "id": "bK0pixzucK-Y"
      },
      "execution_count": null,
      "outputs": []
    },
    {
      "cell_type": "markdown",
      "source": [
        "Now we can use the OCR tool to extract the identifies text. We need just a bit of preprocessing to retain the blocks in order."
      ],
      "metadata": {
        "id": "fgSP5gzniMvG"
      }
    },
    {
      "cell_type": "code",
      "source": [
        "image_width = len(img[0])\n",
        "\n",
        "# Sort element ID of the left column based on y1 coordinate\n",
        "left_interval = lp.Interval(0, image_width/2, axis='x').put_on_canvas(img)\n",
        "left_blocks = text_blocks.filter_by(left_interval, center=True)._blocks\n",
        "left_blocks.sort(key = lambda b:b.coordinates[1])\n",
        "\n",
        "# Sort element ID of the right column based on y1 coordinate\n",
        "right_blocks = [b for b in text_blocks if b not in left_blocks]\n",
        "right_blocks.sort(key = lambda b:b.coordinates[1])\n",
        "\n",
        "# Sort the overall element ID starts from left column\n",
        "text_blocks = lp.Layout([b.set(id = idx) for idx, b in enumerate(left_blocks + right_blocks)])"
      ],
      "metadata": {
        "id": "YdEf9cH0cK6N"
      },
      "execution_count": null,
      "outputs": []
    },
    {
      "cell_type": "markdown",
      "source": [
        "Now we create an instance of the OCR agent and run it on the text blocks"
      ],
      "metadata": {
        "id": "BI6R9ZpGigS8"
      }
    },
    {
      "cell_type": "code",
      "source": [
        "ocr_agent = lp.TesseractAgent(languages='eng')"
      ],
      "metadata": {
        "id": "j-giCNzdcK2P"
      },
      "execution_count": null,
      "outputs": []
    },
    {
      "cell_type": "code",
      "source": [
        "for block in text_blocks:\n",
        "\n",
        "    # Crop image around the detected layout\n",
        "    segment_image = (block.pad(left=15, right=15, top=5, bottom=5).crop_image(img))\n",
        "\n",
        "    # Perform OCR\n",
        "    text = ocr_agent.detect(segment_image)\n",
        "\n",
        "    # Save OCR result\n",
        "    block.set(text=text, inplace=True)"
      ],
      "metadata": {
        "id": "xFKRzLb-iuYb"
      },
      "execution_count": null,
      "outputs": []
    },
    {
      "cell_type": "markdown",
      "source": [
        "Finally we ca read the text we extracted from our blocks:"
      ],
      "metadata": {
        "id": "bHaOhsp8j-Tm"
      }
    },
    {
      "cell_type": "code",
      "source": [
        "for txt in text_blocks:\n",
        "    print(txt.text, end='\\n\\n')"
      ],
      "metadata": {
        "id": "hMDt2GuXcKx5"
      },
      "execution_count": null,
      "outputs": []
    },
    {
      "cell_type": "markdown",
      "source": [
        "Now that we have a string we can have fun using all the RegEx we want to extract information."
      ],
      "metadata": {
        "id": "jRJ9IUx0kImT"
      }
    },
    {
      "cell_type": "code",
      "source": [],
      "metadata": {
        "id": "HELmS9qTkEid"
      },
      "execution_count": null,
      "outputs": []
    }
  ],
  "metadata": {
    "kernelspec": {
      "display_name": "Python 3 (ipykernel)",
      "language": "python",
      "name": "python3"
    },
    "language_info": {
      "codemirror_mode": {
        "name": "ipython",
        "version": 3
      },
      "file_extension": ".py",
      "mimetype": "text/x-python",
      "name": "python",
      "nbconvert_exporter": "python",
      "pygments_lexer": "ipython3",
      "version": "3.7.13"
    },
    "vscode": {
      "interpreter": {
        "hash": "31f2aee4e71d21fbe5cf8b01ff0e069b9275f58929596ceb00d14d90e3e16cd6"
      }
    },
    "colab": {
      "provenance": [],
      "collapsed_sections": [
        "H9fk15RybKqy",
        "hOyZfFYFeYvf",
        "NlH3zCkHbKq0",
        "z4fWcIzthAya",
        "3Bwb2-TTbKq2",
        "qgR1MpJWbKq2",
        "DniaRHMebKq_",
        "zYoolZfobKrB",
        "Udj4WngyWapb"
      ],
      "include_colab_link": true
    }
  },
  "nbformat": 4,
  "nbformat_minor": 0
}