{
  "cells": [
    {
      "cell_type": "markdown",
      "metadata": {
        "id": "view-in-github",
        "colab_type": "text"
      },
      "source": [
        "<a href=\"https://colab.research.google.com/github/Mohammad-Amirifard/NLP_Tutorial/blob/main/03_Interacting_with_Document_Search_Engines.ipynb\" target=\"_parent\"><img src=\"https://colab.research.google.com/assets/colab-badge.svg\" alt=\"Open In Colab\"/></a>"
      ]
    },
    {
      "cell_type": "markdown",
      "source": [
        "# **Learn Natural Language Processing better in a practical Mode**\n",
        "\n",
        "Created By [Mohammad Amirifard](https://www.linkedin.com/in/mohammad-amirifard/)\n",
        "\n",
        "\n",
        "<img src=\"https://th.bing.com/th/id/R.481b9fae699f7619971167cade786c60?rik=PWShnQ5jIirVIA&riu=http%3a%2f%2fwww.marktechpost.com%2fwp-content%2fuploads%2f2022%2f11%2f233-scaled.jpg&ehk=hvDRc3N3UsK9xB5jAui%2b9p1VW98U8f6uUCoUncfmRbY%3d&risl=&pid=ImgRaw&r=0\" alt=\"Image\" width=\"800\" height=\"400\" />\n",
        "\n",
        "# **Structure of notebooks**\n",
        "`This NLP Tutorial includes several notebooks regarding different parts.`\n",
        "\n",
        "This is **notebook number 03**, called **Interacting with Document Search Engines**\n",
        "\n",
        "For other notebooks you can use the following links:\n",
        "\n",
        "\n",
        "1.   Notebook number 01, [Reading and Manipulating Text data](https://github.com/Mohammad-Amirifard/NLP_Tutorial/blob/main/01_Reading_and_Manipulating_Text_data.ipynb)\n",
        "\n",
        "2.   Notebook number 02, [Building_a_Text_Classifier](https://github.com/Mohammad-Amirifard/NLP_Tutorial/blob/main/02_Building_a_Text_Classifier.ipynb)\n",
        "\n",
        "3. Notebook number 03, [Interacting with Document Search Engines]()\n",
        "\n",
        "\n"
      ],
      "metadata": {
        "id": "d5qpFZIFrMdu"
      },
      "id": "d5qpFZIFrMdu"
    },
    {
      "cell_type": "markdown",
      "id": "a4be7314-a04d-4a6b-8a11-64da4499be5e",
      "metadata": {
        "id": "a4be7314-a04d-4a6b-8a11-64da4499be5e"
      },
      "source": [
        "# Search engines\n",
        "\n",
        "This notebook shows how to use [PyTerrier](https://github.com/terrier-org/pyterrier) on the [CORD19 corpus](https://www.ncbi.nlm.nih.gov/pmc/articles/PMC7251955/) and the [TREC Covid test collection](https://ir.nist.gov/covidSubmit/).\n",
        "Hereafter we are going to see how to:\n",
        "- index a collection\n",
        "- access an index\n",
        "- search an index\n",
        "- compare the performances of indexing approaches\n",
        "- learn ranking\n",
        "- evaluate ranking\n",
        "\n",
        "The notebook in mainly based on the tutorials at this [link](https://github.com/terrier-org/cikm2021tutorial/tree/main/notebooks), which are part of the tutorial series \"[IR From Bag-of-words to BERT and Beyond through Practical Experiments](https://github.com/terrier-org/cikm2021tutorial/)\" created for the [CIKM 2021](https://www.cikm2021.org/)."
      ]
    },
    {
      "cell_type": "markdown",
      "id": "40359018-8d88-448a-a57c-bb5ab0e2ffbf",
      "metadata": {
        "id": "40359018-8d88-448a-a57c-bb5ab0e2ffbf"
      },
      "source": [
        "## Tools installation and configuration\n",
        "\n",
        "PyTerrier is a Python framework, but uses the underlying [Terrier information retrieval toolkit](http://terrier.org) for many indexing and retrieval operations. While PyTerrier was new in 2020, Terrier is written in Java and has a long history dating back to 2001. PyTerrier makes it easy to perform IR experiments in Python, but using the mature Terrier platform for the expensive indexing and retrieval operations.\n",
        "\n",
        "PyTerrier is installed as follows. This might take a few minutes, in the meanwhile you can take a look at [PyTerrier documentation](https://pyterrier.readthedocs.io/en/latest/)."
      ]
    },
    {
      "cell_type": "markdown",
      "source": [
        "## 3.1 Install PyTerrier  <a name=\"31-Install-PyTerrier\"></a>\n",
        "We first install the `python-terrier` package, which provides Python bindings for the Terrier Information Retrieval platform.\n"
      ],
      "metadata": {
        "id": "GjtC5XV9H_t4"
      },
      "id": "GjtC5XV9H_t4"
    },
    {
      "cell_type": "code",
      "execution_count": 1,
      "id": "ee08f366-961c-4403-b4db-d5ffe0ab791e",
      "metadata": {
        "id": "ee08f366-961c-4403-b4db-d5ffe0ab791e",
        "colab": {
          "base_uri": "https://localhost:8080/"
        },
        "outputId": "456d4334-742a-4ed3-e441-320262bf988b"
      },
      "outputs": [
        {
          "output_type": "stream",
          "name": "stdout",
          "text": [
            "  Preparing metadata (setup.py) ... \u001b[?25l\u001b[?25hdone\n",
            "  Preparing metadata (setup.py) ... \u001b[?25l\u001b[?25hdone\n",
            "  Preparing metadata (setup.py) ... \u001b[?25l\u001b[?25hdone\n",
            "  Preparing metadata (setup.py) ... \u001b[?25l\u001b[?25hdone\n",
            "\u001b[2K   \u001b[90m━━━━━━━━━━━━━━━━━━━━━━━━━━━━━━━━━━━━━━━━\u001b[0m \u001b[32m163.4/163.4 kB\u001b[0m \u001b[31m2.0 MB/s\u001b[0m eta \u001b[36m0:00:00\u001b[0m\n",
            "\u001b[2K   \u001b[90m━━━━━━━━━━━━━━━━━━━━━━━━━━━━━━━━━━━━━━━━\u001b[0m \u001b[32m859.0/859.0 kB\u001b[0m \u001b[31m9.4 MB/s\u001b[0m eta \u001b[36m0:00:00\u001b[0m\n",
            "\u001b[2K   \u001b[90m━━━━━━━━━━━━━━━━━━━━━━━━━━━━━━━━━━━━━━━━\u001b[0m \u001b[32m60.1/60.1 kB\u001b[0m \u001b[31m1.6 MB/s\u001b[0m eta \u001b[36m0:00:00\u001b[0m\n",
            "\u001b[2K   \u001b[90m━━━━━━━━━━━━━━━━━━━━━━━━━━━━━━━━━━━━━━━━\u001b[0m \u001b[32m1.3/1.3 MB\u001b[0m \u001b[31m25.0 MB/s\u001b[0m eta \u001b[36m0:00:00\u001b[0m\n",
            "\u001b[2K   \u001b[90m━━━━━━━━━━━━━━━━━━━━━━━━━━━━━━━━━━━━━━━━\u001b[0m \u001b[32m1.6/1.6 MB\u001b[0m \u001b[31m24.6 MB/s\u001b[0m eta \u001b[36m0:00:00\u001b[0m\n",
            "\u001b[2K   \u001b[90m━━━━━━━━━━━━━━━━━━━━━━━━━━━━━━━━━━━━━━━━\u001b[0m \u001b[32m288.0/288.0 kB\u001b[0m \u001b[31m10.9 MB/s\u001b[0m eta \u001b[36m0:00:00\u001b[0m\n",
            "\u001b[2K   \u001b[90m━━━━━━━━━━━━━━━━━━━━━━━━━━━━━━━━━━━━━━━━\u001b[0m \u001b[32m119.7/119.7 kB\u001b[0m \u001b[31m2.4 MB/s\u001b[0m eta \u001b[36m0:00:00\u001b[0m\n",
            "\u001b[2K   \u001b[90m━━━━━━━━━━━━━━━━━━━━━━━━━━━━━━━━━━━━━━━━\u001b[0m \u001b[32m119.2/119.2 kB\u001b[0m \u001b[31m5.6 MB/s\u001b[0m eta \u001b[36m0:00:00\u001b[0m\n",
            "\u001b[2K   \u001b[90m━━━━━━━━━━━━━━━━━━━━━━━━━━━━━━━━━━━━━━━━\u001b[0m \u001b[32m45.1/45.1 kB\u001b[0m \u001b[31m1.5 MB/s\u001b[0m eta \u001b[36m0:00:00\u001b[0m\n",
            "\u001b[?25h  Building wheel for chest (setup.py) ... \u001b[?25l\u001b[?25hdone\n",
            "  Building wheel for wget (setup.py) ... \u001b[?25l\u001b[?25hdone\n",
            "  Building wheel for warc3-wet-clueweb09 (setup.py) ... \u001b[?25l\u001b[?25hdone\n",
            "  Building wheel for cbor (setup.py) ... \u001b[?25l\u001b[?25hdone\n"
          ]
        }
      ],
      "source": [
        "!pip install -q python-terrier -qq"
      ]
    },
    {
      "cell_type": "markdown",
      "source": [
        "## 3.2 Initialize PyTerrier  <a name=\"32-Initialize-PyTerrier\"></a>"
      ],
      "metadata": {
        "id": "B_U4wCXnIjMI"
      },
      "id": "B_U4wCXnIjMI"
    },
    {
      "cell_type": "markdown",
      "id": "dbc6cec0-3ea7-4be9-8ca8-ec4054be5c6b",
      "metadata": {
        "id": "dbc6cec0-3ea7-4be9-8ca8-ec4054be5c6b"
      },
      "source": [
        "Before using PyTerrier, it must be initialized. Initialization is required because PyTerrier needs to download the Terrier core (JAR file) and start the Java Virtual Machine (JVM).\n",
        "\n",
        "To avoid initializing PyTerrier multiple times (which can cause errors), we check if it has already been started using `pyterrier.started()`. If not, we call `pyterrier.init()`."
      ]
    },
    {
      "cell_type": "code",
      "execution_count": 24,
      "id": "04f6a4f9-7ebb-4d2d-9ab0-0b4c37074a51",
      "metadata": {
        "id": "04f6a4f9-7ebb-4d2d-9ab0-0b4c37074a51",
        "colab": {
          "base_uri": "https://localhost:8080/"
        },
        "outputId": "71321a94-19d2-401f-e86e-4522f4770740"
      },
      "outputs": [
        {
          "output_type": "stream",
          "name": "stdout",
          "text": [
            "PyTerrier is already initialized.\n",
            "****************************************************************************************************\n",
            "PyTerrier version: 0.13.0\n"
          ]
        },
        {
          "output_type": "stream",
          "name": "stderr",
          "text": [
            "<ipython-input-24-13fa1d2e9409>:4: DeprecationWarning: Call to deprecated function (or staticmethod) started. (use pt.java.started() instead) -- Deprecated since version 0.11.0.\n",
            "  if not pt.started():\n"
          ]
        }
      ],
      "source": [
        "import pyterrier as pt\n",
        "\n",
        "# Check if PyTerrier has already been started\n",
        "if not pt.started():\n",
        "    print(\"Initializing PyTerrier...\")\n",
        "    print('*' * 100)\n",
        "    pt.init()\n",
        "else:\n",
        "    print(\"PyTerrier is already initialized.\")\n",
        "    print('*' * 100)\n",
        "\n"
      ]
    },
    {
      "cell_type": "code",
      "source": [
        "# Check PyTerrier version\n",
        "print(f\"PyTerrier version: {pt.__version__}\")"
      ],
      "metadata": {
        "colab": {
          "base_uri": "https://localhost:8080/"
        },
        "id": "vc6ogS2dQqTm",
        "outputId": "e152f0f3-b760-4551-f14a-cf73941cb344"
      },
      "id": "vc6ogS2dQqTm",
      "execution_count": 25,
      "outputs": [
        {
          "output_type": "stream",
          "name": "stdout",
          "text": [
            "PyTerrier version: 0.13.0\n"
          ]
        }
      ]
    },
    {
      "cell_type": "markdown",
      "id": "04e95091-47d6-48fa-a756-2f11a337135f",
      "metadata": {
        "id": "04e95091-47d6-48fa-a756-2f11a337135f"
      },
      "source": [
        "\n",
        "##3.2 Introductory to document indexing and searching  <a name=\"32-Introductory-to-document-indexing-and-searching\"></a>"
      ]
    },
    {
      "cell_type": "markdown",
      "id": "402410d9-eba8-4abb-aee5-c9612f8b9ed2",
      "metadata": {
        "id": "402410d9-eba8-4abb-aee5-c9612f8b9ed2"
      },
      "source": [
        "\n",
        "Much of PyTerrier’s functionality is built around the use of Pandas DataFrames.\n",
        "In this section, we will explore how to represent a collection of textual documents within a DataFrame and how to index them for later retrieval.\n",
        "\n",
        "We will begin by importing the necessary library, Pandas.\n"
      ]
    },
    {
      "cell_type": "code",
      "execution_count": 26,
      "id": "503a65d2-3950-4459-84c8-bc0f2acd614e",
      "metadata": {
        "id": "503a65d2-3950-4459-84c8-bc0f2acd614e"
      },
      "outputs": [],
      "source": [
        "# Import Pandas\n",
        "import pandas as pd\n",
        "\n",
        "# Set display option to prevent text truncation\n",
        "pd.set_option('display.max_colwidth', 150)"
      ]
    },
    {
      "cell_type": "markdown",
      "source": [
        "###3.2.1 Creating Documents <a name=\"321-Create-Documents\"></a>\n",
        "\n",
        "\n",
        "We will now create a small set of example documents and store them in a DataFrame.\n",
        "Each document will have a unique identifier (`docno`) and associated text content."
      ],
      "metadata": {
        "id": "sDZd6boSuQFZ"
      },
      "id": "sDZd6boSuQFZ"
    },
    {
      "cell_type": "code",
      "source": [
        "# Create a DataFrame containing sample documents\n",
        "docs_df = pd.DataFrame(\n",
        "    [\n",
        "        [\"d1\", \"This is the first article in my collection of articles.\"],\n",
        "        [\"d2\", \"This is another article in my collection.\"],\n",
        "        [\"d3\", \"The topic of this third article is unknown.\"]\n",
        "    ],\n",
        "    columns=[\"docno\", \"text\"]\n",
        ")\n",
        "\n",
        "# Display the created DataFrame\n",
        "docs_df"
      ],
      "metadata": {
        "id": "takh-p7DuDjs",
        "colab": {
          "base_uri": "https://localhost:8080/",
          "height": 143
        },
        "outputId": "c87bf250-28d3-46d2-9972-1c5307b96bc8"
      },
      "id": "takh-p7DuDjs",
      "execution_count": 27,
      "outputs": [
        {
          "output_type": "execute_result",
          "data": {
            "text/plain": [
              "  docno                                                     text\n",
              "0    d1  This is the first article in my collection of articles.\n",
              "1    d2                This is another article in my collection.\n",
              "2    d3              The topic of this third article is unknown."
            ],
            "text/html": [
              "\n",
              "  <div id=\"df-4a652034-08aa-4b6f-841f-e46f2fb1c794\" class=\"colab-df-container\">\n",
              "    <div>\n",
              "<style scoped>\n",
              "    .dataframe tbody tr th:only-of-type {\n",
              "        vertical-align: middle;\n",
              "    }\n",
              "\n",
              "    .dataframe tbody tr th {\n",
              "        vertical-align: top;\n",
              "    }\n",
              "\n",
              "    .dataframe thead th {\n",
              "        text-align: right;\n",
              "    }\n",
              "</style>\n",
              "<table border=\"1\" class=\"dataframe\">\n",
              "  <thead>\n",
              "    <tr style=\"text-align: right;\">\n",
              "      <th></th>\n",
              "      <th>docno</th>\n",
              "      <th>text</th>\n",
              "    </tr>\n",
              "  </thead>\n",
              "  <tbody>\n",
              "    <tr>\n",
              "      <th>0</th>\n",
              "      <td>d1</td>\n",
              "      <td>This is the first article in my collection of articles.</td>\n",
              "    </tr>\n",
              "    <tr>\n",
              "      <th>1</th>\n",
              "      <td>d2</td>\n",
              "      <td>This is another article in my collection.</td>\n",
              "    </tr>\n",
              "    <tr>\n",
              "      <th>2</th>\n",
              "      <td>d3</td>\n",
              "      <td>The topic of this third article is unknown.</td>\n",
              "    </tr>\n",
              "  </tbody>\n",
              "</table>\n",
              "</div>\n",
              "    <div class=\"colab-df-buttons\">\n",
              "\n",
              "  <div class=\"colab-df-container\">\n",
              "    <button class=\"colab-df-convert\" onclick=\"convertToInteractive('df-4a652034-08aa-4b6f-841f-e46f2fb1c794')\"\n",
              "            title=\"Convert this dataframe to an interactive table.\"\n",
              "            style=\"display:none;\">\n",
              "\n",
              "  <svg xmlns=\"http://www.w3.org/2000/svg\" height=\"24px\" viewBox=\"0 -960 960 960\">\n",
              "    <path d=\"M120-120v-720h720v720H120Zm60-500h600v-160H180v160Zm220 220h160v-160H400v160Zm0 220h160v-160H400v160ZM180-400h160v-160H180v160Zm440 0h160v-160H620v160ZM180-180h160v-160H180v160Zm440 0h160v-160H620v160Z\"/>\n",
              "  </svg>\n",
              "    </button>\n",
              "\n",
              "  <style>\n",
              "    .colab-df-container {\n",
              "      display:flex;\n",
              "      gap: 12px;\n",
              "    }\n",
              "\n",
              "    .colab-df-convert {\n",
              "      background-color: #E8F0FE;\n",
              "      border: none;\n",
              "      border-radius: 50%;\n",
              "      cursor: pointer;\n",
              "      display: none;\n",
              "      fill: #1967D2;\n",
              "      height: 32px;\n",
              "      padding: 0 0 0 0;\n",
              "      width: 32px;\n",
              "    }\n",
              "\n",
              "    .colab-df-convert:hover {\n",
              "      background-color: #E2EBFA;\n",
              "      box-shadow: 0px 1px 2px rgba(60, 64, 67, 0.3), 0px 1px 3px 1px rgba(60, 64, 67, 0.15);\n",
              "      fill: #174EA6;\n",
              "    }\n",
              "\n",
              "    .colab-df-buttons div {\n",
              "      margin-bottom: 4px;\n",
              "    }\n",
              "\n",
              "    [theme=dark] .colab-df-convert {\n",
              "      background-color: #3B4455;\n",
              "      fill: #D2E3FC;\n",
              "    }\n",
              "\n",
              "    [theme=dark] .colab-df-convert:hover {\n",
              "      background-color: #434B5C;\n",
              "      box-shadow: 0px 1px 3px 1px rgba(0, 0, 0, 0.15);\n",
              "      filter: drop-shadow(0px 1px 2px rgba(0, 0, 0, 0.3));\n",
              "      fill: #FFFFFF;\n",
              "    }\n",
              "  </style>\n",
              "\n",
              "    <script>\n",
              "      const buttonEl =\n",
              "        document.querySelector('#df-4a652034-08aa-4b6f-841f-e46f2fb1c794 button.colab-df-convert');\n",
              "      buttonEl.style.display =\n",
              "        google.colab.kernel.accessAllowed ? 'block' : 'none';\n",
              "\n",
              "      async function convertToInteractive(key) {\n",
              "        const element = document.querySelector('#df-4a652034-08aa-4b6f-841f-e46f2fb1c794');\n",
              "        const dataTable =\n",
              "          await google.colab.kernel.invokeFunction('convertToInteractive',\n",
              "                                                    [key], {});\n",
              "        if (!dataTable) return;\n",
              "\n",
              "        const docLinkHtml = 'Like what you see? Visit the ' +\n",
              "          '<a target=\"_blank\" href=https://colab.research.google.com/notebooks/data_table.ipynb>data table notebook</a>'\n",
              "          + ' to learn more about interactive tables.';\n",
              "        element.innerHTML = '';\n",
              "        dataTable['output_type'] = 'display_data';\n",
              "        await google.colab.output.renderOutput(dataTable, element);\n",
              "        const docLink = document.createElement('div');\n",
              "        docLink.innerHTML = docLinkHtml;\n",
              "        element.appendChild(docLink);\n",
              "      }\n",
              "    </script>\n",
              "  </div>\n",
              "\n",
              "\n",
              "    <div id=\"df-75ac4576-02b3-4703-b2d1-49c233623711\">\n",
              "      <button class=\"colab-df-quickchart\" onclick=\"quickchart('df-75ac4576-02b3-4703-b2d1-49c233623711')\"\n",
              "                title=\"Suggest charts\"\n",
              "                style=\"display:none;\">\n",
              "\n",
              "<svg xmlns=\"http://www.w3.org/2000/svg\" height=\"24px\"viewBox=\"0 0 24 24\"\n",
              "     width=\"24px\">\n",
              "    <g>\n",
              "        <path d=\"M19 3H5c-1.1 0-2 .9-2 2v14c0 1.1.9 2 2 2h14c1.1 0 2-.9 2-2V5c0-1.1-.9-2-2-2zM9 17H7v-7h2v7zm4 0h-2V7h2v10zm4 0h-2v-4h2v4z\"/>\n",
              "    </g>\n",
              "</svg>\n",
              "      </button>\n",
              "\n",
              "<style>\n",
              "  .colab-df-quickchart {\n",
              "      --bg-color: #E8F0FE;\n",
              "      --fill-color: #1967D2;\n",
              "      --hover-bg-color: #E2EBFA;\n",
              "      --hover-fill-color: #174EA6;\n",
              "      --disabled-fill-color: #AAA;\n",
              "      --disabled-bg-color: #DDD;\n",
              "  }\n",
              "\n",
              "  [theme=dark] .colab-df-quickchart {\n",
              "      --bg-color: #3B4455;\n",
              "      --fill-color: #D2E3FC;\n",
              "      --hover-bg-color: #434B5C;\n",
              "      --hover-fill-color: #FFFFFF;\n",
              "      --disabled-bg-color: #3B4455;\n",
              "      --disabled-fill-color: #666;\n",
              "  }\n",
              "\n",
              "  .colab-df-quickchart {\n",
              "    background-color: var(--bg-color);\n",
              "    border: none;\n",
              "    border-radius: 50%;\n",
              "    cursor: pointer;\n",
              "    display: none;\n",
              "    fill: var(--fill-color);\n",
              "    height: 32px;\n",
              "    padding: 0;\n",
              "    width: 32px;\n",
              "  }\n",
              "\n",
              "  .colab-df-quickchart:hover {\n",
              "    background-color: var(--hover-bg-color);\n",
              "    box-shadow: 0 1px 2px rgba(60, 64, 67, 0.3), 0 1px 3px 1px rgba(60, 64, 67, 0.15);\n",
              "    fill: var(--button-hover-fill-color);\n",
              "  }\n",
              "\n",
              "  .colab-df-quickchart-complete:disabled,\n",
              "  .colab-df-quickchart-complete:disabled:hover {\n",
              "    background-color: var(--disabled-bg-color);\n",
              "    fill: var(--disabled-fill-color);\n",
              "    box-shadow: none;\n",
              "  }\n",
              "\n",
              "  .colab-df-spinner {\n",
              "    border: 2px solid var(--fill-color);\n",
              "    border-color: transparent;\n",
              "    border-bottom-color: var(--fill-color);\n",
              "    animation:\n",
              "      spin 1s steps(1) infinite;\n",
              "  }\n",
              "\n",
              "  @keyframes spin {\n",
              "    0% {\n",
              "      border-color: transparent;\n",
              "      border-bottom-color: var(--fill-color);\n",
              "      border-left-color: var(--fill-color);\n",
              "    }\n",
              "    20% {\n",
              "      border-color: transparent;\n",
              "      border-left-color: var(--fill-color);\n",
              "      border-top-color: var(--fill-color);\n",
              "    }\n",
              "    30% {\n",
              "      border-color: transparent;\n",
              "      border-left-color: var(--fill-color);\n",
              "      border-top-color: var(--fill-color);\n",
              "      border-right-color: var(--fill-color);\n",
              "    }\n",
              "    40% {\n",
              "      border-color: transparent;\n",
              "      border-right-color: var(--fill-color);\n",
              "      border-top-color: var(--fill-color);\n",
              "    }\n",
              "    60% {\n",
              "      border-color: transparent;\n",
              "      border-right-color: var(--fill-color);\n",
              "    }\n",
              "    80% {\n",
              "      border-color: transparent;\n",
              "      border-right-color: var(--fill-color);\n",
              "      border-bottom-color: var(--fill-color);\n",
              "    }\n",
              "    90% {\n",
              "      border-color: transparent;\n",
              "      border-bottom-color: var(--fill-color);\n",
              "    }\n",
              "  }\n",
              "</style>\n",
              "\n",
              "      <script>\n",
              "        async function quickchart(key) {\n",
              "          const quickchartButtonEl =\n",
              "            document.querySelector('#' + key + ' button');\n",
              "          quickchartButtonEl.disabled = true;  // To prevent multiple clicks.\n",
              "          quickchartButtonEl.classList.add('colab-df-spinner');\n",
              "          try {\n",
              "            const charts = await google.colab.kernel.invokeFunction(\n",
              "                'suggestCharts', [key], {});\n",
              "          } catch (error) {\n",
              "            console.error('Error during call to suggestCharts:', error);\n",
              "          }\n",
              "          quickchartButtonEl.classList.remove('colab-df-spinner');\n",
              "          quickchartButtonEl.classList.add('colab-df-quickchart-complete');\n",
              "        }\n",
              "        (() => {\n",
              "          let quickchartButtonEl =\n",
              "            document.querySelector('#df-75ac4576-02b3-4703-b2d1-49c233623711 button');\n",
              "          quickchartButtonEl.style.display =\n",
              "            google.colab.kernel.accessAllowed ? 'block' : 'none';\n",
              "        })();\n",
              "      </script>\n",
              "    </div>\n",
              "\n",
              "  <div id=\"id_fa37e805-0320-4b18-9892-6d013fc212e7\">\n",
              "    <style>\n",
              "      .colab-df-generate {\n",
              "        background-color: #E8F0FE;\n",
              "        border: none;\n",
              "        border-radius: 50%;\n",
              "        cursor: pointer;\n",
              "        display: none;\n",
              "        fill: #1967D2;\n",
              "        height: 32px;\n",
              "        padding: 0 0 0 0;\n",
              "        width: 32px;\n",
              "      }\n",
              "\n",
              "      .colab-df-generate:hover {\n",
              "        background-color: #E2EBFA;\n",
              "        box-shadow: 0px 1px 2px rgba(60, 64, 67, 0.3), 0px 1px 3px 1px rgba(60, 64, 67, 0.15);\n",
              "        fill: #174EA6;\n",
              "      }\n",
              "\n",
              "      [theme=dark] .colab-df-generate {\n",
              "        background-color: #3B4455;\n",
              "        fill: #D2E3FC;\n",
              "      }\n",
              "\n",
              "      [theme=dark] .colab-df-generate:hover {\n",
              "        background-color: #434B5C;\n",
              "        box-shadow: 0px 1px 3px 1px rgba(0, 0, 0, 0.15);\n",
              "        filter: drop-shadow(0px 1px 2px rgba(0, 0, 0, 0.3));\n",
              "        fill: #FFFFFF;\n",
              "      }\n",
              "    </style>\n",
              "    <button class=\"colab-df-generate\" onclick=\"generateWithVariable('docs_df')\"\n",
              "            title=\"Generate code using this dataframe.\"\n",
              "            style=\"display:none;\">\n",
              "\n",
              "  <svg xmlns=\"http://www.w3.org/2000/svg\" height=\"24px\"viewBox=\"0 0 24 24\"\n",
              "       width=\"24px\">\n",
              "    <path d=\"M7,19H8.4L18.45,9,17,7.55,7,17.6ZM5,21V16.75L18.45,3.32a2,2,0,0,1,2.83,0l1.4,1.43a1.91,1.91,0,0,1,.58,1.4,1.91,1.91,0,0,1-.58,1.4L9.25,21ZM18.45,9,17,7.55Zm-12,3A5.31,5.31,0,0,0,4.9,8.1,5.31,5.31,0,0,0,1,6.5,5.31,5.31,0,0,0,4.9,4.9,5.31,5.31,0,0,0,6.5,1,5.31,5.31,0,0,0,8.1,4.9,5.31,5.31,0,0,0,12,6.5,5.46,5.46,0,0,0,6.5,12Z\"/>\n",
              "  </svg>\n",
              "    </button>\n",
              "    <script>\n",
              "      (() => {\n",
              "      const buttonEl =\n",
              "        document.querySelector('#id_fa37e805-0320-4b18-9892-6d013fc212e7 button.colab-df-generate');\n",
              "      buttonEl.style.display =\n",
              "        google.colab.kernel.accessAllowed ? 'block' : 'none';\n",
              "\n",
              "      buttonEl.onclick = () => {\n",
              "        google.colab.notebook.generateWithVariable('docs_df');\n",
              "      }\n",
              "      })();\n",
              "    </script>\n",
              "  </div>\n",
              "\n",
              "    </div>\n",
              "  </div>\n"
            ],
            "application/vnd.google.colaboratory.intrinsic+json": {
              "type": "dataframe",
              "variable_name": "docs_df",
              "summary": "{\n  \"name\": \"docs_df\",\n  \"rows\": 3,\n  \"fields\": [\n    {\n      \"column\": \"docno\",\n      \"properties\": {\n        \"dtype\": \"string\",\n        \"num_unique_values\": 3,\n        \"samples\": [\n          \"d1\",\n          \"d2\",\n          \"d3\"\n        ],\n        \"semantic_type\": \"\",\n        \"description\": \"\"\n      }\n    },\n    {\n      \"column\": \"text\",\n      \"properties\": {\n        \"dtype\": \"string\",\n        \"num_unique_values\": 3,\n        \"samples\": [\n          \"This is the first article in my collection of articles.\",\n          \"This is another article in my collection.\",\n          \"The topic of this third article is unknown.\"\n        ],\n        \"semantic_type\": \"\",\n        \"description\": \"\"\n      }\n    }\n  ]\n}"
            }
          },
          "metadata": {},
          "execution_count": 27
        }
      ]
    },
    {
      "cell_type": "markdown",
      "id": "d1e0ebcb-59d9-4277-931c-76cc14700033",
      "metadata": {
        "id": "d1e0ebcb-59d9-4277-931c-76cc14700033"
      },
      "source": [
        "###3.2.2 Indexing  <a name=\"322-Indexing\"></a>\n",
        "\n",
        "\n",
        "Before a search engine can determine which documents are most relevant to a given query, it must first index the documents.\n",
        "\n",
        "In the code below, we use PyTerrier's `DFIndexer` to index the documents stored in our DataFrame.\n",
        "The index files and data structures are saved in a local directory named `index_3docs`,\n",
        "which you can view in the Colab file browser on the left panel."
      ]
    },
    {
      "cell_type": "code",
      "execution_count": 28,
      "id": "0ab5ea93-51d0-48c8-8d1b-14801fb89890",
      "metadata": {
        "id": "0ab5ea93-51d0-48c8-8d1b-14801fb89890",
        "colab": {
          "base_uri": "https://localhost:8080/"
        },
        "outputId": "c7e81316-2e86-40b3-9bda-43efe6b49b20"
      },
      "outputs": [
        {
          "output_type": "stream",
          "name": "stderr",
          "text": [
            "<ipython-input-28-6f61d0246543>:2: DeprecationWarning: Call to deprecated class DFIndexer. (use pt.terrier.IterDictIndexer().index(dataframe.to_dict(orient='records')) instead) -- Deprecated since version 0.11.0.\n",
            "  indexer = pt.DFIndexer(\"./index_3docs\", overwrite=True)\n"
          ]
        },
        {
          "output_type": "stream",
          "name": "stdout",
          "text": [
            "./index_3docs/data.properties\n"
          ]
        }
      ],
      "source": [
        "# Create an indexer instance specifying the output directory\n",
        "indexer = pt.DFIndexer(\"./index_3docs\", overwrite=True)\n",
        "\n",
        "# Perform the indexing operation and obtain a reference to the created index\n",
        "index_ref = indexer.index(docs_df[\"text\"], docs_df[\"docno\"])\n",
        "\n",
        "# Output a summary of the index\n",
        "print(index_ref.toString())\n"
      ]
    },
    {
      "cell_type": "markdown",
      "id": "e78ca805-a0fe-4765-8c84-44f3f47948e6",
      "metadata": {
        "id": "e78ca805-a0fe-4765-8c84-44f3f47948e6"
      },
      "source": [
        "###3.2.3 Loading indexes"
      ]
    },
    {
      "cell_type": "markdown",
      "id": "f1e4331c-ed8c-439a-8579-c5b6cb7b920a",
      "metadata": {
        "id": "f1e4331c-ed8c-439a-8579-c5b6cb7b920a"
      },
      "source": [
        "Once documents are indexed, we can load the resulting Terrier index using `IndexFactory.of()`.\n",
        "This gives access to various low-level structures within the Terrier Information Retrieval system, such as:\n",
        "\n",
        "- `getCollectionStatistics()` — Retrieve corpus-level statistics.\n",
        "- `getInvertedIndex()` — Access term-document mappings.\n",
        "- `getLexicon()` — View the vocabulary and term statistics."
      ]
    },
    {
      "cell_type": "code",
      "source": [
        "index = pt.IndexFactory.of(index_ref)"
      ],
      "metadata": {
        "id": "xBRjAlNySvrY"
      },
      "id": "xBRjAlNySvrY",
      "execution_count": null,
      "outputs": []
    },
    {
      "cell_type": "code",
      "execution_count": 31,
      "id": "ea0b17a5-6cca-4c36-8b1a-b98b3a3026cc",
      "metadata": {
        "id": "ea0b17a5-6cca-4c36-8b1a-b98b3a3026cc",
        "colab": {
          "base_uri": "https://localhost:8080/"
        },
        "outputId": "c18dbc85-281e-4621-a2c8-1bd879d44d7f"
      },
      "outputs": [
        {
          "output_type": "stream",
          "name": "stdout",
          "text": [
            "Number of documents: 3\n",
            "Number of terms: 6\n",
            "Number of postings: 9\n",
            "Number of fields: 0\n",
            "Number of tokens: 10\n",
            "Field names: []\n",
            "Positions:   false\n",
            "\n"
          ]
        }
      ],
      "source": [
        "# The `getCollectionStatistics()` method provides high-level statistics about the indexed corpus,\n",
        "# such as the number of documents, number of terms, and average document length. Let’s display these statistics:\n",
        "print(index.getCollectionStatistics())"
      ]
    },
    {
      "cell_type": "markdown",
      "id": "4a62177b-0e9c-4227-8198-a493410e144c",
      "metadata": {
        "id": "4a62177b-0e9c-4227-8198-a493410e144c"
      },
      "source": [
        "\n",
        "###3.2.4 Exploring the Lexicon (Vocabulary)\n",
        "At a glance, we can confirm that 3 documents have been indexed.\n",
        "However, you may notice that only 6 terms are listed.\n",
        "This is because stopwords have been removed, and stemming (via Porter Stemmer) has been applied.\n",
        "\n",
        "\n",
        "The `getLexicon()` method allows us to iterate over the indexed terms.\n",
        "Each term entry includes useful statistics:\n",
        "\n",
        "- `Nt`: Number of documents containing the term (important for calculating Inverse Document Frequency — IDF).\n",
        "- `TF`: Total frequency of the term across the entire corpus.\n",
        "\n",
        "Let's print out the full lexicon:"
      ]
    },
    {
      "cell_type": "code",
      "execution_count": 22,
      "id": "bbea7b73-f1f3-4dd5-b329-0b27574b73a2",
      "metadata": {
        "id": "bbea7b73-f1f3-4dd5-b329-0b27574b73a2",
        "colab": {
          "base_uri": "https://localhost:8080/"
        },
        "outputId": "392dcbcf-4c8c-4ab5-8bf6-3b39a34c1632"
      },
      "outputs": [
        {
          "output_type": "stream",
          "name": "stdout",
          "text": [
            "articl :  term1 Nt=3 TF=4 maxTF=2 @{0 0 0}\n",
            "collect :  term0 Nt=2 TF=2 maxTF=1 @{0 0 7}\n",
            "first :  term2 Nt=1 TF=1 maxTF=1 @{0 1 3}\n",
            "third :  term4 Nt=1 TF=1 maxTF=1 @{0 1 5}\n",
            "topic :  term3 Nt=1 TF=1 maxTF=1 @{0 2 1}\n",
            "unknown :  term5 Nt=1 TF=1 maxTF=1 @{0 2 5}\n"
          ]
        }
      ],
      "source": [
        "for kv in index.getLexicon():\n",
        "    print(kv.getKey(),\": \", kv.getValue().toString())"
      ]
    },
    {
      "cell_type": "markdown",
      "source": [
        "###3.2.5 Looking Up Specific Terms\n",
        "\n",
        "We can directly access specific terms in the lexicon using square bracket notation.\n",
        "Let’s retrieve information about the stemmed term `\"articl\"`:"
      ],
      "metadata": {
        "id": "lKrpEvYTTknh"
      },
      "id": "lKrpEvYTTknh"
    },
    {
      "cell_type": "code",
      "execution_count": null,
      "id": "e5bf49e4-d291-44c0-a219-5da36d971d4f",
      "metadata": {
        "id": "e5bf49e4-d291-44c0-a219-5da36d971d4f",
        "colab": {
          "base_uri": "https://localhost:8080/",
          "height": 35
        },
        "outputId": "63dc3d0b-b18e-48e3-a6a0-501425b981a9"
      },
      "outputs": [
        {
          "output_type": "execute_result",
          "data": {
            "text/plain": [
              "'term1 Nt=3 TF=4 maxTF=2 @{0 0 0}'"
            ],
            "application/vnd.google.colaboratory.intrinsic+json": {
              "type": "string"
            }
          },
          "metadata": {},
          "execution_count": 11
        }
      ],
      "source": [
        "index.getLexicon()[\"articl\"].toString()"
      ]
    },
    {
      "cell_type": "markdown",
      "id": "14c7b305-9ace-40dd-b0a7-7c75ff481c8f",
      "metadata": {
        "id": "14c7b305-9ace-40dd-b0a7-7c75ff481c8f"
      },
      "source": [
        "And we can see how many times this term is used in each document that it occurs in (by iterating over the posting lists):"
      ]
    },
    {
      "cell_type": "code",
      "execution_count": null,
      "id": "918b5ad1-0946-43bd-af0d-4739d2efb3a4",
      "metadata": {
        "id": "918b5ad1-0946-43bd-af0d-4739d2efb3a4",
        "colab": {
          "base_uri": "https://localhost:8080/"
        },
        "outputId": "4ac3b719-0096-4c42-f094-b9676353a5f9"
      },
      "outputs": [
        {
          "output_type": "stream",
          "name": "stdout",
          "text": [
            "ID(0) TF(2) doclen = 4\n",
            "ID(1) TF(1) doclen = 2\n",
            "ID(2) TF(1) doclen = 4\n"
          ]
        }
      ],
      "source": [
        "pointer = index.getLexicon()[\"articl\"]\n",
        "for posting in index.getInvertedIndex().getPostings(pointer):\n",
        "    print(f'{posting.toString()} doclen = {posting.getDocumentLength()}')"
      ]
    },
    {
      "cell_type": "markdown",
      "id": "c52d23dd-0c01-4259-8889-cbad18beb782",
      "metadata": {
        "id": "c52d23dd-0c01-4259-8889-cbad18beb782"
      },
      "source": [
        "We can see that `\"article\"` occurs in each of the three documents."
      ]
    },
    {
      "cell_type": "markdown",
      "id": "e49e1406-1b4f-435d-8cfe-8af48e7072e4",
      "metadata": {
        "id": "e49e1406-1b4f-435d-8cfe-8af48e7072e4"
      },
      "source": [
        "###3.2.6 Searching an Index by TF-IDF\n",
        "\n",
        "Now that we have indexed our documents, we can perform searches over the collection.\n",
        "\n",
        "In this example, we will use PyTerrier’s `BatchRetrieve` class to execute a simple query.\n",
        "We will retrieve results using the **TF-IDF** weighting model."
      ]
    },
    {
      "cell_type": "markdown",
      "source": [
        "\n",
        "**TF-IDF Formula**\n",
        "\n",
        "The **TF-IDF** score of a term *t* in a document *d* is calculated as:\n",
        "\n",
        "$$\n",
        "\\text{TF-IDF}(t, d) = \\text{TF}(t, d) \\times \\text{IDF}(t)\n",
        "$$\n",
        "\n",
        "where:\n",
        "- $\\text{TF}(t, d)$ = Number of times term *t* appears in document *d*.\n",
        "- $\\text{IDF}(t)$ = Inverse Document Frequency of term *t*, calculated as:\n",
        "\n",
        "$$\n",
        "\\text{IDF}(t) = \\log \\left( \\frac{N}{\\text{DF}(t)} \\right)\n",
        "$$\n",
        "\n",
        "- $N$ = Total number of documents.\n",
        "- ${DF}(t)$ = Number of documents containing term *t*.\n",
        "\n",
        "---\n",
        "\n",
        "**BM25 Formula**\n",
        "\n",
        "The **BM25** score of a document *d* for a query containing term *t* is given by:\n",
        "\n",
        "$$\n",
        "\\text{BM25}(t, d) = \\text{IDF}(t) \\times \\frac{f(t, d) \\times (k_1 + 1)}{f(t, d) + k_1 \\times (1 - b + b \\times \\frac{|d|}{\\text{avgdl}})}\n",
        "$$\n",
        "\n",
        "where:\n",
        "\n",
        "- $ f(t, d) $ = Term frequency of term *t* in document *d*.\n",
        "- $ |d| $ = Length of document *d* (e.g., number of tokens).\n",
        "- $\\text{avgdl} $ = Average document length across the corpus.\n",
        "- $ k_1 $ = Term frequency scaling factor (commonly set around 1.2 or 1.5).\n",
        "- $ b $ = Document length normalization factor (commonly set to 0.75).\n",
        "\n",
        "The IDF term in BM25 is calculated slightly differently:\n",
        "\n",
        "$$\n",
        "\\text{IDF}(t) = \\log \\left( \\frac{N - \\text{DF}(t) + 0.5}{\\text{DF}(t) + 0.5} + 1 \\right)\n",
        "$$\n",
        "\n",
        "- $N $ = Total number of documents.\n",
        "- $ \\text{DF}(t) $\n",
        " = Number of documents containing term *t*.\n",
        "\n",
        "---\n"
      ],
      "metadata": {
        "id": "FGdVNCFKVgHX"
      },
      "id": "FGdVNCFKVgHX"
    },
    {
      "cell_type": "code",
      "source": [
        "# Define the search query\n",
        "query = \"articles\"\n",
        "\n",
        "# Create a retrieval object using the TF-IDF weighting model\n",
        "retriever = pt.BatchRetrieve(index, wmodel=\"TF_IDF\")\n",
        "\n",
        "# Execute the search\n",
        "results = retriever.search(query)\n",
        "\n",
        "# Display the top retrieved documents\n",
        "results[[\"docid\", \"docno\", \"rank\", \"score\"]]"
      ],
      "metadata": {
        "id": "6qxpZKldzShR",
        "colab": {
          "base_uri": "https://localhost:8080/",
          "height": 178
        },
        "outputId": "ec3e9c09-3ccc-4c9e-8920-7e033eeba7ea"
      },
      "id": "6qxpZKldzShR",
      "execution_count": 40,
      "outputs": [
        {
          "output_type": "stream",
          "name": "stderr",
          "text": [
            "<ipython-input-40-e2627f5c9492>:5: DeprecationWarning: Call to deprecated class BatchRetrieve. (use pt.terrier.Retriever() instead) -- Deprecated since version 0.11.0.\n",
            "  retriever = pt.BatchRetrieve(index, wmodel=\"TF_IDF\")\n"
          ]
        },
        {
          "output_type": "execute_result",
          "data": {
            "text/plain": [
              "   docid docno  rank     score\n",
              "0      0    d1     0  0.710059\n",
              "1      1    d2     1  0.652174\n",
              "2      2    d3     2  0.504202"
            ],
            "text/html": [
              "\n",
              "  <div id=\"df-b00b7bde-6c87-41fe-8fd0-33b3623970db\" class=\"colab-df-container\">\n",
              "    <div>\n",
              "<style scoped>\n",
              "    .dataframe tbody tr th:only-of-type {\n",
              "        vertical-align: middle;\n",
              "    }\n",
              "\n",
              "    .dataframe tbody tr th {\n",
              "        vertical-align: top;\n",
              "    }\n",
              "\n",
              "    .dataframe thead th {\n",
              "        text-align: right;\n",
              "    }\n",
              "</style>\n",
              "<table border=\"1\" class=\"dataframe\">\n",
              "  <thead>\n",
              "    <tr style=\"text-align: right;\">\n",
              "      <th></th>\n",
              "      <th>docid</th>\n",
              "      <th>docno</th>\n",
              "      <th>rank</th>\n",
              "      <th>score</th>\n",
              "    </tr>\n",
              "  </thead>\n",
              "  <tbody>\n",
              "    <tr>\n",
              "      <th>0</th>\n",
              "      <td>0</td>\n",
              "      <td>d1</td>\n",
              "      <td>0</td>\n",
              "      <td>0.710059</td>\n",
              "    </tr>\n",
              "    <tr>\n",
              "      <th>1</th>\n",
              "      <td>1</td>\n",
              "      <td>d2</td>\n",
              "      <td>1</td>\n",
              "      <td>0.652174</td>\n",
              "    </tr>\n",
              "    <tr>\n",
              "      <th>2</th>\n",
              "      <td>2</td>\n",
              "      <td>d3</td>\n",
              "      <td>2</td>\n",
              "      <td>0.504202</td>\n",
              "    </tr>\n",
              "  </tbody>\n",
              "</table>\n",
              "</div>\n",
              "    <div class=\"colab-df-buttons\">\n",
              "\n",
              "  <div class=\"colab-df-container\">\n",
              "    <button class=\"colab-df-convert\" onclick=\"convertToInteractive('df-b00b7bde-6c87-41fe-8fd0-33b3623970db')\"\n",
              "            title=\"Convert this dataframe to an interactive table.\"\n",
              "            style=\"display:none;\">\n",
              "\n",
              "  <svg xmlns=\"http://www.w3.org/2000/svg\" height=\"24px\" viewBox=\"0 -960 960 960\">\n",
              "    <path d=\"M120-120v-720h720v720H120Zm60-500h600v-160H180v160Zm220 220h160v-160H400v160Zm0 220h160v-160H400v160ZM180-400h160v-160H180v160Zm440 0h160v-160H620v160ZM180-180h160v-160H180v160Zm440 0h160v-160H620v160Z\"/>\n",
              "  </svg>\n",
              "    </button>\n",
              "\n",
              "  <style>\n",
              "    .colab-df-container {\n",
              "      display:flex;\n",
              "      gap: 12px;\n",
              "    }\n",
              "\n",
              "    .colab-df-convert {\n",
              "      background-color: #E8F0FE;\n",
              "      border: none;\n",
              "      border-radius: 50%;\n",
              "      cursor: pointer;\n",
              "      display: none;\n",
              "      fill: #1967D2;\n",
              "      height: 32px;\n",
              "      padding: 0 0 0 0;\n",
              "      width: 32px;\n",
              "    }\n",
              "\n",
              "    .colab-df-convert:hover {\n",
              "      background-color: #E2EBFA;\n",
              "      box-shadow: 0px 1px 2px rgba(60, 64, 67, 0.3), 0px 1px 3px 1px rgba(60, 64, 67, 0.15);\n",
              "      fill: #174EA6;\n",
              "    }\n",
              "\n",
              "    .colab-df-buttons div {\n",
              "      margin-bottom: 4px;\n",
              "    }\n",
              "\n",
              "    [theme=dark] .colab-df-convert {\n",
              "      background-color: #3B4455;\n",
              "      fill: #D2E3FC;\n",
              "    }\n",
              "\n",
              "    [theme=dark] .colab-df-convert:hover {\n",
              "      background-color: #434B5C;\n",
              "      box-shadow: 0px 1px 3px 1px rgba(0, 0, 0, 0.15);\n",
              "      filter: drop-shadow(0px 1px 2px rgba(0, 0, 0, 0.3));\n",
              "      fill: #FFFFFF;\n",
              "    }\n",
              "  </style>\n",
              "\n",
              "    <script>\n",
              "      const buttonEl =\n",
              "        document.querySelector('#df-b00b7bde-6c87-41fe-8fd0-33b3623970db button.colab-df-convert');\n",
              "      buttonEl.style.display =\n",
              "        google.colab.kernel.accessAllowed ? 'block' : 'none';\n",
              "\n",
              "      async function convertToInteractive(key) {\n",
              "        const element = document.querySelector('#df-b00b7bde-6c87-41fe-8fd0-33b3623970db');\n",
              "        const dataTable =\n",
              "          await google.colab.kernel.invokeFunction('convertToInteractive',\n",
              "                                                    [key], {});\n",
              "        if (!dataTable) return;\n",
              "\n",
              "        const docLinkHtml = 'Like what you see? Visit the ' +\n",
              "          '<a target=\"_blank\" href=https://colab.research.google.com/notebooks/data_table.ipynb>data table notebook</a>'\n",
              "          + ' to learn more about interactive tables.';\n",
              "        element.innerHTML = '';\n",
              "        dataTable['output_type'] = 'display_data';\n",
              "        await google.colab.output.renderOutput(dataTable, element);\n",
              "        const docLink = document.createElement('div');\n",
              "        docLink.innerHTML = docLinkHtml;\n",
              "        element.appendChild(docLink);\n",
              "      }\n",
              "    </script>\n",
              "  </div>\n",
              "\n",
              "\n",
              "    <div id=\"df-92687dfe-91c0-4492-833c-60f7153d53a0\">\n",
              "      <button class=\"colab-df-quickchart\" onclick=\"quickchart('df-92687dfe-91c0-4492-833c-60f7153d53a0')\"\n",
              "                title=\"Suggest charts\"\n",
              "                style=\"display:none;\">\n",
              "\n",
              "<svg xmlns=\"http://www.w3.org/2000/svg\" height=\"24px\"viewBox=\"0 0 24 24\"\n",
              "     width=\"24px\">\n",
              "    <g>\n",
              "        <path d=\"M19 3H5c-1.1 0-2 .9-2 2v14c0 1.1.9 2 2 2h14c1.1 0 2-.9 2-2V5c0-1.1-.9-2-2-2zM9 17H7v-7h2v7zm4 0h-2V7h2v10zm4 0h-2v-4h2v4z\"/>\n",
              "    </g>\n",
              "</svg>\n",
              "      </button>\n",
              "\n",
              "<style>\n",
              "  .colab-df-quickchart {\n",
              "      --bg-color: #E8F0FE;\n",
              "      --fill-color: #1967D2;\n",
              "      --hover-bg-color: #E2EBFA;\n",
              "      --hover-fill-color: #174EA6;\n",
              "      --disabled-fill-color: #AAA;\n",
              "      --disabled-bg-color: #DDD;\n",
              "  }\n",
              "\n",
              "  [theme=dark] .colab-df-quickchart {\n",
              "      --bg-color: #3B4455;\n",
              "      --fill-color: #D2E3FC;\n",
              "      --hover-bg-color: #434B5C;\n",
              "      --hover-fill-color: #FFFFFF;\n",
              "      --disabled-bg-color: #3B4455;\n",
              "      --disabled-fill-color: #666;\n",
              "  }\n",
              "\n",
              "  .colab-df-quickchart {\n",
              "    background-color: var(--bg-color);\n",
              "    border: none;\n",
              "    border-radius: 50%;\n",
              "    cursor: pointer;\n",
              "    display: none;\n",
              "    fill: var(--fill-color);\n",
              "    height: 32px;\n",
              "    padding: 0;\n",
              "    width: 32px;\n",
              "  }\n",
              "\n",
              "  .colab-df-quickchart:hover {\n",
              "    background-color: var(--hover-bg-color);\n",
              "    box-shadow: 0 1px 2px rgba(60, 64, 67, 0.3), 0 1px 3px 1px rgba(60, 64, 67, 0.15);\n",
              "    fill: var(--button-hover-fill-color);\n",
              "  }\n",
              "\n",
              "  .colab-df-quickchart-complete:disabled,\n",
              "  .colab-df-quickchart-complete:disabled:hover {\n",
              "    background-color: var(--disabled-bg-color);\n",
              "    fill: var(--disabled-fill-color);\n",
              "    box-shadow: none;\n",
              "  }\n",
              "\n",
              "  .colab-df-spinner {\n",
              "    border: 2px solid var(--fill-color);\n",
              "    border-color: transparent;\n",
              "    border-bottom-color: var(--fill-color);\n",
              "    animation:\n",
              "      spin 1s steps(1) infinite;\n",
              "  }\n",
              "\n",
              "  @keyframes spin {\n",
              "    0% {\n",
              "      border-color: transparent;\n",
              "      border-bottom-color: var(--fill-color);\n",
              "      border-left-color: var(--fill-color);\n",
              "    }\n",
              "    20% {\n",
              "      border-color: transparent;\n",
              "      border-left-color: var(--fill-color);\n",
              "      border-top-color: var(--fill-color);\n",
              "    }\n",
              "    30% {\n",
              "      border-color: transparent;\n",
              "      border-left-color: var(--fill-color);\n",
              "      border-top-color: var(--fill-color);\n",
              "      border-right-color: var(--fill-color);\n",
              "    }\n",
              "    40% {\n",
              "      border-color: transparent;\n",
              "      border-right-color: var(--fill-color);\n",
              "      border-top-color: var(--fill-color);\n",
              "    }\n",
              "    60% {\n",
              "      border-color: transparent;\n",
              "      border-right-color: var(--fill-color);\n",
              "    }\n",
              "    80% {\n",
              "      border-color: transparent;\n",
              "      border-right-color: var(--fill-color);\n",
              "      border-bottom-color: var(--fill-color);\n",
              "    }\n",
              "    90% {\n",
              "      border-color: transparent;\n",
              "      border-bottom-color: var(--fill-color);\n",
              "    }\n",
              "  }\n",
              "</style>\n",
              "\n",
              "      <script>\n",
              "        async function quickchart(key) {\n",
              "          const quickchartButtonEl =\n",
              "            document.querySelector('#' + key + ' button');\n",
              "          quickchartButtonEl.disabled = true;  // To prevent multiple clicks.\n",
              "          quickchartButtonEl.classList.add('colab-df-spinner');\n",
              "          try {\n",
              "            const charts = await google.colab.kernel.invokeFunction(\n",
              "                'suggestCharts', [key], {});\n",
              "          } catch (error) {\n",
              "            console.error('Error during call to suggestCharts:', error);\n",
              "          }\n",
              "          quickchartButtonEl.classList.remove('colab-df-spinner');\n",
              "          quickchartButtonEl.classList.add('colab-df-quickchart-complete');\n",
              "        }\n",
              "        (() => {\n",
              "          let quickchartButtonEl =\n",
              "            document.querySelector('#df-92687dfe-91c0-4492-833c-60f7153d53a0 button');\n",
              "          quickchartButtonEl.style.display =\n",
              "            google.colab.kernel.accessAllowed ? 'block' : 'none';\n",
              "        })();\n",
              "      </script>\n",
              "    </div>\n",
              "\n",
              "    </div>\n",
              "  </div>\n"
            ],
            "application/vnd.google.colaboratory.intrinsic+json": {
              "type": "dataframe",
              "summary": "{\n  \"name\": \"results[[\\\"docid\\\", \\\"docno\\\", \\\"rank\\\", \\\"score\\\"]]\",\n  \"rows\": 3,\n  \"fields\": [\n    {\n      \"column\": \"docid\",\n      \"properties\": {\n        \"dtype\": \"number\",\n        \"std\": 1,\n        \"min\": 0,\n        \"max\": 2,\n        \"num_unique_values\": 3,\n        \"samples\": [\n          0,\n          1,\n          2\n        ],\n        \"semantic_type\": \"\",\n        \"description\": \"\"\n      }\n    },\n    {\n      \"column\": \"docno\",\n      \"properties\": {\n        \"dtype\": \"string\",\n        \"num_unique_values\": 3,\n        \"samples\": [\n          \"d1\",\n          \"d2\",\n          \"d3\"\n        ],\n        \"semantic_type\": \"\",\n        \"description\": \"\"\n      }\n    },\n    {\n      \"column\": \"rank\",\n      \"properties\": {\n        \"dtype\": \"number\",\n        \"std\": 1,\n        \"min\": 0,\n        \"max\": 2,\n        \"num_unique_values\": 3,\n        \"samples\": [\n          0,\n          1,\n          2\n        ],\n        \"semantic_type\": \"\",\n        \"description\": \"\"\n      }\n    },\n    {\n      \"column\": \"score\",\n      \"properties\": {\n        \"dtype\": \"number\",\n        \"std\": 0.10616323224237206,\n        \"min\": 0.5042016806722689,\n        \"max\": 0.7100591715976331,\n        \"num_unique_values\": 3,\n        \"samples\": [\n          0.7100591715976331,\n          0.6521739130434783,\n          0.5042016806722689\n        ],\n        \"semantic_type\": \"\",\n        \"description\": \"\"\n      }\n    }\n  ]\n}"
            }
          },
          "metadata": {},
          "execution_count": 40
        }
      ]
    },
    {
      "cell_type": "markdown",
      "id": "f6037a43-b38f-4c26-9940-a73086a6327a",
      "metadata": {
        "id": "f6037a43-b38f-4c26-9940-a73086a6327a"
      },
      "source": [
        "Here we used the TF-IDF weighting formula to rank the results.\n",
        "\n",
        "The `search()` method returns a dataframe with columns:\n",
        " - `qid`: the query identifier\n",
        " - `docid`: integer identifier for document\n",
        " - `docno`: string identifier for document\n",
        " - `rank`: rank position\n",
        " - `score`: tf-idf score\n"
      ]
    },
    {
      "cell_type": "markdown",
      "source": [
        "###3.2.7 Searching an Index by BM25\n"
      ],
      "metadata": {
        "id": "KJzCcFYEU0r9"
      },
      "id": "KJzCcFYEU0r9"
    },
    {
      "cell_type": "code",
      "source": [
        "# Switching to BM25 (very popular and usually better than plain TF-IDF)\n",
        "\n",
        "# Define the search query\n",
        "query = \"articles\"\n",
        "\n",
        "# Create a retrieval object using the TF-IDF weighting model\n",
        "bm25_retriever  = pt.BatchRetrieve(index, wmodel=\"BM25\")\n",
        "\n",
        "# Execute the search\n",
        "bm25_results  = bm25_retriever .search(query)\n",
        "\n",
        "# Display the top retrieved documents\n",
        "bm25_results [[\"docid\", \"docno\", \"rank\", \"score\"]]"
      ],
      "metadata": {
        "colab": {
          "base_uri": "https://localhost:8080/",
          "height": 178
        },
        "id": "nqS05sHcU9q6",
        "outputId": "53bd237d-fe79-4ab7-ae63-6f502dc5f700"
      },
      "id": "nqS05sHcU9q6",
      "execution_count": 42,
      "outputs": [
        {
          "output_type": "stream",
          "name": "stderr",
          "text": [
            "<ipython-input-42-12707170266a>:7: DeprecationWarning: Call to deprecated class BatchRetrieve. (use pt.terrier.Retriever() instead) -- Deprecated since version 0.11.0.\n",
            "  bm25_retriever  = pt.BatchRetrieve(index, wmodel=\"BM25\")\n"
          ]
        },
        {
          "output_type": "execute_result",
          "data": {
            "text/plain": [
              "   docid docno  rank     score\n",
              "0      2    d3     0 -2.595034\n",
              "1      1    d2     1 -3.356620\n",
              "2      0    d1     2 -3.654545"
            ],
            "text/html": [
              "\n",
              "  <div id=\"df-479a34b6-504f-4b01-859f-2de529d875d0\" class=\"colab-df-container\">\n",
              "    <div>\n",
              "<style scoped>\n",
              "    .dataframe tbody tr th:only-of-type {\n",
              "        vertical-align: middle;\n",
              "    }\n",
              "\n",
              "    .dataframe tbody tr th {\n",
              "        vertical-align: top;\n",
              "    }\n",
              "\n",
              "    .dataframe thead th {\n",
              "        text-align: right;\n",
              "    }\n",
              "</style>\n",
              "<table border=\"1\" class=\"dataframe\">\n",
              "  <thead>\n",
              "    <tr style=\"text-align: right;\">\n",
              "      <th></th>\n",
              "      <th>docid</th>\n",
              "      <th>docno</th>\n",
              "      <th>rank</th>\n",
              "      <th>score</th>\n",
              "    </tr>\n",
              "  </thead>\n",
              "  <tbody>\n",
              "    <tr>\n",
              "      <th>0</th>\n",
              "      <td>2</td>\n",
              "      <td>d3</td>\n",
              "      <td>0</td>\n",
              "      <td>-2.595034</td>\n",
              "    </tr>\n",
              "    <tr>\n",
              "      <th>1</th>\n",
              "      <td>1</td>\n",
              "      <td>d2</td>\n",
              "      <td>1</td>\n",
              "      <td>-3.356620</td>\n",
              "    </tr>\n",
              "    <tr>\n",
              "      <th>2</th>\n",
              "      <td>0</td>\n",
              "      <td>d1</td>\n",
              "      <td>2</td>\n",
              "      <td>-3.654545</td>\n",
              "    </tr>\n",
              "  </tbody>\n",
              "</table>\n",
              "</div>\n",
              "    <div class=\"colab-df-buttons\">\n",
              "\n",
              "  <div class=\"colab-df-container\">\n",
              "    <button class=\"colab-df-convert\" onclick=\"convertToInteractive('df-479a34b6-504f-4b01-859f-2de529d875d0')\"\n",
              "            title=\"Convert this dataframe to an interactive table.\"\n",
              "            style=\"display:none;\">\n",
              "\n",
              "  <svg xmlns=\"http://www.w3.org/2000/svg\" height=\"24px\" viewBox=\"0 -960 960 960\">\n",
              "    <path d=\"M120-120v-720h720v720H120Zm60-500h600v-160H180v160Zm220 220h160v-160H400v160Zm0 220h160v-160H400v160ZM180-400h160v-160H180v160Zm440 0h160v-160H620v160ZM180-180h160v-160H180v160Zm440 0h160v-160H620v160Z\"/>\n",
              "  </svg>\n",
              "    </button>\n",
              "\n",
              "  <style>\n",
              "    .colab-df-container {\n",
              "      display:flex;\n",
              "      gap: 12px;\n",
              "    }\n",
              "\n",
              "    .colab-df-convert {\n",
              "      background-color: #E8F0FE;\n",
              "      border: none;\n",
              "      border-radius: 50%;\n",
              "      cursor: pointer;\n",
              "      display: none;\n",
              "      fill: #1967D2;\n",
              "      height: 32px;\n",
              "      padding: 0 0 0 0;\n",
              "      width: 32px;\n",
              "    }\n",
              "\n",
              "    .colab-df-convert:hover {\n",
              "      background-color: #E2EBFA;\n",
              "      box-shadow: 0px 1px 2px rgba(60, 64, 67, 0.3), 0px 1px 3px 1px rgba(60, 64, 67, 0.15);\n",
              "      fill: #174EA6;\n",
              "    }\n",
              "\n",
              "    .colab-df-buttons div {\n",
              "      margin-bottom: 4px;\n",
              "    }\n",
              "\n",
              "    [theme=dark] .colab-df-convert {\n",
              "      background-color: #3B4455;\n",
              "      fill: #D2E3FC;\n",
              "    }\n",
              "\n",
              "    [theme=dark] .colab-df-convert:hover {\n",
              "      background-color: #434B5C;\n",
              "      box-shadow: 0px 1px 3px 1px rgba(0, 0, 0, 0.15);\n",
              "      filter: drop-shadow(0px 1px 2px rgba(0, 0, 0, 0.3));\n",
              "      fill: #FFFFFF;\n",
              "    }\n",
              "  </style>\n",
              "\n",
              "    <script>\n",
              "      const buttonEl =\n",
              "        document.querySelector('#df-479a34b6-504f-4b01-859f-2de529d875d0 button.colab-df-convert');\n",
              "      buttonEl.style.display =\n",
              "        google.colab.kernel.accessAllowed ? 'block' : 'none';\n",
              "\n",
              "      async function convertToInteractive(key) {\n",
              "        const element = document.querySelector('#df-479a34b6-504f-4b01-859f-2de529d875d0');\n",
              "        const dataTable =\n",
              "          await google.colab.kernel.invokeFunction('convertToInteractive',\n",
              "                                                    [key], {});\n",
              "        if (!dataTable) return;\n",
              "\n",
              "        const docLinkHtml = 'Like what you see? Visit the ' +\n",
              "          '<a target=\"_blank\" href=https://colab.research.google.com/notebooks/data_table.ipynb>data table notebook</a>'\n",
              "          + ' to learn more about interactive tables.';\n",
              "        element.innerHTML = '';\n",
              "        dataTable['output_type'] = 'display_data';\n",
              "        await google.colab.output.renderOutput(dataTable, element);\n",
              "        const docLink = document.createElement('div');\n",
              "        docLink.innerHTML = docLinkHtml;\n",
              "        element.appendChild(docLink);\n",
              "      }\n",
              "    </script>\n",
              "  </div>\n",
              "\n",
              "\n",
              "    <div id=\"df-15a7e723-bd77-42c6-98cd-8c936cb146f5\">\n",
              "      <button class=\"colab-df-quickchart\" onclick=\"quickchart('df-15a7e723-bd77-42c6-98cd-8c936cb146f5')\"\n",
              "                title=\"Suggest charts\"\n",
              "                style=\"display:none;\">\n",
              "\n",
              "<svg xmlns=\"http://www.w3.org/2000/svg\" height=\"24px\"viewBox=\"0 0 24 24\"\n",
              "     width=\"24px\">\n",
              "    <g>\n",
              "        <path d=\"M19 3H5c-1.1 0-2 .9-2 2v14c0 1.1.9 2 2 2h14c1.1 0 2-.9 2-2V5c0-1.1-.9-2-2-2zM9 17H7v-7h2v7zm4 0h-2V7h2v10zm4 0h-2v-4h2v4z\"/>\n",
              "    </g>\n",
              "</svg>\n",
              "      </button>\n",
              "\n",
              "<style>\n",
              "  .colab-df-quickchart {\n",
              "      --bg-color: #E8F0FE;\n",
              "      --fill-color: #1967D2;\n",
              "      --hover-bg-color: #E2EBFA;\n",
              "      --hover-fill-color: #174EA6;\n",
              "      --disabled-fill-color: #AAA;\n",
              "      --disabled-bg-color: #DDD;\n",
              "  }\n",
              "\n",
              "  [theme=dark] .colab-df-quickchart {\n",
              "      --bg-color: #3B4455;\n",
              "      --fill-color: #D2E3FC;\n",
              "      --hover-bg-color: #434B5C;\n",
              "      --hover-fill-color: #FFFFFF;\n",
              "      --disabled-bg-color: #3B4455;\n",
              "      --disabled-fill-color: #666;\n",
              "  }\n",
              "\n",
              "  .colab-df-quickchart {\n",
              "    background-color: var(--bg-color);\n",
              "    border: none;\n",
              "    border-radius: 50%;\n",
              "    cursor: pointer;\n",
              "    display: none;\n",
              "    fill: var(--fill-color);\n",
              "    height: 32px;\n",
              "    padding: 0;\n",
              "    width: 32px;\n",
              "  }\n",
              "\n",
              "  .colab-df-quickchart:hover {\n",
              "    background-color: var(--hover-bg-color);\n",
              "    box-shadow: 0 1px 2px rgba(60, 64, 67, 0.3), 0 1px 3px 1px rgba(60, 64, 67, 0.15);\n",
              "    fill: var(--button-hover-fill-color);\n",
              "  }\n",
              "\n",
              "  .colab-df-quickchart-complete:disabled,\n",
              "  .colab-df-quickchart-complete:disabled:hover {\n",
              "    background-color: var(--disabled-bg-color);\n",
              "    fill: var(--disabled-fill-color);\n",
              "    box-shadow: none;\n",
              "  }\n",
              "\n",
              "  .colab-df-spinner {\n",
              "    border: 2px solid var(--fill-color);\n",
              "    border-color: transparent;\n",
              "    border-bottom-color: var(--fill-color);\n",
              "    animation:\n",
              "      spin 1s steps(1) infinite;\n",
              "  }\n",
              "\n",
              "  @keyframes spin {\n",
              "    0% {\n",
              "      border-color: transparent;\n",
              "      border-bottom-color: var(--fill-color);\n",
              "      border-left-color: var(--fill-color);\n",
              "    }\n",
              "    20% {\n",
              "      border-color: transparent;\n",
              "      border-left-color: var(--fill-color);\n",
              "      border-top-color: var(--fill-color);\n",
              "    }\n",
              "    30% {\n",
              "      border-color: transparent;\n",
              "      border-left-color: var(--fill-color);\n",
              "      border-top-color: var(--fill-color);\n",
              "      border-right-color: var(--fill-color);\n",
              "    }\n",
              "    40% {\n",
              "      border-color: transparent;\n",
              "      border-right-color: var(--fill-color);\n",
              "      border-top-color: var(--fill-color);\n",
              "    }\n",
              "    60% {\n",
              "      border-color: transparent;\n",
              "      border-right-color: var(--fill-color);\n",
              "    }\n",
              "    80% {\n",
              "      border-color: transparent;\n",
              "      border-right-color: var(--fill-color);\n",
              "      border-bottom-color: var(--fill-color);\n",
              "    }\n",
              "    90% {\n",
              "      border-color: transparent;\n",
              "      border-bottom-color: var(--fill-color);\n",
              "    }\n",
              "  }\n",
              "</style>\n",
              "\n",
              "      <script>\n",
              "        async function quickchart(key) {\n",
              "          const quickchartButtonEl =\n",
              "            document.querySelector('#' + key + ' button');\n",
              "          quickchartButtonEl.disabled = true;  // To prevent multiple clicks.\n",
              "          quickchartButtonEl.classList.add('colab-df-spinner');\n",
              "          try {\n",
              "            const charts = await google.colab.kernel.invokeFunction(\n",
              "                'suggestCharts', [key], {});\n",
              "          } catch (error) {\n",
              "            console.error('Error during call to suggestCharts:', error);\n",
              "          }\n",
              "          quickchartButtonEl.classList.remove('colab-df-spinner');\n",
              "          quickchartButtonEl.classList.add('colab-df-quickchart-complete');\n",
              "        }\n",
              "        (() => {\n",
              "          let quickchartButtonEl =\n",
              "            document.querySelector('#df-15a7e723-bd77-42c6-98cd-8c936cb146f5 button');\n",
              "          quickchartButtonEl.style.display =\n",
              "            google.colab.kernel.accessAllowed ? 'block' : 'none';\n",
              "        })();\n",
              "      </script>\n",
              "    </div>\n",
              "\n",
              "    </div>\n",
              "  </div>\n"
            ],
            "application/vnd.google.colaboratory.intrinsic+json": {
              "type": "dataframe",
              "summary": "{\n  \"name\": \"bm25_results [[\\\"docid\\\", \\\"docno\\\", \\\"rank\\\", \\\"score\\\"]]\",\n  \"rows\": 3,\n  \"fields\": [\n    {\n      \"column\": \"docid\",\n      \"properties\": {\n        \"dtype\": \"number\",\n        \"std\": 1,\n        \"min\": 0,\n        \"max\": 2,\n        \"num_unique_values\": 3,\n        \"samples\": [\n          2,\n          1,\n          0\n        ],\n        \"semantic_type\": \"\",\n        \"description\": \"\"\n      }\n    },\n    {\n      \"column\": \"docno\",\n      \"properties\": {\n        \"dtype\": \"string\",\n        \"num_unique_values\": 3,\n        \"samples\": [\n          \"d3\",\n          \"d2\",\n          \"d1\"\n        ],\n        \"semantic_type\": \"\",\n        \"description\": \"\"\n      }\n    },\n    {\n      \"column\": \"rank\",\n      \"properties\": {\n        \"dtype\": \"number\",\n        \"std\": 1,\n        \"min\": 0,\n        \"max\": 2,\n        \"num_unique_values\": 3,\n        \"samples\": [\n          0,\n          1,\n          2\n        ],\n        \"semantic_type\": \"\",\n        \"description\": \"\"\n      }\n    },\n    {\n      \"column\": \"score\",\n      \"properties\": {\n        \"dtype\": \"number\",\n        \"std\": 0.5464027663914742,\n        \"min\": -3.654544868950728,\n        \"max\": -2.595033961565853,\n        \"num_unique_values\": 3,\n        \"samples\": [\n          -2.595033961565853,\n          -3.356620015503658,\n          -3.654544868950728\n        ],\n        \"semantic_type\": \"\",\n        \"description\": \"\"\n      }\n    }\n  ]\n}"
            }
          },
          "metadata": {},
          "execution_count": 42
        }
      ]
    },
    {
      "cell_type": "markdown",
      "source": [
        "### Multiple searches"
      ],
      "metadata": {
        "id": "mC-K7o3M1WSf"
      },
      "id": "mC-K7o3M1WSf"
    },
    {
      "cell_type": "markdown",
      "id": "e00cffe9-5aff-4f75-b22d-b08dae32337b",
      "metadata": {
        "id": "e00cffe9-5aff-4f75-b22d-b08dae32337b"
      },
      "source": [
        "We can also run multiple queries at once:"
      ]
    },
    {
      "cell_type": "code",
      "execution_count": null,
      "id": "0f4cd440-a836-4ad6-84f6-6691beab2a8e",
      "metadata": {
        "id": "0f4cd440-a836-4ad6-84f6-6691beab2a8e",
        "colab": {
          "base_uri": "https://localhost:8080/",
          "height": 269
        },
        "outputId": "8e68aac9-b279-4408-aa9a-3edf46fa002e"
      },
      "outputs": [
        {
          "output_type": "execute_result",
          "data": {
            "text/plain": [
              "      qid  docid docno  rank     score          query\n",
              "0  query1      0    d1     0  0.710059       articles\n",
              "1  query1      1    d2     1  0.652174       articles\n",
              "2  query1      2    d3     2  0.504202       articles\n",
              "3  query2      0    d1     0  1.718463  first article\n",
              "4  query2      1    d2     1  0.652174  first article\n",
              "5  query2      2    d3     2  0.504202  first article\n",
              "6  query3      2    d3     0  1.008403        unknown"
            ],
            "text/html": [
              "\n",
              "  <div id=\"df-e3ce4dd1-f02b-422c-b751-0e2e5a9a396d\" class=\"colab-df-container\">\n",
              "    <div>\n",
              "<style scoped>\n",
              "    .dataframe tbody tr th:only-of-type {\n",
              "        vertical-align: middle;\n",
              "    }\n",
              "\n",
              "    .dataframe tbody tr th {\n",
              "        vertical-align: top;\n",
              "    }\n",
              "\n",
              "    .dataframe thead th {\n",
              "        text-align: right;\n",
              "    }\n",
              "</style>\n",
              "<table border=\"1\" class=\"dataframe\">\n",
              "  <thead>\n",
              "    <tr style=\"text-align: right;\">\n",
              "      <th></th>\n",
              "      <th>qid</th>\n",
              "      <th>docid</th>\n",
              "      <th>docno</th>\n",
              "      <th>rank</th>\n",
              "      <th>score</th>\n",
              "      <th>query</th>\n",
              "    </tr>\n",
              "  </thead>\n",
              "  <tbody>\n",
              "    <tr>\n",
              "      <th>0</th>\n",
              "      <td>query1</td>\n",
              "      <td>0</td>\n",
              "      <td>d1</td>\n",
              "      <td>0</td>\n",
              "      <td>0.710059</td>\n",
              "      <td>articles</td>\n",
              "    </tr>\n",
              "    <tr>\n",
              "      <th>1</th>\n",
              "      <td>query1</td>\n",
              "      <td>1</td>\n",
              "      <td>d2</td>\n",
              "      <td>1</td>\n",
              "      <td>0.652174</td>\n",
              "      <td>articles</td>\n",
              "    </tr>\n",
              "    <tr>\n",
              "      <th>2</th>\n",
              "      <td>query1</td>\n",
              "      <td>2</td>\n",
              "      <td>d3</td>\n",
              "      <td>2</td>\n",
              "      <td>0.504202</td>\n",
              "      <td>articles</td>\n",
              "    </tr>\n",
              "    <tr>\n",
              "      <th>3</th>\n",
              "      <td>query2</td>\n",
              "      <td>0</td>\n",
              "      <td>d1</td>\n",
              "      <td>0</td>\n",
              "      <td>1.718463</td>\n",
              "      <td>first article</td>\n",
              "    </tr>\n",
              "    <tr>\n",
              "      <th>4</th>\n",
              "      <td>query2</td>\n",
              "      <td>1</td>\n",
              "      <td>d2</td>\n",
              "      <td>1</td>\n",
              "      <td>0.652174</td>\n",
              "      <td>first article</td>\n",
              "    </tr>\n",
              "    <tr>\n",
              "      <th>5</th>\n",
              "      <td>query2</td>\n",
              "      <td>2</td>\n",
              "      <td>d3</td>\n",
              "      <td>2</td>\n",
              "      <td>0.504202</td>\n",
              "      <td>first article</td>\n",
              "    </tr>\n",
              "    <tr>\n",
              "      <th>6</th>\n",
              "      <td>query3</td>\n",
              "      <td>2</td>\n",
              "      <td>d3</td>\n",
              "      <td>0</td>\n",
              "      <td>1.008403</td>\n",
              "      <td>unknown</td>\n",
              "    </tr>\n",
              "  </tbody>\n",
              "</table>\n",
              "</div>\n",
              "    <div class=\"colab-df-buttons\">\n",
              "\n",
              "  <div class=\"colab-df-container\">\n",
              "    <button class=\"colab-df-convert\" onclick=\"convertToInteractive('df-e3ce4dd1-f02b-422c-b751-0e2e5a9a396d')\"\n",
              "            title=\"Convert this dataframe to an interactive table.\"\n",
              "            style=\"display:none;\">\n",
              "\n",
              "  <svg xmlns=\"http://www.w3.org/2000/svg\" height=\"24px\" viewBox=\"0 -960 960 960\">\n",
              "    <path d=\"M120-120v-720h720v720H120Zm60-500h600v-160H180v160Zm220 220h160v-160H400v160Zm0 220h160v-160H400v160ZM180-400h160v-160H180v160Zm440 0h160v-160H620v160ZM180-180h160v-160H180v160Zm440 0h160v-160H620v160Z\"/>\n",
              "  </svg>\n",
              "    </button>\n",
              "\n",
              "  <style>\n",
              "    .colab-df-container {\n",
              "      display:flex;\n",
              "      gap: 12px;\n",
              "    }\n",
              "\n",
              "    .colab-df-convert {\n",
              "      background-color: #E8F0FE;\n",
              "      border: none;\n",
              "      border-radius: 50%;\n",
              "      cursor: pointer;\n",
              "      display: none;\n",
              "      fill: #1967D2;\n",
              "      height: 32px;\n",
              "      padding: 0 0 0 0;\n",
              "      width: 32px;\n",
              "    }\n",
              "\n",
              "    .colab-df-convert:hover {\n",
              "      background-color: #E2EBFA;\n",
              "      box-shadow: 0px 1px 2px rgba(60, 64, 67, 0.3), 0px 1px 3px 1px rgba(60, 64, 67, 0.15);\n",
              "      fill: #174EA6;\n",
              "    }\n",
              "\n",
              "    .colab-df-buttons div {\n",
              "      margin-bottom: 4px;\n",
              "    }\n",
              "\n",
              "    [theme=dark] .colab-df-convert {\n",
              "      background-color: #3B4455;\n",
              "      fill: #D2E3FC;\n",
              "    }\n",
              "\n",
              "    [theme=dark] .colab-df-convert:hover {\n",
              "      background-color: #434B5C;\n",
              "      box-shadow: 0px 1px 3px 1px rgba(0, 0, 0, 0.15);\n",
              "      filter: drop-shadow(0px 1px 2px rgba(0, 0, 0, 0.3));\n",
              "      fill: #FFFFFF;\n",
              "    }\n",
              "  </style>\n",
              "\n",
              "    <script>\n",
              "      const buttonEl =\n",
              "        document.querySelector('#df-e3ce4dd1-f02b-422c-b751-0e2e5a9a396d button.colab-df-convert');\n",
              "      buttonEl.style.display =\n",
              "        google.colab.kernel.accessAllowed ? 'block' : 'none';\n",
              "\n",
              "      async function convertToInteractive(key) {\n",
              "        const element = document.querySelector('#df-e3ce4dd1-f02b-422c-b751-0e2e5a9a396d');\n",
              "        const dataTable =\n",
              "          await google.colab.kernel.invokeFunction('convertToInteractive',\n",
              "                                                    [key], {});\n",
              "        if (!dataTable) return;\n",
              "\n",
              "        const docLinkHtml = 'Like what you see? Visit the ' +\n",
              "          '<a target=\"_blank\" href=https://colab.research.google.com/notebooks/data_table.ipynb>data table notebook</a>'\n",
              "          + ' to learn more about interactive tables.';\n",
              "        element.innerHTML = '';\n",
              "        dataTable['output_type'] = 'display_data';\n",
              "        await google.colab.output.renderOutput(dataTable, element);\n",
              "        const docLink = document.createElement('div');\n",
              "        docLink.innerHTML = docLinkHtml;\n",
              "        element.appendChild(docLink);\n",
              "      }\n",
              "    </script>\n",
              "  </div>\n",
              "\n",
              "\n",
              "    <div id=\"df-605710ac-f832-4d0b-8b28-9c13261c2799\">\n",
              "      <button class=\"colab-df-quickchart\" onclick=\"quickchart('df-605710ac-f832-4d0b-8b28-9c13261c2799')\"\n",
              "                title=\"Suggest charts\"\n",
              "                style=\"display:none;\">\n",
              "\n",
              "<svg xmlns=\"http://www.w3.org/2000/svg\" height=\"24px\"viewBox=\"0 0 24 24\"\n",
              "     width=\"24px\">\n",
              "    <g>\n",
              "        <path d=\"M19 3H5c-1.1 0-2 .9-2 2v14c0 1.1.9 2 2 2h14c1.1 0 2-.9 2-2V5c0-1.1-.9-2-2-2zM9 17H7v-7h2v7zm4 0h-2V7h2v10zm4 0h-2v-4h2v4z\"/>\n",
              "    </g>\n",
              "</svg>\n",
              "      </button>\n",
              "\n",
              "<style>\n",
              "  .colab-df-quickchart {\n",
              "      --bg-color: #E8F0FE;\n",
              "      --fill-color: #1967D2;\n",
              "      --hover-bg-color: #E2EBFA;\n",
              "      --hover-fill-color: #174EA6;\n",
              "      --disabled-fill-color: #AAA;\n",
              "      --disabled-bg-color: #DDD;\n",
              "  }\n",
              "\n",
              "  [theme=dark] .colab-df-quickchart {\n",
              "      --bg-color: #3B4455;\n",
              "      --fill-color: #D2E3FC;\n",
              "      --hover-bg-color: #434B5C;\n",
              "      --hover-fill-color: #FFFFFF;\n",
              "      --disabled-bg-color: #3B4455;\n",
              "      --disabled-fill-color: #666;\n",
              "  }\n",
              "\n",
              "  .colab-df-quickchart {\n",
              "    background-color: var(--bg-color);\n",
              "    border: none;\n",
              "    border-radius: 50%;\n",
              "    cursor: pointer;\n",
              "    display: none;\n",
              "    fill: var(--fill-color);\n",
              "    height: 32px;\n",
              "    padding: 0;\n",
              "    width: 32px;\n",
              "  }\n",
              "\n",
              "  .colab-df-quickchart:hover {\n",
              "    background-color: var(--hover-bg-color);\n",
              "    box-shadow: 0 1px 2px rgba(60, 64, 67, 0.3), 0 1px 3px 1px rgba(60, 64, 67, 0.15);\n",
              "    fill: var(--button-hover-fill-color);\n",
              "  }\n",
              "\n",
              "  .colab-df-quickchart-complete:disabled,\n",
              "  .colab-df-quickchart-complete:disabled:hover {\n",
              "    background-color: var(--disabled-bg-color);\n",
              "    fill: var(--disabled-fill-color);\n",
              "    box-shadow: none;\n",
              "  }\n",
              "\n",
              "  .colab-df-spinner {\n",
              "    border: 2px solid var(--fill-color);\n",
              "    border-color: transparent;\n",
              "    border-bottom-color: var(--fill-color);\n",
              "    animation:\n",
              "      spin 1s steps(1) infinite;\n",
              "  }\n",
              "\n",
              "  @keyframes spin {\n",
              "    0% {\n",
              "      border-color: transparent;\n",
              "      border-bottom-color: var(--fill-color);\n",
              "      border-left-color: var(--fill-color);\n",
              "    }\n",
              "    20% {\n",
              "      border-color: transparent;\n",
              "      border-left-color: var(--fill-color);\n",
              "      border-top-color: var(--fill-color);\n",
              "    }\n",
              "    30% {\n",
              "      border-color: transparent;\n",
              "      border-left-color: var(--fill-color);\n",
              "      border-top-color: var(--fill-color);\n",
              "      border-right-color: var(--fill-color);\n",
              "    }\n",
              "    40% {\n",
              "      border-color: transparent;\n",
              "      border-right-color: var(--fill-color);\n",
              "      border-top-color: var(--fill-color);\n",
              "    }\n",
              "    60% {\n",
              "      border-color: transparent;\n",
              "      border-right-color: var(--fill-color);\n",
              "    }\n",
              "    80% {\n",
              "      border-color: transparent;\n",
              "      border-right-color: var(--fill-color);\n",
              "      border-bottom-color: var(--fill-color);\n",
              "    }\n",
              "    90% {\n",
              "      border-color: transparent;\n",
              "      border-bottom-color: var(--fill-color);\n",
              "    }\n",
              "  }\n",
              "</style>\n",
              "\n",
              "      <script>\n",
              "        async function quickchart(key) {\n",
              "          const quickchartButtonEl =\n",
              "            document.querySelector('#' + key + ' button');\n",
              "          quickchartButtonEl.disabled = true;  // To prevent multiple clicks.\n",
              "          quickchartButtonEl.classList.add('colab-df-spinner');\n",
              "          try {\n",
              "            const charts = await google.colab.kernel.invokeFunction(\n",
              "                'suggestCharts', [key], {});\n",
              "          } catch (error) {\n",
              "            console.error('Error during call to suggestCharts:', error);\n",
              "          }\n",
              "          quickchartButtonEl.classList.remove('colab-df-spinner');\n",
              "          quickchartButtonEl.classList.add('colab-df-quickchart-complete');\n",
              "        }\n",
              "        (() => {\n",
              "          let quickchartButtonEl =\n",
              "            document.querySelector('#df-605710ac-f832-4d0b-8b28-9c13261c2799 button');\n",
              "          quickchartButtonEl.style.display =\n",
              "            google.colab.kernel.accessAllowed ? 'block' : 'none';\n",
              "        })();\n",
              "      </script>\n",
              "    </div>\n",
              "\n",
              "    </div>\n",
              "  </div>\n"
            ],
            "application/vnd.google.colaboratory.intrinsic+json": {
              "type": "dataframe",
              "summary": "{\n  \"name\": \"br(queries)\",\n  \"rows\": 7,\n  \"fields\": [\n    {\n      \"column\": \"qid\",\n      \"properties\": {\n        \"dtype\": \"category\",\n        \"num_unique_values\": 3,\n        \"samples\": [\n          \"query1\",\n          \"query2\",\n          \"query3\"\n        ],\n        \"semantic_type\": \"\",\n        \"description\": \"\"\n      }\n    },\n    {\n      \"column\": \"docid\",\n      \"properties\": {\n        \"dtype\": \"number\",\n        \"std\": 0,\n        \"min\": 0,\n        \"max\": 2,\n        \"num_unique_values\": 3,\n        \"samples\": [\n          0,\n          1,\n          2\n        ],\n        \"semantic_type\": \"\",\n        \"description\": \"\"\n      }\n    },\n    {\n      \"column\": \"docno\",\n      \"properties\": {\n        \"dtype\": \"category\",\n        \"num_unique_values\": 3,\n        \"samples\": [\n          \"d1\",\n          \"d2\",\n          \"d3\"\n        ],\n        \"semantic_type\": \"\",\n        \"description\": \"\"\n      }\n    },\n    {\n      \"column\": \"rank\",\n      \"properties\": {\n        \"dtype\": \"number\",\n        \"std\": 0,\n        \"min\": 0,\n        \"max\": 2,\n        \"num_unique_values\": 3,\n        \"samples\": [\n          0,\n          1,\n          2\n        ],\n        \"semantic_type\": \"\",\n        \"description\": \"\"\n      }\n    },\n    {\n      \"column\": \"score\",\n      \"properties\": {\n        \"dtype\": \"number\",\n        \"std\": 0.43023108279667677,\n        \"min\": 0.5042016806722689,\n        \"max\": 1.718462532942171,\n        \"num_unique_values\": 5,\n        \"samples\": [\n          0.6521739130434783,\n          1.0084033613445378,\n          0.5042016806722689\n        ],\n        \"semantic_type\": \"\",\n        \"description\": \"\"\n      }\n    },\n    {\n      \"column\": \"query\",\n      \"properties\": {\n        \"dtype\": \"category\",\n        \"num_unique_values\": 3,\n        \"samples\": [\n          \"articles\",\n          \"first article\",\n          \"unknown\"\n        ],\n        \"semantic_type\": \"\",\n        \"description\": \"\"\n      }\n    }\n  ]\n}"
            }
          },
          "metadata": {},
          "execution_count": 14
        }
      ],
      "source": [
        "queries = pd.DataFrame([[\"query1\", \"articles\"], [\"query2\", \"first article\"], [\"query3\", \"unknown\"]], columns=[\"qid\", \"query\"])\n",
        "br(queries)"
      ]
    },
    {
      "cell_type": "markdown",
      "source": [
        "## Loading a real dataset\n",
        "\n",
        "We'll now load a real dataset of COVID-19 related scientific articles (called CORD19) that is available as an example in PyTerrier"
      ],
      "metadata": {
        "id": "MboNLbOo27WC"
      },
      "id": "MboNLbOo27WC"
    },
    {
      "cell_type": "code",
      "source": [
        "cord19 = pt.datasets.get_dataset('irds:cord19/trec-covid')"
      ],
      "metadata": {
        "id": "u-7Vg8zw7B2Q"
      },
      "id": "u-7Vg8zw7B2Q",
      "execution_count": null,
      "outputs": []
    },
    {
      "cell_type": "markdown",
      "source": [
        "We just downloaded the data. Now we index and save the dataset.\n",
        "\n",
        "The CORD19 corpus contains articles about the COVID-19, we are going to retrieve only the abstract of these articles to compose our documents. The indexing will take a while to run since there are almost 200,000 articles."
      ],
      "metadata": {
        "id": "t5xjK0xq7CHG"
      },
      "id": "t5xjK0xq7CHG"
    },
    {
      "cell_type": "code",
      "source": [
        "def corpus_iterator():\n",
        "    for doc in cord19.get_corpus_iter():\n",
        "        yield {\n",
        "            'docno': doc['docno'],\n",
        "            'text': doc['abstract']  # <= map 'abstract' into 'text'\n",
        "        }\n",
        "\n",
        "pt_index_path = './terrier_cord19'\n",
        "\n",
        "indexer = pt.index.IterDictIndexer(\n",
        "    pt_index_path,\n",
        "    overwrite=True,\n",
        "    meta={'docno': 20}\n",
        ")\n",
        "\n",
        "index_ref = indexer.index(corpus_iterator())\n"
      ],
      "metadata": {
        "id": "x7b0vM0D7Cr5",
        "colab": {
          "base_uri": "https://localhost:8080/",
          "height": 656,
          "referenced_widgets": [
            "f2df197a5d244041a082cf95f5b8618f",
            "48a44796c6b94e019900c68833d1b6dc",
            "bd2548e61a624de795920ce1234ff24f",
            "49aaf6a46b3d4d909c3e65409137a7af",
            "ee5820656c6a45698ad8034d5fcf45a8",
            "9f78cc81a5f440ffa2d4b6830c4aeeb3",
            "82eff3dedf0a4f2a8ab223bd00148f5a",
            "56d12021ff4d418d9f20d24fecc55178",
            "2014706c8b7846a184c70ec72e5954be",
            "d112c3895f44426295cf36ebfb6e8410",
            "c063bc2205e244949bd682d275b689e7"
          ]
        },
        "outputId": "ffca5750-035f-4147-aa40-1a54a925fe7e"
      },
      "id": "x7b0vM0D7Cr5",
      "execution_count": null,
      "outputs": [
        {
          "output_type": "display_data",
          "data": {
            "text/plain": [
              "cord19/trec-covid documents:   0%|          | 0/192509 [00:00<?, ?it/s]"
            ],
            "application/vnd.jupyter.widget-view+json": {
              "version_major": 2,
              "version_minor": 0,
              "model_id": "f2df197a5d244041a082cf95f5b8618f"
            }
          },
          "metadata": {}
        },
        {
          "output_type": "stream",
          "name": "stdout",
          "text": [
            "20:29:04.591 [ForkJoinPool-2-worker-3] WARN org.terrier.structures.indexing.Indexer -- Adding an empty document to the index (6iu1dtyl) - further warnings are suppressed\n",
            "20:30:22.494 [ForkJoinPool-2-worker-3] ERROR org.terrier.structures.indexing.Indexer -- Could not finish MetaIndexBuilder: \n",
            "java.io.IOException: Key 8lqzfj2e is not unique: 37597,11755\n",
            "For MetaIndex, to suppress, set metaindex.compressed.reverse.allow.duplicates=true\n",
            "\tat org.terrier.structures.collections.FSOrderedMapFile$MultiFSOMapWriter.mergeTwo(FSOrderedMapFile.java:1374)\n",
            "\tat org.terrier.structures.collections.FSOrderedMapFile$MultiFSOMapWriter.close(FSOrderedMapFile.java:1308)\n",
            "\tat org.terrier.structures.indexing.BaseMetaIndexBuilder.close(BaseMetaIndexBuilder.java:321)\n",
            "\tat org.terrier.structures.indexing.classical.BasicIndexer.indexDocuments(BasicIndexer.java:270)\n",
            "\tat org.terrier.structures.indexing.classical.BasicIndexer.createDirectIndex(BasicIndexer.java:388)\n",
            "\tat org.terrier.structures.indexing.Indexer.index(Indexer.java:377)\n",
            "\tat org.terrier.python.ParallelIndexer$3.apply(ParallelIndexer.java:131)\n",
            "\tat org.terrier.python.ParallelIndexer$3.apply(ParallelIndexer.java:120)\n",
            "\tat java.base/java.util.stream.ReferencePipeline$3$1.accept(ReferencePipeline.java:195)\n",
            "\tat java.base/java.util.Spliterators$ArraySpliterator.forEachRemaining(Spliterators.java:948)\n",
            "\tat java.base/java.util.stream.AbstractPipeline.copyInto(AbstractPipeline.java:484)\n",
            "\tat java.base/java.util.stream.AbstractPipeline.wrapAndCopyInto(AbstractPipeline.java:474)\n",
            "\tat java.base/java.util.stream.ReduceOps$ReduceTask.doLeaf(ReduceOps.java:952)\n",
            "\tat java.base/java.util.stream.ReduceOps$ReduceTask.doLeaf(ReduceOps.java:926)\n",
            "\tat java.base/java.util.stream.AbstractTask.compute(AbstractTask.java:327)\n",
            "\tat java.base/java.util.concurrent.CountedCompleter.exec(CountedCompleter.java:746)\n",
            "\tat java.base/java.util.concurrent.ForkJoinTask.doExec(ForkJoinTask.java:290)\n",
            "\tat java.base/java.util.concurrent.ForkJoinTask.doInvoke(ForkJoinTask.java:408)\n",
            "\tat java.base/java.util.concurrent.ForkJoinTask.invoke(ForkJoinTask.java:736)\n",
            "\tat java.base/java.util.stream.ReduceOps$ReduceOp.evaluateParallel(ReduceOps.java:919)\n",
            "\tat java.base/java.util.stream.AbstractPipeline.evaluate(AbstractPipeline.java:233)\n",
            "\tat java.base/java.util.stream.ReferencePipeline.reduce(ReferencePipeline.java:558)\n",
            "\tat org.terrier.python.ParallelIndexer$4.call(ParallelIndexer.java:140)\n",
            "\tat org.terrier.python.ParallelIndexer$4.call(ParallelIndexer.java:137)\n",
            "\tat java.base/java.util.concurrent.ForkJoinTask$AdaptedCallable.exec(ForkJoinTask.java:1448)\n",
            "\tat java.base/java.util.concurrent.ForkJoinTask.doExec(ForkJoinTask.java:290)\n",
            "\tat java.base/java.util.concurrent.ForkJoinPool$WorkQueue.topLevelExec(ForkJoinPool.java:1020)\n",
            "\tat java.base/java.util.concurrent.ForkJoinPool.scan(ForkJoinPool.java:1656)\n",
            "\tat java.base/java.util.concurrent.ForkJoinPool.runWorker(ForkJoinPool.java:1594)\n",
            "\tat java.base/java.util.concurrent.ForkJoinWorkerThread.run(ForkJoinWorkerThread.java:183)\n",
            "20:30:29.467 [ForkJoinPool-2-worker-3] WARN org.terrier.structures.indexing.Indexer -- Indexed 54937 empty documents\n"
          ]
        }
      ]
    },
    {
      "cell_type": "markdown",
      "source": [
        "### Querying the index"
      ],
      "metadata": {
        "id": "fED8Z2iSscGz"
      },
      "id": "fED8Z2iSscGz"
    },
    {
      "cell_type": "markdown",
      "source": [
        "Now load the index and print the statistics:"
      ],
      "metadata": {
        "id": "fQVi-8qS7C6e"
      },
      "id": "fQVi-8qS7C6e"
    },
    {
      "cell_type": "code",
      "execution_count": null,
      "id": "2d04aa3d-3e2e-44e4-a59a-7e0a6f5dfa4b",
      "metadata": {
        "id": "2d04aa3d-3e2e-44e4-a59a-7e0a6f5dfa4b",
        "colab": {
          "base_uri": "https://localhost:8080/"
        },
        "outputId": "228562a5-72e9-4710-d3fe-688219dbed16"
      },
      "outputs": [
        {
          "output_type": "stream",
          "name": "stdout",
          "text": [
            "Number of documents: 192509\n",
            "Number of terms: 151235\n",
            "Number of postings: 11554033\n",
            "Number of fields: 0\n",
            "Number of tokens: 17728468\n",
            "Field names: []\n",
            "Positions:   false\n",
            "\n"
          ]
        }
      ],
      "source": [
        "index = pt.IndexFactory.of(index_ref)\n",
        "print(index.getCollectionStatistics().toString())"
      ]
    },
    {
      "cell_type": "markdown",
      "id": "84f85be8-e40b-4b2e-a31c-50ce45da17d2",
      "metadata": {
        "id": "84f85be8-e40b-4b2e-a31c-50ce45da17d2"
      },
      "source": [
        "Let's run a query:"
      ]
    },
    {
      "cell_type": "code",
      "execution_count": null,
      "id": "742f697a-024f-438e-bab8-e6d988566f8c",
      "metadata": {
        "id": "742f697a-024f-438e-bab8-e6d988566f8c",
        "colab": {
          "base_uri": "https://localhost:8080/",
          "height": 458
        },
        "outputId": "2515a657-ff67-4364-adbf-169af6455674"
      },
      "outputs": [
        {
          "output_type": "stream",
          "name": "stderr",
          "text": [
            "<ipython-input-27-b8001eb5c564>:3: DeprecationWarning: Call to deprecated class BatchRetrieve. (use pt.terrier.Retriever() instead) -- Deprecated since version 0.11.0.\n",
            "  tfidf = pt.BatchRetrieve(index, wmodel=\"TF_IDF\")\n"
          ]
        },
        {
          "output_type": "execute_result",
          "data": {
            "text/plain": [
              "    qid   docid     docno  rank      score               query\n",
              "0     1   18717  iavwkdpr     0  11.035982  chemical reactions\n",
              "1     1  171636  v3blnh02     1  10.329726  chemical reactions\n",
              "2     1  147193  ei4rb8fr     2  10.317138  chemical reactions\n",
              "3     1  121217  msdycum2     3   9.653734  chemical reactions\n",
              "4     1  170863  sj8i9ss2     4   9.500211  chemical reactions\n",
              "..   ..     ...       ...   ...        ...                 ...\n",
              "995   1    2428  38aabxh1   995   3.790183  chemical reactions\n",
              "996   1   14752  u709r8ss   996   3.790183  chemical reactions\n",
              "997   1   20074  wxi1xsbo   997   3.790183  chemical reactions\n",
              "998   1  117156  ts3obwts   998   3.790183  chemical reactions\n",
              "999   1  149517  6i3x49p8   999   3.790183  chemical reactions\n",
              "\n",
              "[1000 rows x 6 columns]"
            ],
            "text/html": [
              "\n",
              "  <div id=\"df-925b2f73-f0d8-48a9-8c4a-dd8f6458755f\" class=\"colab-df-container\">\n",
              "    <div>\n",
              "<style scoped>\n",
              "    .dataframe tbody tr th:only-of-type {\n",
              "        vertical-align: middle;\n",
              "    }\n",
              "\n",
              "    .dataframe tbody tr th {\n",
              "        vertical-align: top;\n",
              "    }\n",
              "\n",
              "    .dataframe thead th {\n",
              "        text-align: right;\n",
              "    }\n",
              "</style>\n",
              "<table border=\"1\" class=\"dataframe\">\n",
              "  <thead>\n",
              "    <tr style=\"text-align: right;\">\n",
              "      <th></th>\n",
              "      <th>qid</th>\n",
              "      <th>docid</th>\n",
              "      <th>docno</th>\n",
              "      <th>rank</th>\n",
              "      <th>score</th>\n",
              "      <th>query</th>\n",
              "    </tr>\n",
              "  </thead>\n",
              "  <tbody>\n",
              "    <tr>\n",
              "      <th>0</th>\n",
              "      <td>1</td>\n",
              "      <td>18717</td>\n",
              "      <td>iavwkdpr</td>\n",
              "      <td>0</td>\n",
              "      <td>11.035982</td>\n",
              "      <td>chemical reactions</td>\n",
              "    </tr>\n",
              "    <tr>\n",
              "      <th>1</th>\n",
              "      <td>1</td>\n",
              "      <td>171636</td>\n",
              "      <td>v3blnh02</td>\n",
              "      <td>1</td>\n",
              "      <td>10.329726</td>\n",
              "      <td>chemical reactions</td>\n",
              "    </tr>\n",
              "    <tr>\n",
              "      <th>2</th>\n",
              "      <td>1</td>\n",
              "      <td>147193</td>\n",
              "      <td>ei4rb8fr</td>\n",
              "      <td>2</td>\n",
              "      <td>10.317138</td>\n",
              "      <td>chemical reactions</td>\n",
              "    </tr>\n",
              "    <tr>\n",
              "      <th>3</th>\n",
              "      <td>1</td>\n",
              "      <td>121217</td>\n",
              "      <td>msdycum2</td>\n",
              "      <td>3</td>\n",
              "      <td>9.653734</td>\n",
              "      <td>chemical reactions</td>\n",
              "    </tr>\n",
              "    <tr>\n",
              "      <th>4</th>\n",
              "      <td>1</td>\n",
              "      <td>170863</td>\n",
              "      <td>sj8i9ss2</td>\n",
              "      <td>4</td>\n",
              "      <td>9.500211</td>\n",
              "      <td>chemical reactions</td>\n",
              "    </tr>\n",
              "    <tr>\n",
              "      <th>...</th>\n",
              "      <td>...</td>\n",
              "      <td>...</td>\n",
              "      <td>...</td>\n",
              "      <td>...</td>\n",
              "      <td>...</td>\n",
              "      <td>...</td>\n",
              "    </tr>\n",
              "    <tr>\n",
              "      <th>995</th>\n",
              "      <td>1</td>\n",
              "      <td>2428</td>\n",
              "      <td>38aabxh1</td>\n",
              "      <td>995</td>\n",
              "      <td>3.790183</td>\n",
              "      <td>chemical reactions</td>\n",
              "    </tr>\n",
              "    <tr>\n",
              "      <th>996</th>\n",
              "      <td>1</td>\n",
              "      <td>14752</td>\n",
              "      <td>u709r8ss</td>\n",
              "      <td>996</td>\n",
              "      <td>3.790183</td>\n",
              "      <td>chemical reactions</td>\n",
              "    </tr>\n",
              "    <tr>\n",
              "      <th>997</th>\n",
              "      <td>1</td>\n",
              "      <td>20074</td>\n",
              "      <td>wxi1xsbo</td>\n",
              "      <td>997</td>\n",
              "      <td>3.790183</td>\n",
              "      <td>chemical reactions</td>\n",
              "    </tr>\n",
              "    <tr>\n",
              "      <th>998</th>\n",
              "      <td>1</td>\n",
              "      <td>117156</td>\n",
              "      <td>ts3obwts</td>\n",
              "      <td>998</td>\n",
              "      <td>3.790183</td>\n",
              "      <td>chemical reactions</td>\n",
              "    </tr>\n",
              "    <tr>\n",
              "      <th>999</th>\n",
              "      <td>1</td>\n",
              "      <td>149517</td>\n",
              "      <td>6i3x49p8</td>\n",
              "      <td>999</td>\n",
              "      <td>3.790183</td>\n",
              "      <td>chemical reactions</td>\n",
              "    </tr>\n",
              "  </tbody>\n",
              "</table>\n",
              "<p>1000 rows × 6 columns</p>\n",
              "</div>\n",
              "    <div class=\"colab-df-buttons\">\n",
              "\n",
              "  <div class=\"colab-df-container\">\n",
              "    <button class=\"colab-df-convert\" onclick=\"convertToInteractive('df-925b2f73-f0d8-48a9-8c4a-dd8f6458755f')\"\n",
              "            title=\"Convert this dataframe to an interactive table.\"\n",
              "            style=\"display:none;\">\n",
              "\n",
              "  <svg xmlns=\"http://www.w3.org/2000/svg\" height=\"24px\" viewBox=\"0 -960 960 960\">\n",
              "    <path d=\"M120-120v-720h720v720H120Zm60-500h600v-160H180v160Zm220 220h160v-160H400v160Zm0 220h160v-160H400v160ZM180-400h160v-160H180v160Zm440 0h160v-160H620v160ZM180-180h160v-160H180v160Zm440 0h160v-160H620v160Z\"/>\n",
              "  </svg>\n",
              "    </button>\n",
              "\n",
              "  <style>\n",
              "    .colab-df-container {\n",
              "      display:flex;\n",
              "      gap: 12px;\n",
              "    }\n",
              "\n",
              "    .colab-df-convert {\n",
              "      background-color: #E8F0FE;\n",
              "      border: none;\n",
              "      border-radius: 50%;\n",
              "      cursor: pointer;\n",
              "      display: none;\n",
              "      fill: #1967D2;\n",
              "      height: 32px;\n",
              "      padding: 0 0 0 0;\n",
              "      width: 32px;\n",
              "    }\n",
              "\n",
              "    .colab-df-convert:hover {\n",
              "      background-color: #E2EBFA;\n",
              "      box-shadow: 0px 1px 2px rgba(60, 64, 67, 0.3), 0px 1px 3px 1px rgba(60, 64, 67, 0.15);\n",
              "      fill: #174EA6;\n",
              "    }\n",
              "\n",
              "    .colab-df-buttons div {\n",
              "      margin-bottom: 4px;\n",
              "    }\n",
              "\n",
              "    [theme=dark] .colab-df-convert {\n",
              "      background-color: #3B4455;\n",
              "      fill: #D2E3FC;\n",
              "    }\n",
              "\n",
              "    [theme=dark] .colab-df-convert:hover {\n",
              "      background-color: #434B5C;\n",
              "      box-shadow: 0px 1px 3px 1px rgba(0, 0, 0, 0.15);\n",
              "      filter: drop-shadow(0px 1px 2px rgba(0, 0, 0, 0.3));\n",
              "      fill: #FFFFFF;\n",
              "    }\n",
              "  </style>\n",
              "\n",
              "    <script>\n",
              "      const buttonEl =\n",
              "        document.querySelector('#df-925b2f73-f0d8-48a9-8c4a-dd8f6458755f button.colab-df-convert');\n",
              "      buttonEl.style.display =\n",
              "        google.colab.kernel.accessAllowed ? 'block' : 'none';\n",
              "\n",
              "      async function convertToInteractive(key) {\n",
              "        const element = document.querySelector('#df-925b2f73-f0d8-48a9-8c4a-dd8f6458755f');\n",
              "        const dataTable =\n",
              "          await google.colab.kernel.invokeFunction('convertToInteractive',\n",
              "                                                    [key], {});\n",
              "        if (!dataTable) return;\n",
              "\n",
              "        const docLinkHtml = 'Like what you see? Visit the ' +\n",
              "          '<a target=\"_blank\" href=https://colab.research.google.com/notebooks/data_table.ipynb>data table notebook</a>'\n",
              "          + ' to learn more about interactive tables.';\n",
              "        element.innerHTML = '';\n",
              "        dataTable['output_type'] = 'display_data';\n",
              "        await google.colab.output.renderOutput(dataTable, element);\n",
              "        const docLink = document.createElement('div');\n",
              "        docLink.innerHTML = docLinkHtml;\n",
              "        element.appendChild(docLink);\n",
              "      }\n",
              "    </script>\n",
              "  </div>\n",
              "\n",
              "\n",
              "    <div id=\"df-2a121bd1-c97a-4b88-b9d0-fcb54112b8c6\">\n",
              "      <button class=\"colab-df-quickchart\" onclick=\"quickchart('df-2a121bd1-c97a-4b88-b9d0-fcb54112b8c6')\"\n",
              "                title=\"Suggest charts\"\n",
              "                style=\"display:none;\">\n",
              "\n",
              "<svg xmlns=\"http://www.w3.org/2000/svg\" height=\"24px\"viewBox=\"0 0 24 24\"\n",
              "     width=\"24px\">\n",
              "    <g>\n",
              "        <path d=\"M19 3H5c-1.1 0-2 .9-2 2v14c0 1.1.9 2 2 2h14c1.1 0 2-.9 2-2V5c0-1.1-.9-2-2-2zM9 17H7v-7h2v7zm4 0h-2V7h2v10zm4 0h-2v-4h2v4z\"/>\n",
              "    </g>\n",
              "</svg>\n",
              "      </button>\n",
              "\n",
              "<style>\n",
              "  .colab-df-quickchart {\n",
              "      --bg-color: #E8F0FE;\n",
              "      --fill-color: #1967D2;\n",
              "      --hover-bg-color: #E2EBFA;\n",
              "      --hover-fill-color: #174EA6;\n",
              "      --disabled-fill-color: #AAA;\n",
              "      --disabled-bg-color: #DDD;\n",
              "  }\n",
              "\n",
              "  [theme=dark] .colab-df-quickchart {\n",
              "      --bg-color: #3B4455;\n",
              "      --fill-color: #D2E3FC;\n",
              "      --hover-bg-color: #434B5C;\n",
              "      --hover-fill-color: #FFFFFF;\n",
              "      --disabled-bg-color: #3B4455;\n",
              "      --disabled-fill-color: #666;\n",
              "  }\n",
              "\n",
              "  .colab-df-quickchart {\n",
              "    background-color: var(--bg-color);\n",
              "    border: none;\n",
              "    border-radius: 50%;\n",
              "    cursor: pointer;\n",
              "    display: none;\n",
              "    fill: var(--fill-color);\n",
              "    height: 32px;\n",
              "    padding: 0;\n",
              "    width: 32px;\n",
              "  }\n",
              "\n",
              "  .colab-df-quickchart:hover {\n",
              "    background-color: var(--hover-bg-color);\n",
              "    box-shadow: 0 1px 2px rgba(60, 64, 67, 0.3), 0 1px 3px 1px rgba(60, 64, 67, 0.15);\n",
              "    fill: var(--button-hover-fill-color);\n",
              "  }\n",
              "\n",
              "  .colab-df-quickchart-complete:disabled,\n",
              "  .colab-df-quickchart-complete:disabled:hover {\n",
              "    background-color: var(--disabled-bg-color);\n",
              "    fill: var(--disabled-fill-color);\n",
              "    box-shadow: none;\n",
              "  }\n",
              "\n",
              "  .colab-df-spinner {\n",
              "    border: 2px solid var(--fill-color);\n",
              "    border-color: transparent;\n",
              "    border-bottom-color: var(--fill-color);\n",
              "    animation:\n",
              "      spin 1s steps(1) infinite;\n",
              "  }\n",
              "\n",
              "  @keyframes spin {\n",
              "    0% {\n",
              "      border-color: transparent;\n",
              "      border-bottom-color: var(--fill-color);\n",
              "      border-left-color: var(--fill-color);\n",
              "    }\n",
              "    20% {\n",
              "      border-color: transparent;\n",
              "      border-left-color: var(--fill-color);\n",
              "      border-top-color: var(--fill-color);\n",
              "    }\n",
              "    30% {\n",
              "      border-color: transparent;\n",
              "      border-left-color: var(--fill-color);\n",
              "      border-top-color: var(--fill-color);\n",
              "      border-right-color: var(--fill-color);\n",
              "    }\n",
              "    40% {\n",
              "      border-color: transparent;\n",
              "      border-right-color: var(--fill-color);\n",
              "      border-top-color: var(--fill-color);\n",
              "    }\n",
              "    60% {\n",
              "      border-color: transparent;\n",
              "      border-right-color: var(--fill-color);\n",
              "    }\n",
              "    80% {\n",
              "      border-color: transparent;\n",
              "      border-right-color: var(--fill-color);\n",
              "      border-bottom-color: var(--fill-color);\n",
              "    }\n",
              "    90% {\n",
              "      border-color: transparent;\n",
              "      border-bottom-color: var(--fill-color);\n",
              "    }\n",
              "  }\n",
              "</style>\n",
              "\n",
              "      <script>\n",
              "        async function quickchart(key) {\n",
              "          const quickchartButtonEl =\n",
              "            document.querySelector('#' + key + ' button');\n",
              "          quickchartButtonEl.disabled = true;  // To prevent multiple clicks.\n",
              "          quickchartButtonEl.classList.add('colab-df-spinner');\n",
              "          try {\n",
              "            const charts = await google.colab.kernel.invokeFunction(\n",
              "                'suggestCharts', [key], {});\n",
              "          } catch (error) {\n",
              "            console.error('Error during call to suggestCharts:', error);\n",
              "          }\n",
              "          quickchartButtonEl.classList.remove('colab-df-spinner');\n",
              "          quickchartButtonEl.classList.add('colab-df-quickchart-complete');\n",
              "        }\n",
              "        (() => {\n",
              "          let quickchartButtonEl =\n",
              "            document.querySelector('#df-2a121bd1-c97a-4b88-b9d0-fcb54112b8c6 button');\n",
              "          quickchartButtonEl.style.display =\n",
              "            google.colab.kernel.accessAllowed ? 'block' : 'none';\n",
              "        })();\n",
              "      </script>\n",
              "    </div>\n",
              "\n",
              "    </div>\n",
              "  </div>\n"
            ],
            "application/vnd.google.colaboratory.intrinsic+json": {
              "type": "dataframe",
              "summary": "{\n  \"name\": \"tfidf\",\n  \"rows\": 1000,\n  \"fields\": [\n    {\n      \"column\": \"qid\",\n      \"properties\": {\n        \"dtype\": \"category\",\n        \"num_unique_values\": 1,\n        \"samples\": [\n          \"1\"\n        ],\n        \"semantic_type\": \"\",\n        \"description\": \"\"\n      }\n    },\n    {\n      \"column\": \"docid\",\n      \"properties\": {\n        \"dtype\": \"number\",\n        \"std\": 62244,\n        \"min\": 45,\n        \"max\": 192377,\n        \"num_unique_values\": 1000,\n        \"samples\": [\n          27711\n        ],\n        \"semantic_type\": \"\",\n        \"description\": \"\"\n      }\n    },\n    {\n      \"column\": \"docno\",\n      \"properties\": {\n        \"dtype\": \"string\",\n        \"num_unique_values\": 998,\n        \"samples\": [\n          \"qyu0cbrg\"\n        ],\n        \"semantic_type\": \"\",\n        \"description\": \"\"\n      }\n    },\n    {\n      \"column\": \"rank\",\n      \"properties\": {\n        \"dtype\": \"number\",\n        \"std\": 288,\n        \"min\": 0,\n        \"max\": 999,\n        \"num_unique_values\": 1000,\n        \"samples\": [\n          521\n        ],\n        \"semantic_type\": \"\",\n        \"description\": \"\"\n      }\n    },\n    {\n      \"column\": \"score\",\n      \"properties\": {\n        \"dtype\": \"number\",\n        \"std\": 0.9894651339837411,\n        \"min\": 3.7901826035693373,\n        \"max\": 11.035981941135718,\n        \"num_unique_values\": 569,\n        \"samples\": [\n          5.123390114089562\n        ],\n        \"semantic_type\": \"\",\n        \"description\": \"\"\n      }\n    },\n    {\n      \"column\": \"query\",\n      \"properties\": {\n        \"dtype\": \"category\",\n        \"num_unique_values\": 1,\n        \"samples\": [\n          \"chemical reactions\"\n        ],\n        \"semantic_type\": \"\",\n        \"description\": \"\"\n      }\n    }\n  ]\n}"
            }
          },
          "metadata": {},
          "execution_count": 27
        }
      ],
      "source": [
        "query = \"chemical reactions\"\n",
        "\n",
        "tfidf = pt.BatchRetrieve(index, wmodel=\"TF_IDF\")\n",
        "tfidf.search(query)"
      ]
    },
    {
      "cell_type": "markdown",
      "source": [
        "Instead of ranking documents by their TF-IDF score, we could also use the BM25 score which is known to produce high quality search results."
      ],
      "metadata": {
        "id": "w6z7x4NjCpat"
      },
      "id": "w6z7x4NjCpat"
    },
    {
      "cell_type": "code",
      "source": [
        "query = \"chemical reactions\"\n",
        "\n",
        "bm25 = pt.BatchRetrieve(index, wmodel=\"BM25\")\n",
        "bm25.search(query)"
      ],
      "metadata": {
        "id": "RNuhtol_DAI8",
        "colab": {
          "base_uri": "https://localhost:8080/",
          "height": 458
        },
        "outputId": "ed6bec0f-169a-4a0f-a49b-851bb1efee08"
      },
      "id": "RNuhtol_DAI8",
      "execution_count": null,
      "outputs": [
        {
          "output_type": "stream",
          "name": "stderr",
          "text": [
            "<ipython-input-28-783309414b14>:3: DeprecationWarning: Call to deprecated class BatchRetrieve. (use pt.terrier.Retriever() instead) -- Deprecated since version 0.11.0.\n",
            "  bm25 = pt.BatchRetrieve(index, wmodel=\"BM25\")\n"
          ]
        },
        {
          "output_type": "execute_result",
          "data": {
            "text/plain": [
              "    qid   docid     docno  rank      score               query\n",
              "0     1   18717  iavwkdpr     0  20.011607  chemical reactions\n",
              "1     1  171636  v3blnh02     1  18.723538  chemical reactions\n",
              "2     1  147193  ei4rb8fr     2  18.700723  chemical reactions\n",
              "3     1  121217  msdycum2     3  17.498245  chemical reactions\n",
              "4     1  170863  sj8i9ss2     4  17.228355  chemical reactions\n",
              "..   ..     ...       ...   ...        ...                 ...\n",
              "995   1   88455  cuvqym6y   995   6.855393  chemical reactions\n",
              "996   1  137287  8kfjw8ai   996   6.855393  chemical reactions\n",
              "997   1  140078  kebvzeg4   997   6.855393  chemical reactions\n",
              "998   1  148411  hhcfrjrn   998   6.855393  chemical reactions\n",
              "999   1  162351  4szi4vyd   999   6.855393  chemical reactions\n",
              "\n",
              "[1000 rows x 6 columns]"
            ],
            "text/html": [
              "\n",
              "  <div id=\"df-3b0b7465-3efa-4fa9-8128-19bd21a1efbc\" class=\"colab-df-container\">\n",
              "    <div>\n",
              "<style scoped>\n",
              "    .dataframe tbody tr th:only-of-type {\n",
              "        vertical-align: middle;\n",
              "    }\n",
              "\n",
              "    .dataframe tbody tr th {\n",
              "        vertical-align: top;\n",
              "    }\n",
              "\n",
              "    .dataframe thead th {\n",
              "        text-align: right;\n",
              "    }\n",
              "</style>\n",
              "<table border=\"1\" class=\"dataframe\">\n",
              "  <thead>\n",
              "    <tr style=\"text-align: right;\">\n",
              "      <th></th>\n",
              "      <th>qid</th>\n",
              "      <th>docid</th>\n",
              "      <th>docno</th>\n",
              "      <th>rank</th>\n",
              "      <th>score</th>\n",
              "      <th>query</th>\n",
              "    </tr>\n",
              "  </thead>\n",
              "  <tbody>\n",
              "    <tr>\n",
              "      <th>0</th>\n",
              "      <td>1</td>\n",
              "      <td>18717</td>\n",
              "      <td>iavwkdpr</td>\n",
              "      <td>0</td>\n",
              "      <td>20.011607</td>\n",
              "      <td>chemical reactions</td>\n",
              "    </tr>\n",
              "    <tr>\n",
              "      <th>1</th>\n",
              "      <td>1</td>\n",
              "      <td>171636</td>\n",
              "      <td>v3blnh02</td>\n",
              "      <td>1</td>\n",
              "      <td>18.723538</td>\n",
              "      <td>chemical reactions</td>\n",
              "    </tr>\n",
              "    <tr>\n",
              "      <th>2</th>\n",
              "      <td>1</td>\n",
              "      <td>147193</td>\n",
              "      <td>ei4rb8fr</td>\n",
              "      <td>2</td>\n",
              "      <td>18.700723</td>\n",
              "      <td>chemical reactions</td>\n",
              "    </tr>\n",
              "    <tr>\n",
              "      <th>3</th>\n",
              "      <td>1</td>\n",
              "      <td>121217</td>\n",
              "      <td>msdycum2</td>\n",
              "      <td>3</td>\n",
              "      <td>17.498245</td>\n",
              "      <td>chemical reactions</td>\n",
              "    </tr>\n",
              "    <tr>\n",
              "      <th>4</th>\n",
              "      <td>1</td>\n",
              "      <td>170863</td>\n",
              "      <td>sj8i9ss2</td>\n",
              "      <td>4</td>\n",
              "      <td>17.228355</td>\n",
              "      <td>chemical reactions</td>\n",
              "    </tr>\n",
              "    <tr>\n",
              "      <th>...</th>\n",
              "      <td>...</td>\n",
              "      <td>...</td>\n",
              "      <td>...</td>\n",
              "      <td>...</td>\n",
              "      <td>...</td>\n",
              "      <td>...</td>\n",
              "    </tr>\n",
              "    <tr>\n",
              "      <th>995</th>\n",
              "      <td>1</td>\n",
              "      <td>88455</td>\n",
              "      <td>cuvqym6y</td>\n",
              "      <td>995</td>\n",
              "      <td>6.855393</td>\n",
              "      <td>chemical reactions</td>\n",
              "    </tr>\n",
              "    <tr>\n",
              "      <th>996</th>\n",
              "      <td>1</td>\n",
              "      <td>137287</td>\n",
              "      <td>8kfjw8ai</td>\n",
              "      <td>996</td>\n",
              "      <td>6.855393</td>\n",
              "      <td>chemical reactions</td>\n",
              "    </tr>\n",
              "    <tr>\n",
              "      <th>997</th>\n",
              "      <td>1</td>\n",
              "      <td>140078</td>\n",
              "      <td>kebvzeg4</td>\n",
              "      <td>997</td>\n",
              "      <td>6.855393</td>\n",
              "      <td>chemical reactions</td>\n",
              "    </tr>\n",
              "    <tr>\n",
              "      <th>998</th>\n",
              "      <td>1</td>\n",
              "      <td>148411</td>\n",
              "      <td>hhcfrjrn</td>\n",
              "      <td>998</td>\n",
              "      <td>6.855393</td>\n",
              "      <td>chemical reactions</td>\n",
              "    </tr>\n",
              "    <tr>\n",
              "      <th>999</th>\n",
              "      <td>1</td>\n",
              "      <td>162351</td>\n",
              "      <td>4szi4vyd</td>\n",
              "      <td>999</td>\n",
              "      <td>6.855393</td>\n",
              "      <td>chemical reactions</td>\n",
              "    </tr>\n",
              "  </tbody>\n",
              "</table>\n",
              "<p>1000 rows × 6 columns</p>\n",
              "</div>\n",
              "    <div class=\"colab-df-buttons\">\n",
              "\n",
              "  <div class=\"colab-df-container\">\n",
              "    <button class=\"colab-df-convert\" onclick=\"convertToInteractive('df-3b0b7465-3efa-4fa9-8128-19bd21a1efbc')\"\n",
              "            title=\"Convert this dataframe to an interactive table.\"\n",
              "            style=\"display:none;\">\n",
              "\n",
              "  <svg xmlns=\"http://www.w3.org/2000/svg\" height=\"24px\" viewBox=\"0 -960 960 960\">\n",
              "    <path d=\"M120-120v-720h720v720H120Zm60-500h600v-160H180v160Zm220 220h160v-160H400v160Zm0 220h160v-160H400v160ZM180-400h160v-160H180v160Zm440 0h160v-160H620v160ZM180-180h160v-160H180v160Zm440 0h160v-160H620v160Z\"/>\n",
              "  </svg>\n",
              "    </button>\n",
              "\n",
              "  <style>\n",
              "    .colab-df-container {\n",
              "      display:flex;\n",
              "      gap: 12px;\n",
              "    }\n",
              "\n",
              "    .colab-df-convert {\n",
              "      background-color: #E8F0FE;\n",
              "      border: none;\n",
              "      border-radius: 50%;\n",
              "      cursor: pointer;\n",
              "      display: none;\n",
              "      fill: #1967D2;\n",
              "      height: 32px;\n",
              "      padding: 0 0 0 0;\n",
              "      width: 32px;\n",
              "    }\n",
              "\n",
              "    .colab-df-convert:hover {\n",
              "      background-color: #E2EBFA;\n",
              "      box-shadow: 0px 1px 2px rgba(60, 64, 67, 0.3), 0px 1px 3px 1px rgba(60, 64, 67, 0.15);\n",
              "      fill: #174EA6;\n",
              "    }\n",
              "\n",
              "    .colab-df-buttons div {\n",
              "      margin-bottom: 4px;\n",
              "    }\n",
              "\n",
              "    [theme=dark] .colab-df-convert {\n",
              "      background-color: #3B4455;\n",
              "      fill: #D2E3FC;\n",
              "    }\n",
              "\n",
              "    [theme=dark] .colab-df-convert:hover {\n",
              "      background-color: #434B5C;\n",
              "      box-shadow: 0px 1px 3px 1px rgba(0, 0, 0, 0.15);\n",
              "      filter: drop-shadow(0px 1px 2px rgba(0, 0, 0, 0.3));\n",
              "      fill: #FFFFFF;\n",
              "    }\n",
              "  </style>\n",
              "\n",
              "    <script>\n",
              "      const buttonEl =\n",
              "        document.querySelector('#df-3b0b7465-3efa-4fa9-8128-19bd21a1efbc button.colab-df-convert');\n",
              "      buttonEl.style.display =\n",
              "        google.colab.kernel.accessAllowed ? 'block' : 'none';\n",
              "\n",
              "      async function convertToInteractive(key) {\n",
              "        const element = document.querySelector('#df-3b0b7465-3efa-4fa9-8128-19bd21a1efbc');\n",
              "        const dataTable =\n",
              "          await google.colab.kernel.invokeFunction('convertToInteractive',\n",
              "                                                    [key], {});\n",
              "        if (!dataTable) return;\n",
              "\n",
              "        const docLinkHtml = 'Like what you see? Visit the ' +\n",
              "          '<a target=\"_blank\" href=https://colab.research.google.com/notebooks/data_table.ipynb>data table notebook</a>'\n",
              "          + ' to learn more about interactive tables.';\n",
              "        element.innerHTML = '';\n",
              "        dataTable['output_type'] = 'display_data';\n",
              "        await google.colab.output.renderOutput(dataTable, element);\n",
              "        const docLink = document.createElement('div');\n",
              "        docLink.innerHTML = docLinkHtml;\n",
              "        element.appendChild(docLink);\n",
              "      }\n",
              "    </script>\n",
              "  </div>\n",
              "\n",
              "\n",
              "    <div id=\"df-b7711bdd-a776-48d3-9225-98ac08d842d6\">\n",
              "      <button class=\"colab-df-quickchart\" onclick=\"quickchart('df-b7711bdd-a776-48d3-9225-98ac08d842d6')\"\n",
              "                title=\"Suggest charts\"\n",
              "                style=\"display:none;\">\n",
              "\n",
              "<svg xmlns=\"http://www.w3.org/2000/svg\" height=\"24px\"viewBox=\"0 0 24 24\"\n",
              "     width=\"24px\">\n",
              "    <g>\n",
              "        <path d=\"M19 3H5c-1.1 0-2 .9-2 2v14c0 1.1.9 2 2 2h14c1.1 0 2-.9 2-2V5c0-1.1-.9-2-2-2zM9 17H7v-7h2v7zm4 0h-2V7h2v10zm4 0h-2v-4h2v4z\"/>\n",
              "    </g>\n",
              "</svg>\n",
              "      </button>\n",
              "\n",
              "<style>\n",
              "  .colab-df-quickchart {\n",
              "      --bg-color: #E8F0FE;\n",
              "      --fill-color: #1967D2;\n",
              "      --hover-bg-color: #E2EBFA;\n",
              "      --hover-fill-color: #174EA6;\n",
              "      --disabled-fill-color: #AAA;\n",
              "      --disabled-bg-color: #DDD;\n",
              "  }\n",
              "\n",
              "  [theme=dark] .colab-df-quickchart {\n",
              "      --bg-color: #3B4455;\n",
              "      --fill-color: #D2E3FC;\n",
              "      --hover-bg-color: #434B5C;\n",
              "      --hover-fill-color: #FFFFFF;\n",
              "      --disabled-bg-color: #3B4455;\n",
              "      --disabled-fill-color: #666;\n",
              "  }\n",
              "\n",
              "  .colab-df-quickchart {\n",
              "    background-color: var(--bg-color);\n",
              "    border: none;\n",
              "    border-radius: 50%;\n",
              "    cursor: pointer;\n",
              "    display: none;\n",
              "    fill: var(--fill-color);\n",
              "    height: 32px;\n",
              "    padding: 0;\n",
              "    width: 32px;\n",
              "  }\n",
              "\n",
              "  .colab-df-quickchart:hover {\n",
              "    background-color: var(--hover-bg-color);\n",
              "    box-shadow: 0 1px 2px rgba(60, 64, 67, 0.3), 0 1px 3px 1px rgba(60, 64, 67, 0.15);\n",
              "    fill: var(--button-hover-fill-color);\n",
              "  }\n",
              "\n",
              "  .colab-df-quickchart-complete:disabled,\n",
              "  .colab-df-quickchart-complete:disabled:hover {\n",
              "    background-color: var(--disabled-bg-color);\n",
              "    fill: var(--disabled-fill-color);\n",
              "    box-shadow: none;\n",
              "  }\n",
              "\n",
              "  .colab-df-spinner {\n",
              "    border: 2px solid var(--fill-color);\n",
              "    border-color: transparent;\n",
              "    border-bottom-color: var(--fill-color);\n",
              "    animation:\n",
              "      spin 1s steps(1) infinite;\n",
              "  }\n",
              "\n",
              "  @keyframes spin {\n",
              "    0% {\n",
              "      border-color: transparent;\n",
              "      border-bottom-color: var(--fill-color);\n",
              "      border-left-color: var(--fill-color);\n",
              "    }\n",
              "    20% {\n",
              "      border-color: transparent;\n",
              "      border-left-color: var(--fill-color);\n",
              "      border-top-color: var(--fill-color);\n",
              "    }\n",
              "    30% {\n",
              "      border-color: transparent;\n",
              "      border-left-color: var(--fill-color);\n",
              "      border-top-color: var(--fill-color);\n",
              "      border-right-color: var(--fill-color);\n",
              "    }\n",
              "    40% {\n",
              "      border-color: transparent;\n",
              "      border-right-color: var(--fill-color);\n",
              "      border-top-color: var(--fill-color);\n",
              "    }\n",
              "    60% {\n",
              "      border-color: transparent;\n",
              "      border-right-color: var(--fill-color);\n",
              "    }\n",
              "    80% {\n",
              "      border-color: transparent;\n",
              "      border-right-color: var(--fill-color);\n",
              "      border-bottom-color: var(--fill-color);\n",
              "    }\n",
              "    90% {\n",
              "      border-color: transparent;\n",
              "      border-bottom-color: var(--fill-color);\n",
              "    }\n",
              "  }\n",
              "</style>\n",
              "\n",
              "      <script>\n",
              "        async function quickchart(key) {\n",
              "          const quickchartButtonEl =\n",
              "            document.querySelector('#' + key + ' button');\n",
              "          quickchartButtonEl.disabled = true;  // To prevent multiple clicks.\n",
              "          quickchartButtonEl.classList.add('colab-df-spinner');\n",
              "          try {\n",
              "            const charts = await google.colab.kernel.invokeFunction(\n",
              "                'suggestCharts', [key], {});\n",
              "          } catch (error) {\n",
              "            console.error('Error during call to suggestCharts:', error);\n",
              "          }\n",
              "          quickchartButtonEl.classList.remove('colab-df-spinner');\n",
              "          quickchartButtonEl.classList.add('colab-df-quickchart-complete');\n",
              "        }\n",
              "        (() => {\n",
              "          let quickchartButtonEl =\n",
              "            document.querySelector('#df-b7711bdd-a776-48d3-9225-98ac08d842d6 button');\n",
              "          quickchartButtonEl.style.display =\n",
              "            google.colab.kernel.accessAllowed ? 'block' : 'none';\n",
              "        })();\n",
              "      </script>\n",
              "    </div>\n",
              "\n",
              "    </div>\n",
              "  </div>\n"
            ],
            "application/vnd.google.colaboratory.intrinsic+json": {
              "type": "dataframe",
              "summary": "{\n  \"name\": \"bm25\",\n  \"rows\": 1000,\n  \"fields\": [\n    {\n      \"column\": \"qid\",\n      \"properties\": {\n        \"dtype\": \"category\",\n        \"num_unique_values\": 1,\n        \"samples\": [\n          \"1\"\n        ],\n        \"semantic_type\": \"\",\n        \"description\": \"\"\n      }\n    },\n    {\n      \"column\": \"docid\",\n      \"properties\": {\n        \"dtype\": \"number\",\n        \"std\": 62170,\n        \"min\": 45,\n        \"max\": 192377,\n        \"num_unique_values\": 1000,\n        \"samples\": [\n          35863\n        ],\n        \"semantic_type\": \"\",\n        \"description\": \"\"\n      }\n    },\n    {\n      \"column\": \"docno\",\n      \"properties\": {\n        \"dtype\": \"string\",\n        \"num_unique_values\": 998,\n        \"samples\": [\n          \"l8bj9twb\"\n        ],\n        \"semantic_type\": \"\",\n        \"description\": \"\"\n      }\n    },\n    {\n      \"column\": \"rank\",\n      \"properties\": {\n        \"dtype\": \"number\",\n        \"std\": 288,\n        \"min\": 0,\n        \"max\": 999,\n        \"num_unique_values\": 1000,\n        \"samples\": [\n          521\n        ],\n        \"semantic_type\": \"\",\n        \"description\": \"\"\n      }\n    },\n    {\n      \"column\": \"score\",\n      \"properties\": {\n        \"dtype\": \"number\",\n        \"std\": 1.800727137088103,\n        \"min\": 6.855392660843723,\n        \"max\": 20.011607480951294,\n        \"num_unique_values\": 564,\n        \"samples\": [\n          6.981625214071683\n        ],\n        \"semantic_type\": \"\",\n        \"description\": \"\"\n      }\n    },\n    {\n      \"column\": \"query\",\n      \"properties\": {\n        \"dtype\": \"category\",\n        \"num_unique_values\": 1,\n        \"samples\": [\n          \"chemical reactions\"\n        ],\n        \"semantic_type\": \"\",\n        \"description\": \"\"\n      }\n    }\n  ]\n}"
            }
          },
          "metadata": {},
          "execution_count": 28
        }
      ]
    },
    {
      "cell_type": "markdown",
      "source": [
        "Note that the first 5 documents in the ranking are the same as they were for TF-IDF."
      ],
      "metadata": {
        "id": "Ea6siv1-DNMN"
      },
      "id": "Ea6siv1-DNMN"
    },
    {
      "cell_type": "markdown",
      "id": "0275cc8d-054e-40a5-b7ec-144221278d27",
      "metadata": {
        "id": "0275cc8d-054e-40a5-b7ec-144221278d27"
      },
      "source": [
        "### Evaluating retrieval\n",
        "\n",
        "So far, we have been creating search engine models, but we haven't decided if any of them are actually any good. In order to determine how good a ranking is, we need annotations telling us which documents are actually relevant for a particular query.\n",
        "\n",
        "The CORD19 dataset contains set of queries and relevance assessments (aka qrels)for this purpose.\n",
        "\n",
        "For historical reasons, the queries are called \"topics\". Let's have a look at the first 10 queries:"
      ]
    },
    {
      "cell_type": "code",
      "execution_count": null,
      "id": "db23212b-0aae-496b-81e5-0b7ed7d83fcc",
      "metadata": {
        "id": "db23212b-0aae-496b-81e5-0b7ed7d83fcc",
        "colab": {
          "base_uri": "https://localhost:8080/",
          "height": 398
        },
        "outputId": "8906c29c-69f4-4dba-b773-a08781570ec1"
      },
      "outputs": [
        {
          "output_type": "stream",
          "name": "stderr",
          "text": [
            "[INFO] [starting] https://ir.nist.gov/covidSubmit/data/topics-rnd5.xml\n",
            "[INFO] [finished] https://ir.nist.gov/covidSubmit/data/topics-rnd5.xml: [00:00] [18.7kB] [30.6MB/s]\n"
          ]
        },
        {
          "output_type": "execute_result",
          "data": {
            "text/plain": [
              "  qid                                    query\n",
              "0   1                       coronavirus origin\n",
              "1   2  coronavirus response to weather changes\n",
              "2   3                     coronavirus immunity\n",
              "3   4   how do people die from the coronavirus\n",
              "4   5                animal models of covid 19\n",
              "5   6           coronavirus test rapid testing\n",
              "6   7        serological tests for coronavirus\n",
              "7   8              coronavirus under reporting\n",
              "8   9                    coronavirus in canada\n",
              "9  10     coronavirus social distancing impact"
            ],
            "text/html": [
              "\n",
              "  <div id=\"df-74e66fb3-04c5-4d2a-a46e-d6411c85dd22\" class=\"colab-df-container\">\n",
              "    <div>\n",
              "<style scoped>\n",
              "    .dataframe tbody tr th:only-of-type {\n",
              "        vertical-align: middle;\n",
              "    }\n",
              "\n",
              "    .dataframe tbody tr th {\n",
              "        vertical-align: top;\n",
              "    }\n",
              "\n",
              "    .dataframe thead th {\n",
              "        text-align: right;\n",
              "    }\n",
              "</style>\n",
              "<table border=\"1\" class=\"dataframe\">\n",
              "  <thead>\n",
              "    <tr style=\"text-align: right;\">\n",
              "      <th></th>\n",
              "      <th>qid</th>\n",
              "      <th>query</th>\n",
              "    </tr>\n",
              "  </thead>\n",
              "  <tbody>\n",
              "    <tr>\n",
              "      <th>0</th>\n",
              "      <td>1</td>\n",
              "      <td>coronavirus origin</td>\n",
              "    </tr>\n",
              "    <tr>\n",
              "      <th>1</th>\n",
              "      <td>2</td>\n",
              "      <td>coronavirus response to weather changes</td>\n",
              "    </tr>\n",
              "    <tr>\n",
              "      <th>2</th>\n",
              "      <td>3</td>\n",
              "      <td>coronavirus immunity</td>\n",
              "    </tr>\n",
              "    <tr>\n",
              "      <th>3</th>\n",
              "      <td>4</td>\n",
              "      <td>how do people die from the coronavirus</td>\n",
              "    </tr>\n",
              "    <tr>\n",
              "      <th>4</th>\n",
              "      <td>5</td>\n",
              "      <td>animal models of covid 19</td>\n",
              "    </tr>\n",
              "    <tr>\n",
              "      <th>5</th>\n",
              "      <td>6</td>\n",
              "      <td>coronavirus test rapid testing</td>\n",
              "    </tr>\n",
              "    <tr>\n",
              "      <th>6</th>\n",
              "      <td>7</td>\n",
              "      <td>serological tests for coronavirus</td>\n",
              "    </tr>\n",
              "    <tr>\n",
              "      <th>7</th>\n",
              "      <td>8</td>\n",
              "      <td>coronavirus under reporting</td>\n",
              "    </tr>\n",
              "    <tr>\n",
              "      <th>8</th>\n",
              "      <td>9</td>\n",
              "      <td>coronavirus in canada</td>\n",
              "    </tr>\n",
              "    <tr>\n",
              "      <th>9</th>\n",
              "      <td>10</td>\n",
              "      <td>coronavirus social distancing impact</td>\n",
              "    </tr>\n",
              "  </tbody>\n",
              "</table>\n",
              "</div>\n",
              "    <div class=\"colab-df-buttons\">\n",
              "\n",
              "  <div class=\"colab-df-container\">\n",
              "    <button class=\"colab-df-convert\" onclick=\"convertToInteractive('df-74e66fb3-04c5-4d2a-a46e-d6411c85dd22')\"\n",
              "            title=\"Convert this dataframe to an interactive table.\"\n",
              "            style=\"display:none;\">\n",
              "\n",
              "  <svg xmlns=\"http://www.w3.org/2000/svg\" height=\"24px\" viewBox=\"0 -960 960 960\">\n",
              "    <path d=\"M120-120v-720h720v720H120Zm60-500h600v-160H180v160Zm220 220h160v-160H400v160Zm0 220h160v-160H400v160ZM180-400h160v-160H180v160Zm440 0h160v-160H620v160ZM180-180h160v-160H180v160Zm440 0h160v-160H620v160Z\"/>\n",
              "  </svg>\n",
              "    </button>\n",
              "\n",
              "  <style>\n",
              "    .colab-df-container {\n",
              "      display:flex;\n",
              "      gap: 12px;\n",
              "    }\n",
              "\n",
              "    .colab-df-convert {\n",
              "      background-color: #E8F0FE;\n",
              "      border: none;\n",
              "      border-radius: 50%;\n",
              "      cursor: pointer;\n",
              "      display: none;\n",
              "      fill: #1967D2;\n",
              "      height: 32px;\n",
              "      padding: 0 0 0 0;\n",
              "      width: 32px;\n",
              "    }\n",
              "\n",
              "    .colab-df-convert:hover {\n",
              "      background-color: #E2EBFA;\n",
              "      box-shadow: 0px 1px 2px rgba(60, 64, 67, 0.3), 0px 1px 3px 1px rgba(60, 64, 67, 0.15);\n",
              "      fill: #174EA6;\n",
              "    }\n",
              "\n",
              "    .colab-df-buttons div {\n",
              "      margin-bottom: 4px;\n",
              "    }\n",
              "\n",
              "    [theme=dark] .colab-df-convert {\n",
              "      background-color: #3B4455;\n",
              "      fill: #D2E3FC;\n",
              "    }\n",
              "\n",
              "    [theme=dark] .colab-df-convert:hover {\n",
              "      background-color: #434B5C;\n",
              "      box-shadow: 0px 1px 3px 1px rgba(0, 0, 0, 0.15);\n",
              "      filter: drop-shadow(0px 1px 2px rgba(0, 0, 0, 0.3));\n",
              "      fill: #FFFFFF;\n",
              "    }\n",
              "  </style>\n",
              "\n",
              "    <script>\n",
              "      const buttonEl =\n",
              "        document.querySelector('#df-74e66fb3-04c5-4d2a-a46e-d6411c85dd22 button.colab-df-convert');\n",
              "      buttonEl.style.display =\n",
              "        google.colab.kernel.accessAllowed ? 'block' : 'none';\n",
              "\n",
              "      async function convertToInteractive(key) {\n",
              "        const element = document.querySelector('#df-74e66fb3-04c5-4d2a-a46e-d6411c85dd22');\n",
              "        const dataTable =\n",
              "          await google.colab.kernel.invokeFunction('convertToInteractive',\n",
              "                                                    [key], {});\n",
              "        if (!dataTable) return;\n",
              "\n",
              "        const docLinkHtml = 'Like what you see? Visit the ' +\n",
              "          '<a target=\"_blank\" href=https://colab.research.google.com/notebooks/data_table.ipynb>data table notebook</a>'\n",
              "          + ' to learn more about interactive tables.';\n",
              "        element.innerHTML = '';\n",
              "        dataTable['output_type'] = 'display_data';\n",
              "        await google.colab.output.renderOutput(dataTable, element);\n",
              "        const docLink = document.createElement('div');\n",
              "        docLink.innerHTML = docLinkHtml;\n",
              "        element.appendChild(docLink);\n",
              "      }\n",
              "    </script>\n",
              "  </div>\n",
              "\n",
              "\n",
              "    <div id=\"df-36628c1e-2473-4f42-b215-305e3da2bf36\">\n",
              "      <button class=\"colab-df-quickchart\" onclick=\"quickchart('df-36628c1e-2473-4f42-b215-305e3da2bf36')\"\n",
              "                title=\"Suggest charts\"\n",
              "                style=\"display:none;\">\n",
              "\n",
              "<svg xmlns=\"http://www.w3.org/2000/svg\" height=\"24px\"viewBox=\"0 0 24 24\"\n",
              "     width=\"24px\">\n",
              "    <g>\n",
              "        <path d=\"M19 3H5c-1.1 0-2 .9-2 2v14c0 1.1.9 2 2 2h14c1.1 0 2-.9 2-2V5c0-1.1-.9-2-2-2zM9 17H7v-7h2v7zm4 0h-2V7h2v10zm4 0h-2v-4h2v4z\"/>\n",
              "    </g>\n",
              "</svg>\n",
              "      </button>\n",
              "\n",
              "<style>\n",
              "  .colab-df-quickchart {\n",
              "      --bg-color: #E8F0FE;\n",
              "      --fill-color: #1967D2;\n",
              "      --hover-bg-color: #E2EBFA;\n",
              "      --hover-fill-color: #174EA6;\n",
              "      --disabled-fill-color: #AAA;\n",
              "      --disabled-bg-color: #DDD;\n",
              "  }\n",
              "\n",
              "  [theme=dark] .colab-df-quickchart {\n",
              "      --bg-color: #3B4455;\n",
              "      --fill-color: #D2E3FC;\n",
              "      --hover-bg-color: #434B5C;\n",
              "      --hover-fill-color: #FFFFFF;\n",
              "      --disabled-bg-color: #3B4455;\n",
              "      --disabled-fill-color: #666;\n",
              "  }\n",
              "\n",
              "  .colab-df-quickchart {\n",
              "    background-color: var(--bg-color);\n",
              "    border: none;\n",
              "    border-radius: 50%;\n",
              "    cursor: pointer;\n",
              "    display: none;\n",
              "    fill: var(--fill-color);\n",
              "    height: 32px;\n",
              "    padding: 0;\n",
              "    width: 32px;\n",
              "  }\n",
              "\n",
              "  .colab-df-quickchart:hover {\n",
              "    background-color: var(--hover-bg-color);\n",
              "    box-shadow: 0 1px 2px rgba(60, 64, 67, 0.3), 0 1px 3px 1px rgba(60, 64, 67, 0.15);\n",
              "    fill: var(--button-hover-fill-color);\n",
              "  }\n",
              "\n",
              "  .colab-df-quickchart-complete:disabled,\n",
              "  .colab-df-quickchart-complete:disabled:hover {\n",
              "    background-color: var(--disabled-bg-color);\n",
              "    fill: var(--disabled-fill-color);\n",
              "    box-shadow: none;\n",
              "  }\n",
              "\n",
              "  .colab-df-spinner {\n",
              "    border: 2px solid var(--fill-color);\n",
              "    border-color: transparent;\n",
              "    border-bottom-color: var(--fill-color);\n",
              "    animation:\n",
              "      spin 1s steps(1) infinite;\n",
              "  }\n",
              "\n",
              "  @keyframes spin {\n",
              "    0% {\n",
              "      border-color: transparent;\n",
              "      border-bottom-color: var(--fill-color);\n",
              "      border-left-color: var(--fill-color);\n",
              "    }\n",
              "    20% {\n",
              "      border-color: transparent;\n",
              "      border-left-color: var(--fill-color);\n",
              "      border-top-color: var(--fill-color);\n",
              "    }\n",
              "    30% {\n",
              "      border-color: transparent;\n",
              "      border-left-color: var(--fill-color);\n",
              "      border-top-color: var(--fill-color);\n",
              "      border-right-color: var(--fill-color);\n",
              "    }\n",
              "    40% {\n",
              "      border-color: transparent;\n",
              "      border-right-color: var(--fill-color);\n",
              "      border-top-color: var(--fill-color);\n",
              "    }\n",
              "    60% {\n",
              "      border-color: transparent;\n",
              "      border-right-color: var(--fill-color);\n",
              "    }\n",
              "    80% {\n",
              "      border-color: transparent;\n",
              "      border-right-color: var(--fill-color);\n",
              "      border-bottom-color: var(--fill-color);\n",
              "    }\n",
              "    90% {\n",
              "      border-color: transparent;\n",
              "      border-bottom-color: var(--fill-color);\n",
              "    }\n",
              "  }\n",
              "</style>\n",
              "\n",
              "      <script>\n",
              "        async function quickchart(key) {\n",
              "          const quickchartButtonEl =\n",
              "            document.querySelector('#' + key + ' button');\n",
              "          quickchartButtonEl.disabled = true;  // To prevent multiple clicks.\n",
              "          quickchartButtonEl.classList.add('colab-df-spinner');\n",
              "          try {\n",
              "            const charts = await google.colab.kernel.invokeFunction(\n",
              "                'suggestCharts', [key], {});\n",
              "          } catch (error) {\n",
              "            console.error('Error during call to suggestCharts:', error);\n",
              "          }\n",
              "          quickchartButtonEl.classList.remove('colab-df-spinner');\n",
              "          quickchartButtonEl.classList.add('colab-df-quickchart-complete');\n",
              "        }\n",
              "        (() => {\n",
              "          let quickchartButtonEl =\n",
              "            document.querySelector('#df-36628c1e-2473-4f42-b215-305e3da2bf36 button');\n",
              "          quickchartButtonEl.style.display =\n",
              "            google.colab.kernel.accessAllowed ? 'block' : 'none';\n",
              "        })();\n",
              "      </script>\n",
              "    </div>\n",
              "\n",
              "    </div>\n",
              "  </div>\n"
            ],
            "application/vnd.google.colaboratory.intrinsic+json": {
              "type": "dataframe",
              "variable_name": "queries",
              "summary": "{\n  \"name\": \"queries\",\n  \"rows\": 50,\n  \"fields\": [\n    {\n      \"column\": \"qid\",\n      \"properties\": {\n        \"dtype\": \"string\",\n        \"num_unique_values\": 50,\n        \"samples\": [\n          \"14\",\n          \"40\",\n          \"31\"\n        ],\n        \"semantic_type\": \"\",\n        \"description\": \"\"\n      }\n    },\n    {\n      \"column\": \"query\",\n      \"properties\": {\n        \"dtype\": \"string\",\n        \"num_unique_values\": 50,\n        \"samples\": [\n          \"coronavirus super spreaders\",\n          \"coronavirus mutations\",\n          \"difference between coronavirus and flu\"\n        ],\n        \"semantic_type\": \"\",\n        \"description\": \"\"\n      }\n    }\n  ]\n}"
            }
          },
          "metadata": {},
          "execution_count": 29
        }
      ],
      "source": [
        "queries = cord19.get_topics(variant='title')\n",
        "queries.head(10)"
      ]
    },
    {
      "cell_type": "markdown",
      "source": [
        "And the first 10 relevance judgements (called qrels):"
      ],
      "metadata": {
        "id": "i93myyCB7y8r"
      },
      "id": "i93myyCB7y8r"
    },
    {
      "cell_type": "code",
      "execution_count": null,
      "id": "20696564-02f3-4a7c-a98f-8823e8ad9cf6",
      "metadata": {
        "id": "20696564-02f3-4a7c-a98f-8823e8ad9cf6"
      },
      "outputs": [],
      "source": [
        "qrels = cord19.get_qrels()\n",
        "qrels.head(10)"
      ]
    },
    {
      "cell_type": "markdown",
      "source": [
        "We can give a look at the distribution of the relevance scores in the data set. To do so we train the count of occurrences of each label, sort the values by label and plot these values in a bat plot (note the log-scale on the y-axis):"
      ],
      "metadata": {
        "id": "5oTfWKk1EO0V"
      },
      "id": "5oTfWKk1EO0V"
    },
    {
      "cell_type": "code",
      "source": [
        "qrels['label'].value_counts().plot(kind='bar', log=True)"
      ],
      "metadata": {
        "id": "8X4lQsxLEN6Z"
      },
      "id": "8X4lQsxLEN6Z",
      "execution_count": null,
      "outputs": []
    },
    {
      "cell_type": "markdown",
      "source": [
        "Note that there are some relevance judgements taking the value of -1. In the original documentation of the data set (https://ir-datasets.com/cord19.html) only the values 0, 1, and 2 are accepted, so the -1 must be errors in the annotation, since they are only 2 we can drop the corresponding qrels.\n",
        "\n",
        "To drop the undesired we simply have to retain all the qrels with a label different from -1"
      ],
      "metadata": {
        "id": "qHEz0AoqBKCJ"
      },
      "id": "qHEz0AoqBKCJ"
    },
    {
      "cell_type": "code",
      "source": [
        "qrels = qrels[qrels['label'] != -1]"
      ],
      "metadata": {
        "id": "fhukm7CnBDvt"
      },
      "id": "fhukm7CnBDvt",
      "execution_count": null,
      "outputs": []
    },
    {
      "cell_type": "markdown",
      "source": [
        "The qrels contain information on the relevance labels for the query-document pairs. To do our evaluation we need to load also the queries we are going to use to test our retrieval system. For historical reasons, queries are called \"topics\" in this context.\n",
        "\n",
        "Let's collect the topics in the CORD-19 corpus:"
      ],
      "metadata": {
        "id": "p8jkGZrzJDBl"
      },
      "id": "p8jkGZrzJDBl"
    },
    {
      "cell_type": "code",
      "source": [
        "topics = cord19.get_topics(variant='title')\n",
        "topics"
      ],
      "metadata": {
        "id": "NbzStci3JDPM"
      },
      "id": "NbzStci3JDPM",
      "execution_count": null,
      "outputs": []
    },
    {
      "cell_type": "markdown",
      "source": [
        "Now let us use these queries and relevance judgements to compare different retrieval functions to see how well they perform at ranking documents in the collection. We compare BM25 and TF-IDF in terms of two common ranking evaluation measures (MAP and NDCG), where higher values indicate a better ranking:  "
      ],
      "metadata": {
        "id": "a5W37VWD_r5K"
      },
      "id": "a5W37VWD_r5K"
    },
    {
      "cell_type": "code",
      "execution_count": null,
      "id": "4ca22e3f-664e-44f8-93f1-f5012067b1c6",
      "metadata": {
        "id": "4ca22e3f-664e-44f8-93f1-f5012067b1c6"
      },
      "outputs": [],
      "source": [
        "pt.Experiment(\n",
        "    [tfidf, bm25],\n",
        "    topics,\n",
        "    qrels,\n",
        "    eval_metrics=[\"map\", \"ndcg\"]\n",
        ")"
      ]
    },
    {
      "cell_type": "markdown",
      "id": "56a0e072-f4de-4d5e-8833-2ff9853e538e",
      "metadata": {
        "id": "56a0e072-f4de-4d5e-8833-2ff9853e538e"
      },
      "source": [
        "How were those scores calculated? We can have a look at the score and corresponding relevance labels for individual query document pairs as follows:"
      ]
    },
    {
      "cell_type": "code",
      "source": [
        "# Rank the documents for each query using the TF-IDF scoring function:\n",
        "results = tfidf(cord19.get_topics(variant='title'))\n",
        "# Add the relevance labels (qrels) to the table:\n",
        "results = results.merge(qrels, on=[\"qid\", \"docno\"], how=\"left\").fillna(0)\n",
        "# Display the output\n",
        "results"
      ],
      "metadata": {
        "id": "UixfKFkGBalK"
      },
      "id": "UixfKFkGBalK",
      "execution_count": null,
      "outputs": []
    },
    {
      "cell_type": "markdown",
      "id": "d40d782f-16c4-435f-afa7-6c1670a6e6a7",
      "metadata": {
        "id": "d40d782f-16c4-435f-afa7-6c1670a6e6a7"
      },
      "source": [
        "## Pipelines\n",
        "\n",
        "For this part of the notebook, we'll be using a different (pre-built) Terrier index with term position information, which was built uisng the following code. (We wont run it now since it would take a while to run.)\n",
        "```python\n",
        "pt_index_path = './terrier_cord19_blocks'\n",
        "indexer = pt.index.IterDictIndexer(pt_index_path blocks=True)\n",
        "index_ref = indexer.index(cord19.get_corpus_iter(), fields=('abstract',), meta=('docno',))\n",
        "```\n",
        "\n",
        "However, its just as quick to use the pre-built index from the Terrier Data Repository. We use the ['terrier_stemmed_positions'](http://data.terrier.org/trec-covid.dataset.html#terrier_stemmed_positions) index variant."
      ]
    },
    {
      "cell_type": "code",
      "execution_count": null,
      "id": "b72f9561-0528-4fba-9bbd-6141893f7f81",
      "metadata": {
        "id": "b72f9561-0528-4fba-9bbd-6141893f7f81"
      },
      "outputs": [],
      "source": [
        "index = pt.IndexFactory.of(\n",
        "    pt.get_dataset('trec-covid').get_index('terrier_stemmed_positions')\n",
        ")"
      ]
    },
    {
      "cell_type": "markdown",
      "id": "f8aca53a-7400-4e16-9376-3021aa2fa6f4",
      "metadata": {
        "id": "f8aca53a-7400-4e16-9376-3021aa2fa6f4"
      },
      "source": [
        "#### Operators\n",
        "\n",
        "`BatchRetrieve` objects can be combined using some special operators. These combinations are called pipelines.\n",
        "\n",
        "Hereafter we are going to see three operators:\n",
        "- Composition\n",
        "- Rank cut-off\n",
        "- Union\n",
        "\n",
        "Before moving to the actual operators se define three retrievers using the index we have just created. We are going to define retrievers using\n",
        "- TF\n",
        "- TF-IDF\n",
        "- BM25"
      ]
    },
    {
      "cell_type": "code",
      "source": [
        "tf = pt.BatchRetrieve(index, wmodel=\"Tf\")\n",
        "tf_idf = pt.BatchRetrieve(index, wmodel=\"TF_IDF\")\n",
        "bm25 = pt.BatchRetrieve(index, wmodel=\"BM25\")"
      ],
      "metadata": {
        "id": "ksj0ZbhfM0dN"
      },
      "id": "ksj0ZbhfM0dN",
      "execution_count": null,
      "outputs": []
    },
    {
      "cell_type": "markdown",
      "source": [
        "##### Composition\n",
        "\n",
        "The first operator we are going to see is the composition. This operator allow to re-rank the output of one retriever using a second retriever.\n",
        "\n",
        "To use it, we simply need to compose two retrievers using the  `>>` operator.\n",
        "\n",
        "Given the first query in the topics we loaded before"
      ],
      "metadata": {
        "id": "GM-0tm5IKope"
      },
      "id": "GM-0tm5IKope"
    },
    {
      "cell_type": "code",
      "source": [
        "query = 'chemical'"
      ],
      "metadata": {
        "id": "SWyPXyNnMjvN"
      },
      "id": "SWyPXyNnMjvN",
      "execution_count": null,
      "outputs": []
    },
    {
      "cell_type": "markdown",
      "source": [
        "Let's see first what TF alone would retrieve"
      ],
      "metadata": {
        "id": "Cco7fHUjRzD_"
      },
      "id": "Cco7fHUjRzD_"
    },
    {
      "cell_type": "code",
      "source": [
        "tf.search(query)"
      ],
      "metadata": {
        "id": "idCuPT4LR7ZR"
      },
      "id": "idCuPT4LR7ZR",
      "execution_count": null,
      "outputs": []
    },
    {
      "cell_type": "markdown",
      "source": [
        "Now let's compose the TF with the BM25, in this way we will re-rank the TF-IDF results using BM25.\n",
        "\n",
        "First we create a composition an then run the search using the composition pipeline."
      ],
      "metadata": {
        "id": "zrCD4nAUSFei"
      },
      "id": "zrCD4nAUSFei"
    },
    {
      "cell_type": "code",
      "source": [
        "composition = tf >> bm25\n",
        "\n",
        "composition.search(query)"
      ],
      "metadata": {
        "id": "c0J7XcB2SZ0c"
      },
      "id": "c0J7XcB2SZ0c",
      "execution_count": null,
      "outputs": []
    },
    {
      "cell_type": "markdown",
      "source": [
        "As you can see some documents have been further re-ordered by the BM25"
      ],
      "metadata": {
        "id": "4q4WNwteTu3Z"
      },
      "id": "4q4WNwteTu3Z"
    },
    {
      "cell_type": "markdown",
      "source": [
        "##### Rank cut-off\n",
        "\n",
        "The second operator we are going to see is the rank cut-off. This operator allow to retain only the top *n* results.\n",
        "\n",
        "To use it, we simply need to compose a new retriever applying the `% n` operator to an existing retriever (with *n* being the number of results we want to retain. This is useful to do an early pruning of the the retreived results."
      ],
      "metadata": {
        "id": "mtgVU3MBKotE"
      },
      "id": "mtgVU3MBKotE"
    },
    {
      "cell_type": "markdown",
      "source": [
        "Let's retain the top 10 results using the TF-IDF score.\n",
        "\n",
        "First we define the rank cut-off pipeline using the TF retriever, then we use it to answer the query."
      ],
      "metadata": {
        "id": "vcLzf9upMkOt"
      },
      "id": "vcLzf9upMkOt"
    },
    {
      "cell_type": "code",
      "source": [
        "tf_idf_cut = tf_idf % 10\n",
        "\n",
        "tf_idf_cut.search(query)"
      ],
      "metadata": {
        "id": "GhQoxlhYMl2m"
      },
      "id": "GhQoxlhYMl2m",
      "execution_count": null,
      "outputs": []
    },
    {
      "cell_type": "markdown",
      "source": [
        "Of course these pipeline operators can be combined. For example we can re-rank with BM25 only the first 20 results from TF.\n",
        "\n",
        "Again we define first our pipeline with the two operations and then we search the query."
      ],
      "metadata": {
        "id": "nQmuujHwUB6z"
      },
      "id": "nQmuujHwUB6z"
    },
    {
      "cell_type": "code",
      "source": [
        "combination_cut = (tf % 20) >> bm25\n",
        "\n",
        "combination_cut.search(query)"
      ],
      "metadata": {
        "id": "gKAk7mWeUCK0"
      },
      "id": "gKAk7mWeUCK0",
      "execution_count": null,
      "outputs": []
    },
    {
      "cell_type": "markdown",
      "source": [
        "##### Results union\n",
        "\n",
        "Finally we can also combine the results from different retreivers, merging them together. In this case we are going to define the pipeline using two retrievers interleaved by the `|` operator.\n",
        "\n",
        "For example we can combine the top 10 results from TF with the top 10 results from TF-IDF. As usual we define first our pipeline and then we run our query."
      ],
      "metadata": {
        "id": "MnU2jq-2Kofs"
      },
      "id": "MnU2jq-2Kofs"
    },
    {
      "cell_type": "code",
      "execution_count": null,
      "id": "1b728468-4838-4eb2-82e6-593f7c4c25f4",
      "metadata": {
        "id": "1b728468-4838-4eb2-82e6-593f7c4c25f4"
      },
      "outputs": [],
      "source": [
        "union = (tf % 10) | (tf_idf % 10)\n",
        "\n",
        "union.search(query)"
      ]
    },
    {
      "cell_type": "markdown",
      "source": [
        "There are some overlappings between the results of TF and TF-IDf, as a results the total number of retreived documents is lower than 20.\n",
        "Also nothe that we do not have scores here since TF and TF-IDF are not comparable.\n",
        "\n",
        "What we can do is add som re-ranking to our pipeline. We can re-score the output given by the union of TF (with cut-off at 10) and TF-IDF (with cut-off at 10) using BM25"
      ],
      "metadata": {
        "id": "BkTBiuUDWthN"
      },
      "id": "BkTBiuUDWthN"
    },
    {
      "cell_type": "code",
      "source": [
        "pipeline = ((tf % 10) | (tf_idf % 10)) >> bm25\n",
        "\n",
        "pipeline.search(query)"
      ],
      "metadata": {
        "id": "k7XRhcEIXOaa"
      },
      "id": "k7XRhcEIXOaa",
      "execution_count": null,
      "outputs": []
    },
    {
      "cell_type": "markdown",
      "id": "f27e3fed-52f5-433b-af2c-4a2feec26369",
      "metadata": {
        "id": "f27e3fed-52f5-433b-af2c-4a2feec26369"
      },
      "source": [
        "#### Evaluating retireval pipelines\n",
        "\n",
        "How do these complex retrieval pipelines perform?\n",
        "\n",
        "We can compare the MAP and NDCG scores on the topics avaialble on the CORD-19 data set using the qrels we loaded before.\n",
        "\n",
        "Let's compare\n",
        "- BM25 (used as baseline)\n",
        "- TF-IDF re-scored with BM25\n",
        "- the union of TF-IDF and TF top 500 results re-scored with BM25"
      ]
    },
    {
      "cell_type": "code",
      "execution_count": null,
      "id": "c7fa3b49-e71f-482c-83ad-b2cd2c684810",
      "metadata": {
        "id": "c7fa3b49-e71f-482c-83ad-b2cd2c684810"
      },
      "outputs": [],
      "source": [
        "pt.Experiment(\n",
        "  [bm25, tf_idf >> bm25, ((tf % 500) | (tf_idf % 500)) >> bm25],\n",
        "  topics,\n",
        "  qrels,\n",
        "  eval_metrics=[\"map\", \"ndcg\"],\n",
        "  names=[\"BM25\", \"TF-IDF >> BM25\", \"((TF % 10) | (TF-IDF % 10)) >> BM25\"]\n",
        ")"
      ]
    },
    {
      "cell_type": "markdown",
      "id": "1284131b-b125-4322-adec-ffba6f6aa791",
      "metadata": {
        "id": "1284131b-b125-4322-adec-ffba6f6aa791"
      },
      "source": [
        "## Learning to Rank\n",
        "\n",
        "In this last part of the notebook, you will experience constructing, learning, evaluating and analysing learning to rank pipelines.\n"
      ]
    },
    {
      "cell_type": "markdown",
      "id": "373f9203-2f7a-4962-84ca-7c1103b6716f",
      "metadata": {
        "id": "373f9203-2f7a-4962-84ca-7c1103b6716f"
      },
      "source": [
        "Firstly, lets split out topics into train, validation and test sets. TREC Covid only has 50 topics, which isnt a lot for training. We'll split this 30 for training 5 for validation and 15 for test. We will also examine statistical significance, even if this is artificial for 15 topics.\n",
        "\n",
        "We're only going to-rank the top 10 documents for each query - hopefully learning to rank can help to re-rank the top 10 documents to be more effective."
      ]
    },
    {
      "cell_type": "markdown",
      "source": [
        "We define some constants to controthe cutoff and make the experiments reproducible"
      ],
      "metadata": {
        "id": "qY1PV92rL4k8"
      },
      "id": "qY1PV92rL4k8"
    },
    {
      "cell_type": "code",
      "source": [
        "RANK_CUTOFF = 10\n",
        "SEED = 42"
      ],
      "metadata": {
        "id": "-WiLHCGDMFGU"
      },
      "id": "-WiLHCGDMFGU",
      "execution_count": null,
      "outputs": []
    },
    {
      "cell_type": "markdown",
      "source": [
        "Then we use the splitting utility from Scikit-Learn"
      ],
      "metadata": {
        "id": "6ATh25ITMFjx"
      },
      "id": "6ATh25ITMFjx"
    },
    {
      "cell_type": "code",
      "execution_count": null,
      "id": "a3ce455c-2244-40d5-b179-6343b02ddaf8",
      "metadata": {
        "id": "a3ce455c-2244-40d5-b179-6343b02ddaf8"
      },
      "outputs": [],
      "source": [
        "from sklearn.model_selection import train_test_split\n",
        "\n",
        "tr_va_topics, test_topics = train_test_split(topics, test_size=15, random_state=SEED)\n",
        "train_topics, valid_topics =  train_test_split(tr_va_topics, test_size=5, random_state=SEED)"
      ]
    },
    {
      "cell_type": "markdown",
      "id": "bbe513d6-ea0b-4c23-87c6-b3621e85ae32",
      "metadata": {
        "id": "bbe513d6-ea0b-4c23-87c6-b3621e85ae32"
      },
      "source": [
        "### Feature Set\n",
        "\n",
        "Lets define our feature set.  We're going to have a total of 5 features:\n",
        "\n",
        "1.   the BM25 abstract score;\n",
        "2.   the BM25 score on the title;\n",
        "3.   whether the abstract contain 'coronavirus covid', scored by BM25;\n",
        "4.   whether the paper was released/published in 2020 (Recent papers were more useful for this task);\n",
        "5.   whether the paper is a formal publication? (we can get this information checking whether the paper has a special identifier called DOI)\n",
        "\n",
        "Several of these feature require additional metadata `[\"title\", \"date\", \"doi\"]`. Fortunately, the TREC Covid dataset allows us to obtain more metadata after indexing. We use `pt.text.get_text(cord19, [\"title\", \"date\", \"doi\"])` to retrieve these extra metadata columns.\n",
        "\n",
        "Note the complete pipeline definition is a bit complex, just keep in mind we are interested in extracting the features we just listed"
      ]
    },
    {
      "cell_type": "code",
      "execution_count": null,
      "id": "704e0590-3543-4062-8cc5-d7fcd935d7f9",
      "metadata": {
        "id": "704e0590-3543-4062-8cc5-d7fcd935d7f9"
      },
      "outputs": [],
      "source": [
        "ltr_feats = (bm25 % RANK_CUTOFF) >> pt.text.get_text(cord19, [\"title\", \"date\", \"doi\"]) >> (\n",
        "    pt.transformer.IdentityTransformer()\n",
        "    ** # score of title (not originally indexed)\n",
        "    (pt.text.scorer(body_attr=\"title\", takes='docs', wmodel='BM25') )\n",
        "    ** # score of text for query 'coronavirus covid'\n",
        "    (pt.apply.query(lambda row: 'coronavirus covid') >> bm25)\n",
        "    ** # date 2020\n",
        "    (pt.apply.doc_score(lambda row: int(\"2020\" in row[\"date\"])))\n",
        "    ** # has doi\n",
        "    (pt.apply.doc_score(lambda row: int( row[\"doi\"] is not None and len(row[\"doi\"]) > 0)))\n",
        ")"
      ]
    },
    {
      "cell_type": "markdown",
      "source": [
        "For reference, we create a list with the names of the features"
      ],
      "metadata": {
        "id": "GUXfNxVnMVc1"
      },
      "id": "GUXfNxVnMVc1"
    },
    {
      "cell_type": "code",
      "source": [
        "fnames=[\"BM25 abstract\", \"BM25 title\", \"coronavirus covid\", \"2020\", \"DOI\"]"
      ],
      "metadata": {
        "id": "skRMV9zxMVu2"
      },
      "id": "skRMV9zxMVu2",
      "execution_count": null,
      "outputs": []
    },
    {
      "cell_type": "markdown",
      "id": "79b222dd-b5c5-475b-85b6-b1046c95673e",
      "metadata": {
        "id": "79b222dd-b5c5-475b-85b6-b1046c95673e"
      },
      "source": [
        "Lets see the output for a given query."
      ]
    },
    {
      "cell_type": "code",
      "execution_count": null,
      "id": "54da689a-87da-49de-9c29-3d9464d5dcd2",
      "metadata": {
        "id": "54da689a-87da-49de-9c29-3d9464d5dcd2"
      },
      "outputs": [],
      "source": [
        "ltr_feats.search(\"coronovirus origin\")"
      ]
    },
    {
      "cell_type": "markdown",
      "source": [
        "We can see that we now have extra document metadata columns `[\"title\", \"date\", \"doi\"]`, as well as the `\"features\"` column. This last column contains the array of features we are going to use in the learning step"
      ],
      "metadata": {
        "id": "LyXgL6Ppb3nV"
      },
      "id": "LyXgL6Ppb3nV"
    },
    {
      "cell_type": "markdown",
      "id": "c208a118-b0ab-48e0-8cd5-b5239d28f735",
      "metadata": {
        "id": "c208a118-b0ab-48e0-8cd5-b5239d28f735"
      },
      "source": [
        "We can also look at the raw features values (in this case for the first ranked document)"
      ]
    },
    {
      "cell_type": "code",
      "execution_count": null,
      "id": "fd0719cd-b1f7-45bf-8562-5e4e59705369",
      "metadata": {
        "id": "fd0719cd-b1f7-45bf-8562-5e4e59705369"
      },
      "outputs": [],
      "source": [
        "print('Features:', ltr_feats.search(\"coronovirus origin\").iloc[0][\"features\"])"
      ]
    },
    {
      "cell_type": "markdown",
      "id": "b3ca43cd-0117-4d4b-97e0-d709544e0dc8",
      "metadata": {
        "id": "b3ca43cd-0117-4d4b-97e0-d709544e0dc8"
      },
      "source": [
        "### Learning\n",
        "\n",
        "In this part of the notebook, we apply three different learning to rank techniques:\n",
        "\n",
        " - coordinate ascent from FastRank, a listwise linear technique\n",
        " - random forests from `scikit-learn`, a pointwise regression tree technique\n",
        " - LambdaMART from LightGBM, a listwise regression tree technique\n",
        "\n",
        "In each case, we take our feature pipeline, `ltr_feats1`, and we compose it (`>>`) with the learned model. We use `pt.ltr.apply_learned_model()` which knows how to deal with different learners.\n",
        "\n",
        "The full pipeline is then fitted (learned) using `.fit()`, specifying the training topics and qrels. Importantly, the preceeding stages of the pipeline (retrieval and feature calculation) are applied to the training topics in order to obtained the results, which are then passed to the learning to rank technique. LightGBM has early stopping enabled, which uses a validation topics set – similarly the validation topics are transformed into validation results.\n"
      ]
    },
    {
      "cell_type": "markdown",
      "source": [
        "#### Linear regression model"
      ],
      "metadata": {
        "id": "eyoFDFtmOWLs"
      },
      "id": "eyoFDFtmOWLs"
    },
    {
      "cell_type": "code",
      "execution_count": null,
      "id": "1e5db2e6-75da-4996-9d9a-a1fadd9bd0ac",
      "metadata": {
        "id": "1e5db2e6-75da-4996-9d9a-a1fadd9bd0ac"
      },
      "outputs": [],
      "source": [
        "from sklearn.linear_model import LinearRegression\n",
        "\n",
        "lr = LinearRegression()\n",
        "\n",
        "lr_pipe = ltr_feats >> pt.ltr.apply_learned_model(lr)\n",
        "\n",
        "lr_pipe.fit(train_topics, qrels)"
      ]
    },
    {
      "cell_type": "markdown",
      "source": [
        "#### Non-linear regression model"
      ],
      "metadata": {
        "id": "J2sRScAAOYVN"
      },
      "id": "J2sRScAAOYVN"
    },
    {
      "cell_type": "code",
      "execution_count": null,
      "id": "ecdba77d-4ccb-4d8a-97c9-98ec613ca2c5",
      "metadata": {
        "id": "ecdba77d-4ccb-4d8a-97c9-98ec613ca2c5"
      },
      "outputs": [],
      "source": [
        "from sklearn.ensemble import RandomForestRegressor\n",
        "\n",
        "rf = RandomForestRegressor(n_estimators=400, verbose=1, random_state=SEED, n_jobs=-1)\n",
        "\n",
        "rf_pipe = ltr_feats >> pt.ltr.apply_learned_model(rf)\n",
        "\n",
        "rf_pipe.fit(train_topics, qrels)"
      ]
    },
    {
      "cell_type": "markdown",
      "source": [
        "#### LambdaMART\n",
        "\n",
        "LambdaMART is a listwise appraoch to learning to rank documents. It makes use of Gradient Boosted Regression trees to optimize an approximation to the NDCG evaluation function.\n",
        "\n",
        "To learn a LambdaMART model we first need to install [LightGBM](https://lightgbm.readthedocs.io/en/latest/)."
      ],
      "metadata": {
        "id": "-lhoSLadOwRl"
      },
      "id": "-lhoSLadOwRl"
    },
    {
      "cell_type": "code",
      "execution_count": null,
      "id": "ef77b500-d9d1-4e18-955b-91b7bd1b87a2",
      "metadata": {
        "id": "ef77b500-d9d1-4e18-955b-91b7bd1b87a2"
      },
      "outputs": [],
      "source": [
        "!pip install -q --upgrade lightgbm==3.1.1"
      ]
    },
    {
      "cell_type": "markdown",
      "source": [
        "Now we can train the model:"
      ],
      "metadata": {
        "id": "S1_2kLbo_Zwj"
      },
      "id": "S1_2kLbo_Zwj"
    },
    {
      "cell_type": "code",
      "execution_count": null,
      "id": "4b163cd2-50a8-4c7a-8c46-538e6b12fc18",
      "metadata": {
        "id": "4b163cd2-50a8-4c7a-8c46-538e6b12fc18"
      },
      "outputs": [],
      "source": [
        "import lightgbm as lgb\n",
        "\n",
        "# This configures LightGBM as LambdaMART\n",
        "lmart_l = lgb.LGBMRanker(\n",
        "    task=\"train\",\n",
        "    silent=False,\n",
        "    min_data_in_leaf=1,\n",
        "    min_sum_hessian_in_leaf=1,\n",
        "    max_bin=255,\n",
        "    num_leaves=31,\n",
        "    objective=\"lambdarank\",\n",
        "    metric=\"ndcg\",\n",
        "    ndcg_eval_at=[10],\n",
        "    ndcg_at=[10],\n",
        "    eval_at=[10],\n",
        "    learning_rate= .1,\n",
        "    importance_type=\"gain\",\n",
        "    num_iterations=100,\n",
        "    early_stopping_rounds=5\n",
        ")\n",
        "\n",
        "lmart_x_pipe = ltr_feats >> pt.ltr.apply_learned_model(lmart_l, form=\"ltr\", fit_kwargs={'eval_at':[10]})\n",
        "\n",
        "lmart_x_pipe.fit(train_topics, qrels, valid_topics, qrels)"
      ]
    },
    {
      "cell_type": "markdown",
      "id": "cd4e2ca1-b5dd-4efa-a5ba-b3d7ff96e41e",
      "metadata": {
        "id": "cd4e2ca1-b5dd-4efa-a5ba-b3d7ff96e41e"
      },
      "source": [
        "### Evaluation\n",
        "\n",
        "Lets now compare our ranking pipelines on our 15 topics with the BM25 baseline.\n",
        "\n",
        "We'll report MAP, NDCG measures."
      ]
    },
    {
      "cell_type": "code",
      "execution_count": null,
      "id": "d679e187-5ee5-4317-a33e-3987be34fd01",
      "metadata": {
        "id": "d679e187-5ee5-4317-a33e-3987be34fd01"
      },
      "outputs": [],
      "source": [
        "pt.Experiment(\n",
        "    [bm25 % RANK_CUTOFF, lr_pipe, rf_pipe, lmart_x_pipe],\n",
        "    test_topics,\n",
        "    qrels,\n",
        "    names=[\"BM25\",  \"BM25 + LinearRegression\", \"BM25 + RandomForest\", \"BM25 + LambdaMART\"],\n",
        "    eval_metrics=[\"map\", \"ndcg\"]\n",
        ")"
      ]
    },
    {
      "cell_type": "markdown",
      "id": "eb37d682-775a-490c-9fc9-2d4dcc86b374",
      "metadata": {
        "id": "eb37d682-775a-490c-9fc9-2d4dcc86b374"
      },
      "source": [
        "The non-linear regression model produced the best results"
      ]
    },
    {
      "cell_type": "markdown",
      "id": "72d55188-67d2-4756-8266-801dd5ecd707",
      "metadata": {
        "id": "72d55188-67d2-4756-8266-801dd5ecd707"
      },
      "source": [
        "### Analysis\n",
        "\n",
        "We can also analyze our learned models to understand the role of the different features we are using.\n",
        "\n",
        "One way to do this analysis is to plot feature weights or importance from the different learned models. For the Linear Regression model, we plot the feature weights, while for the Random Forest and LambdaMART we report the feature importance."
      ]
    },
    {
      "cell_type": "code",
      "execution_count": null,
      "id": "f82e7673-bd05-40ac-8520-4d995e2fc756",
      "metadata": {
        "id": "f82e7673-bd05-40ac-8520-4d995e2fc756"
      },
      "outputs": [],
      "source": [
        "import numpy as np\n",
        "from matplotlib import pyplot as plt\n",
        "\n",
        "# Create figure\n",
        "fig, (ax0, ax1, ax2) = plt.subplots(1, 3, figsize=(12, 8))\n",
        "\n",
        "# Plot Linear Regression model weights\n",
        "ax0.bar(np.arange(len(fnames)), lr.coef_)\n",
        "ax0.set_xticks(np.arange(len(fnames)))\n",
        "ax0.set_xticklabels(fnames, rotation=45, ha='right')\n",
        "ax0.set_title(\"Linear Regression\")\n",
        "ax0.set_ylabel(\"Feature Weights\")\n",
        "# Plot Random Forest feature importance\n",
        "ax1.bar(np.arange(len(fnames)), rf.feature_importances_)\n",
        "ax1.set_xticks(np.arange(len(fnames)))\n",
        "ax1.set_xticklabels(fnames, rotation=45, ha='right')\n",
        "ax1.set_title(\"Random Forest\")\n",
        "ax1.set_ylabel(\"Feature Importance\")\n",
        "# Plot LmbdaMART feature importance\n",
        "ax2.bar(np.arange(len(fnames)), lmart_l.feature_importances_)\n",
        "ax2.set_xticks(np.arange(len(fnames)))\n",
        "ax2.set_xticklabels(fnames, rotation=45, ha='right')\n",
        "ax2.set_title(\"$\\lambda$MART\")\n",
        "ax2.set_ylabel(\"Feature Importance\")\n",
        "\n",
        "# Display figure\n",
        "plt.tight_layout()\n",
        "plt.show()\n"
      ]
    },
    {
      "cell_type": "code",
      "source": [],
      "metadata": {
        "id": "dlwy5-BV1upE"
      },
      "id": "dlwy5-BV1upE",
      "execution_count": null,
      "outputs": []
    }
  ],
  "metadata": {
    "kernelspec": {
      "display_name": "Python 3 (ipykernel)",
      "language": "python",
      "name": "python3"
    },
    "language_info": {
      "codemirror_mode": {
        "name": "ipython",
        "version": 3
      },
      "file_extension": ".py",
      "mimetype": "text/x-python",
      "name": "python",
      "nbconvert_exporter": "python",
      "pygments_lexer": "ipython3",
      "version": "3.7.13"
    },
    "colab": {
      "provenance": [],
      "toc_visible": true,
      "collapsed_sections": [
        "GjtC5XV9H_t4",
        "B_U4wCXnIjMI"
      ],
      "include_colab_link": true
    },
    "widgets": {
      "application/vnd.jupyter.widget-state+json": {
        "f2df197a5d244041a082cf95f5b8618f": {
          "model_module": "@jupyter-widgets/controls",
          "model_name": "HBoxModel",
          "model_module_version": "1.5.0",
          "state": {
            "_dom_classes": [],
            "_model_module": "@jupyter-widgets/controls",
            "_model_module_version": "1.5.0",
            "_model_name": "HBoxModel",
            "_view_count": null,
            "_view_module": "@jupyter-widgets/controls",
            "_view_module_version": "1.5.0",
            "_view_name": "HBoxView",
            "box_style": "",
            "children": [
              "IPY_MODEL_48a44796c6b94e019900c68833d1b6dc",
              "IPY_MODEL_bd2548e61a624de795920ce1234ff24f",
              "IPY_MODEL_49aaf6a46b3d4d909c3e65409137a7af"
            ],
            "layout": "IPY_MODEL_ee5820656c6a45698ad8034d5fcf45a8"
          }
        },
        "48a44796c6b94e019900c68833d1b6dc": {
          "model_module": "@jupyter-widgets/controls",
          "model_name": "HTMLModel",
          "model_module_version": "1.5.0",
          "state": {
            "_dom_classes": [],
            "_model_module": "@jupyter-widgets/controls",
            "_model_module_version": "1.5.0",
            "_model_name": "HTMLModel",
            "_view_count": null,
            "_view_module": "@jupyter-widgets/controls",
            "_view_module_version": "1.5.0",
            "_view_name": "HTMLView",
            "description": "",
            "description_tooltip": null,
            "layout": "IPY_MODEL_9f78cc81a5f440ffa2d4b6830c4aeeb3",
            "placeholder": "​",
            "style": "IPY_MODEL_82eff3dedf0a4f2a8ab223bd00148f5a",
            "value": "cord19/trec-covid documents: 100%"
          }
        },
        "bd2548e61a624de795920ce1234ff24f": {
          "model_module": "@jupyter-widgets/controls",
          "model_name": "FloatProgressModel",
          "model_module_version": "1.5.0",
          "state": {
            "_dom_classes": [],
            "_model_module": "@jupyter-widgets/controls",
            "_model_module_version": "1.5.0",
            "_model_name": "FloatProgressModel",
            "_view_count": null,
            "_view_module": "@jupyter-widgets/controls",
            "_view_module_version": "1.5.0",
            "_view_name": "ProgressView",
            "bar_style": "success",
            "description": "",
            "description_tooltip": null,
            "layout": "IPY_MODEL_56d12021ff4d418d9f20d24fecc55178",
            "max": 192509,
            "min": 0,
            "orientation": "horizontal",
            "style": "IPY_MODEL_2014706c8b7846a184c70ec72e5954be",
            "value": 192509
          }
        },
        "49aaf6a46b3d4d909c3e65409137a7af": {
          "model_module": "@jupyter-widgets/controls",
          "model_name": "HTMLModel",
          "model_module_version": "1.5.0",
          "state": {
            "_dom_classes": [],
            "_model_module": "@jupyter-widgets/controls",
            "_model_module_version": "1.5.0",
            "_model_name": "HTMLModel",
            "_view_count": null,
            "_view_module": "@jupyter-widgets/controls",
            "_view_module_version": "1.5.0",
            "_view_name": "HTMLView",
            "description": "",
            "description_tooltip": null,
            "layout": "IPY_MODEL_d112c3895f44426295cf36ebfb6e8410",
            "placeholder": "​",
            "style": "IPY_MODEL_c063bc2205e244949bd682d275b689e7",
            "value": " 192509/192509 [01:18&lt;00:00, 3263.82it/s]"
          }
        },
        "ee5820656c6a45698ad8034d5fcf45a8": {
          "model_module": "@jupyter-widgets/base",
          "model_name": "LayoutModel",
          "model_module_version": "1.2.0",
          "state": {
            "_model_module": "@jupyter-widgets/base",
            "_model_module_version": "1.2.0",
            "_model_name": "LayoutModel",
            "_view_count": null,
            "_view_module": "@jupyter-widgets/base",
            "_view_module_version": "1.2.0",
            "_view_name": "LayoutView",
            "align_content": null,
            "align_items": null,
            "align_self": null,
            "border": null,
            "bottom": null,
            "display": null,
            "flex": null,
            "flex_flow": null,
            "grid_area": null,
            "grid_auto_columns": null,
            "grid_auto_flow": null,
            "grid_auto_rows": null,
            "grid_column": null,
            "grid_gap": null,
            "grid_row": null,
            "grid_template_areas": null,
            "grid_template_columns": null,
            "grid_template_rows": null,
            "height": null,
            "justify_content": null,
            "justify_items": null,
            "left": null,
            "margin": null,
            "max_height": null,
            "max_width": null,
            "min_height": null,
            "min_width": null,
            "object_fit": null,
            "object_position": null,
            "order": null,
            "overflow": null,
            "overflow_x": null,
            "overflow_y": null,
            "padding": null,
            "right": null,
            "top": null,
            "visibility": null,
            "width": null
          }
        },
        "9f78cc81a5f440ffa2d4b6830c4aeeb3": {
          "model_module": "@jupyter-widgets/base",
          "model_name": "LayoutModel",
          "model_module_version": "1.2.0",
          "state": {
            "_model_module": "@jupyter-widgets/base",
            "_model_module_version": "1.2.0",
            "_model_name": "LayoutModel",
            "_view_count": null,
            "_view_module": "@jupyter-widgets/base",
            "_view_module_version": "1.2.0",
            "_view_name": "LayoutView",
            "align_content": null,
            "align_items": null,
            "align_self": null,
            "border": null,
            "bottom": null,
            "display": null,
            "flex": null,
            "flex_flow": null,
            "grid_area": null,
            "grid_auto_columns": null,
            "grid_auto_flow": null,
            "grid_auto_rows": null,
            "grid_column": null,
            "grid_gap": null,
            "grid_row": null,
            "grid_template_areas": null,
            "grid_template_columns": null,
            "grid_template_rows": null,
            "height": null,
            "justify_content": null,
            "justify_items": null,
            "left": null,
            "margin": null,
            "max_height": null,
            "max_width": null,
            "min_height": null,
            "min_width": null,
            "object_fit": null,
            "object_position": null,
            "order": null,
            "overflow": null,
            "overflow_x": null,
            "overflow_y": null,
            "padding": null,
            "right": null,
            "top": null,
            "visibility": null,
            "width": null
          }
        },
        "82eff3dedf0a4f2a8ab223bd00148f5a": {
          "model_module": "@jupyter-widgets/controls",
          "model_name": "DescriptionStyleModel",
          "model_module_version": "1.5.0",
          "state": {
            "_model_module": "@jupyter-widgets/controls",
            "_model_module_version": "1.5.0",
            "_model_name": "DescriptionStyleModel",
            "_view_count": null,
            "_view_module": "@jupyter-widgets/base",
            "_view_module_version": "1.2.0",
            "_view_name": "StyleView",
            "description_width": ""
          }
        },
        "56d12021ff4d418d9f20d24fecc55178": {
          "model_module": "@jupyter-widgets/base",
          "model_name": "LayoutModel",
          "model_module_version": "1.2.0",
          "state": {
            "_model_module": "@jupyter-widgets/base",
            "_model_module_version": "1.2.0",
            "_model_name": "LayoutModel",
            "_view_count": null,
            "_view_module": "@jupyter-widgets/base",
            "_view_module_version": "1.2.0",
            "_view_name": "LayoutView",
            "align_content": null,
            "align_items": null,
            "align_self": null,
            "border": null,
            "bottom": null,
            "display": null,
            "flex": null,
            "flex_flow": null,
            "grid_area": null,
            "grid_auto_columns": null,
            "grid_auto_flow": null,
            "grid_auto_rows": null,
            "grid_column": null,
            "grid_gap": null,
            "grid_row": null,
            "grid_template_areas": null,
            "grid_template_columns": null,
            "grid_template_rows": null,
            "height": null,
            "justify_content": null,
            "justify_items": null,
            "left": null,
            "margin": null,
            "max_height": null,
            "max_width": null,
            "min_height": null,
            "min_width": null,
            "object_fit": null,
            "object_position": null,
            "order": null,
            "overflow": null,
            "overflow_x": null,
            "overflow_y": null,
            "padding": null,
            "right": null,
            "top": null,
            "visibility": null,
            "width": null
          }
        },
        "2014706c8b7846a184c70ec72e5954be": {
          "model_module": "@jupyter-widgets/controls",
          "model_name": "ProgressStyleModel",
          "model_module_version": "1.5.0",
          "state": {
            "_model_module": "@jupyter-widgets/controls",
            "_model_module_version": "1.5.0",
            "_model_name": "ProgressStyleModel",
            "_view_count": null,
            "_view_module": "@jupyter-widgets/base",
            "_view_module_version": "1.2.0",
            "_view_name": "StyleView",
            "bar_color": null,
            "description_width": ""
          }
        },
        "d112c3895f44426295cf36ebfb6e8410": {
          "model_module": "@jupyter-widgets/base",
          "model_name": "LayoutModel",
          "model_module_version": "1.2.0",
          "state": {
            "_model_module": "@jupyter-widgets/base",
            "_model_module_version": "1.2.0",
            "_model_name": "LayoutModel",
            "_view_count": null,
            "_view_module": "@jupyter-widgets/base",
            "_view_module_version": "1.2.0",
            "_view_name": "LayoutView",
            "align_content": null,
            "align_items": null,
            "align_self": null,
            "border": null,
            "bottom": null,
            "display": null,
            "flex": null,
            "flex_flow": null,
            "grid_area": null,
            "grid_auto_columns": null,
            "grid_auto_flow": null,
            "grid_auto_rows": null,
            "grid_column": null,
            "grid_gap": null,
            "grid_row": null,
            "grid_template_areas": null,
            "grid_template_columns": null,
            "grid_template_rows": null,
            "height": null,
            "justify_content": null,
            "justify_items": null,
            "left": null,
            "margin": null,
            "max_height": null,
            "max_width": null,
            "min_height": null,
            "min_width": null,
            "object_fit": null,
            "object_position": null,
            "order": null,
            "overflow": null,
            "overflow_x": null,
            "overflow_y": null,
            "padding": null,
            "right": null,
            "top": null,
            "visibility": null,
            "width": null
          }
        },
        "c063bc2205e244949bd682d275b689e7": {
          "model_module": "@jupyter-widgets/controls",
          "model_name": "DescriptionStyleModel",
          "model_module_version": "1.5.0",
          "state": {
            "_model_module": "@jupyter-widgets/controls",
            "_model_module_version": "1.5.0",
            "_model_name": "DescriptionStyleModel",
            "_view_count": null,
            "_view_module": "@jupyter-widgets/base",
            "_view_module_version": "1.2.0",
            "_view_name": "StyleView",
            "description_width": ""
          }
        }
      }
    }
  },
  "nbformat": 4,
  "nbformat_minor": 5
}